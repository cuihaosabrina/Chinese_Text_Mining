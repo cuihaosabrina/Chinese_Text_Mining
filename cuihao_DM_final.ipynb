{
 "cells": [
  {
   "cell_type": "markdown",
   "metadata": {},
   "source": [
    "<div class=\"frontmatter text-center\">\n",
    "<h1> DNDS 6005:Data Mining and Big Data Analytics</h1>\n",
    "<h2>Final project: Detecting Spammers in Chinese Microblog Sina Weibo</h2>\n",
    "<h3>Central European University, Winter 2018/2019</h3>\n",
    "<h3>Name: Hao CUI</h3>\n",
    "</div>"
   ]
  },
  {
   "cell_type": "code",
   "execution_count": 4,
   "metadata": {},
   "outputs": [],
   "source": [
    "import pandas as pd\n",
    "import numpy as np\n",
    "import codecs\n",
    "import networkx as nx\n",
    "import matplotlib.pyplot as plt\n",
    "import jieba\n",
    "import jieba.posseg as pseg\n",
    "#import os\n",
    "#import sys\n",
    "from sklearn import feature_extraction\n",
    "from sklearn.preprocessing import LabelEncoder\n",
    "from sklearn.feature_extraction.text import TfidfVectorizer\n",
    "from sklearn.feature_extraction.text import CountVectorizer\n",
    "from sklearn.model_selection import train_test_split\n",
    "from sklearn.model_selection import cross_val_score\n",
    "from sklearn.tree import DecisionTreeClassifier\n",
    "from sklearn.svm import SVC\n",
    "from sklearn.svm import LinearSVC\n",
    "from sklearn.neighbors import KNeighborsClassifier\n",
    "from sklearn.preprocessing import StandardScaler, RobustScaler, MinMaxScaler\n",
    "from sklearn.ensemble import RandomForestClassifier, AdaBoostClassifier"
   ]
  },
  {
   "cell_type": "markdown",
   "metadata": {},
   "source": [
    "### Read in the follower_followee.csv, with 'gbk' encoding as df1."
   ]
  },
  {
   "cell_type": "code",
   "execution_count": 5,
   "metadata": {},
   "outputs": [],
   "source": [
    "df1=pd.read_csv(\"follower_followee.csv\", encoding='gbk')"
   ]
  },
  {
   "cell_type": "code",
   "execution_count": 6,
   "metadata": {},
   "outputs": [
    {
     "data": {
      "text/html": [
       "<div>\n",
       "<style scoped>\n",
       "    .dataframe tbody tr th:only-of-type {\n",
       "        vertical-align: middle;\n",
       "    }\n",
       "\n",
       "    .dataframe tbody tr th {\n",
       "        vertical-align: top;\n",
       "    }\n",
       "\n",
       "    .dataframe thead th {\n",
       "        text-align: right;\n",
       "    }\n",
       "</style>\n",
       "<table border=\"1\" class=\"dataframe\">\n",
       "  <thead>\n",
       "    <tr style=\"text-align: right;\">\n",
       "      <th></th>\n",
       "      <th>id</th>\n",
       "      <th>follower</th>\n",
       "      <th>follower_id</th>\n",
       "      <th>followee</th>\n",
       "      <th>followee_id</th>\n",
       "      <th>guanzhu</th>\n",
       "      <th>fensi</th>\n",
       "      <th>post_num</th>\n",
       "      <th>gender</th>\n",
       "      <th>first_or_last</th>\n",
       "    </tr>\n",
       "  </thead>\n",
       "  <tbody>\n",
       "    <tr>\n",
       "      <th>142363</th>\n",
       "      <td>311633</td>\n",
       "      <td>中国神盾</td>\n",
       "      <td>1807972150</td>\n",
       "      <td>陆濛</td>\n",
       "      <td>1933466191</td>\n",
       "      <td>724</td>\n",
       "      <td>286</td>\n",
       "      <td>796</td>\n",
       "      <td>male</td>\n",
       "      <td>first</td>\n",
       "    </tr>\n",
       "    <tr>\n",
       "      <th>142364</th>\n",
       "      <td>311634</td>\n",
       "      <td>南极章鱼松千代素</td>\n",
       "      <td>5268087406</td>\n",
       "      <td>陆濛</td>\n",
       "      <td>1933466191</td>\n",
       "      <td>166</td>\n",
       "      <td>178</td>\n",
       "      <td>661</td>\n",
       "      <td>female</td>\n",
       "      <td>first</td>\n",
       "    </tr>\n",
       "    <tr>\n",
       "      <th>142365</th>\n",
       "      <td>311635</td>\n",
       "      <td>人海尽头123</td>\n",
       "      <td>5103935052</td>\n",
       "      <td>陆濛</td>\n",
       "      <td>1933466191</td>\n",
       "      <td>113</td>\n",
       "      <td>10</td>\n",
       "      <td>242</td>\n",
       "      <td>male</td>\n",
       "      <td>first</td>\n",
       "    </tr>\n",
       "    <tr>\n",
       "      <th>142366</th>\n",
       "      <td>311636</td>\n",
       "      <td>三戒三三三</td>\n",
       "      <td>1946057551</td>\n",
       "      <td>陆濛</td>\n",
       "      <td>1933466191</td>\n",
       "      <td>983</td>\n",
       "      <td>1039060</td>\n",
       "      <td>2878</td>\n",
       "      <td>male</td>\n",
       "      <td>first</td>\n",
       "    </tr>\n",
       "    <tr>\n",
       "      <th>142367</th>\n",
       "      <td>311637</td>\n",
       "      <td>体香女生</td>\n",
       "      <td>3612353947</td>\n",
       "      <td>陆濛</td>\n",
       "      <td>1933466191</td>\n",
       "      <td>84</td>\n",
       "      <td>132602</td>\n",
       "      <td>129</td>\n",
       "      <td>female</td>\n",
       "      <td>first</td>\n",
       "    </tr>\n",
       "  </tbody>\n",
       "</table>\n",
       "</div>"
      ],
      "text/plain": [
       "            id  follower  follower_id followee followee_id  guanzhu    fensi  \\\n",
       "142363  311633      中国神盾   1807972150       陆濛  1933466191      724      286   \n",
       "142364  311634  南极章鱼松千代素   5268087406       陆濛  1933466191      166      178   \n",
       "142365  311635   人海尽头123   5103935052       陆濛  1933466191      113       10   \n",
       "142366  311636     三戒三三三   1946057551       陆濛  1933466191      983  1039060   \n",
       "142367  311637      体香女生   3612353947       陆濛  1933466191       84   132602   \n",
       "\n",
       "        post_num  gender first_or_last  \n",
       "142363       796    male         first  \n",
       "142364       661  female         first  \n",
       "142365       242    male         first  \n",
       "142366      2878    male         first  \n",
       "142367       129  female         first  "
      ]
     },
     "execution_count": 6,
     "metadata": {},
     "output_type": "execute_result"
    }
   ],
   "source": [
    "df1.tail()"
   ]
  },
  {
   "cell_type": "markdown",
   "metadata": {},
   "source": [
    "#### Check the null values in the dataframe."
   ]
  },
  {
   "cell_type": "code",
   "execution_count": 7,
   "metadata": {},
   "outputs": [
    {
     "data": {
      "text/plain": [
       "id                 0\n",
       "follower         110\n",
       "follower_id        0\n",
       "followee          74\n",
       "followee_id        0\n",
       "guanzhu            0\n",
       "fensi              0\n",
       "post_num           0\n",
       "gender             0\n",
       "first_or_last      0\n",
       "dtype: int64"
      ]
     },
     "execution_count": 7,
     "metadata": {},
     "output_type": "execute_result"
    }
   ],
   "source": [
    "df1.isnull().sum()"
   ]
  },
  {
   "cell_type": "markdown",
   "metadata": {},
   "source": [
    "#### Check the dimension of df1."
   ]
  },
  {
   "cell_type": "code",
   "execution_count": 5,
   "metadata": {},
   "outputs": [
    {
     "data": {
      "text/plain": [
       "(142368, 10)"
      ]
     },
     "execution_count": 5,
     "metadata": {},
     "output_type": "execute_result"
    }
   ],
   "source": [
    "df1.shape"
   ]
  },
  {
   "cell_type": "markdown",
   "metadata": {},
   "source": [
    "### Read in the post.csv with 'gb2312' encoding as df2."
   ]
  },
  {
   "cell_type": "code",
   "execution_count": 49,
   "metadata": {},
   "outputs": [],
   "source": [
    "df2=pd.read_csv(r\"post.csv\",encoding='gb2312')"
   ]
  },
  {
   "cell_type": "code",
   "execution_count": 50,
   "metadata": {},
   "outputs": [
    {
     "data": {
      "text/html": [
       "<div>\n",
       "<style scoped>\n",
       "    .dataframe tbody tr th:only-of-type {\n",
       "        vertical-align: middle;\n",
       "    }\n",
       "\n",
       "    .dataframe tbody tr th {\n",
       "        vertical-align: top;\n",
       "    }\n",
       "\n",
       "    .dataframe thead th {\n",
       "        text-align: right;\n",
       "    }\n",
       "</style>\n",
       "<table border=\"1\" class=\"dataframe\">\n",
       "  <thead>\n",
       "    <tr style=\"text-align: right;\">\n",
       "      <th></th>\n",
       "      <th>post_id</th>\n",
       "      <th>scratch_time</th>\n",
       "      <th>post_time</th>\n",
       "      <th>content</th>\n",
       "      <th>image</th>\n",
       "      <th>poster</th>\n",
       "      <th>poster_id</th>\n",
       "      <th>poster_url</th>\n",
       "      <th>repost_num</th>\n",
       "      <th>comment_num</th>\n",
       "      <th>repost_post_id</th>\n",
       "    </tr>\n",
       "  </thead>\n",
       "  <tbody>\n",
       "    <tr>\n",
       "      <th>0</th>\n",
       "      <td>3.777580e+15</td>\n",
       "      <td>2014/11/17 10:30</td>\n",
       "      <td>2014/11/16 16:45</td>\n",
       "      <td>爆美来袭独家实拍质量看的见招微信代理一件代发专卖国际品牌名鞋品质赢得市场诚信赚得人心V信：a...</td>\n",
       "      <td>http://tp1.sinaimg.cn/2364770064/50/22844411852/1</td>\n",
       "      <td>新百伦商城</td>\n",
       "      <td>2364770064</td>\n",
       "      <td>http://weibo.com/527loveyou</td>\n",
       "      <td>0</td>\n",
       "      <td>0</td>\n",
       "      <td>NaN</td>\n",
       "    </tr>\n",
       "    <tr>\n",
       "      <th>1</th>\n",
       "      <td>3.777620e+15</td>\n",
       "      <td>2014/11/17 15:45</td>\n",
       "      <td>2014/11/16 19:58</td>\n",
       "      <td>【奥汀羽酵素反馈】效果不好也不会卖这么好。正常吃饭，不用节食，不用运动，健康绿色没有副作用。...</td>\n",
       "      <td>http://tp3.sinaimg.cn/2346769694/50/5704078058/0</td>\n",
       "      <td>孚禾静静_</td>\n",
       "      <td>2346769694</td>\n",
       "      <td>http://weibo.com/206445959</td>\n",
       "      <td>0</td>\n",
       "      <td>0</td>\n",
       "      <td>NaN</td>\n",
       "    </tr>\n",
       "    <tr>\n",
       "      <th>2</th>\n",
       "      <td>3.777620e+15</td>\n",
       "      <td>2014/11/17 20:08</td>\n",
       "      <td>2014/11/16 19:58</td>\n",
       "      <td>我有话说【世界最穷总统拒绝酋长高价收购其老旧座驾】共产党员？http://t.cn/RzvUwBM</td>\n",
       "      <td>http://tp2.sinaimg.cn/2747799853/50/0/1</td>\n",
       "      <td>IT经济学</td>\n",
       "      <td>2747799853</td>\n",
       "      <td>http://weibo.com/u/2747799853</td>\n",
       "      <td>0</td>\n",
       "      <td>0</td>\n",
       "      <td>NaN</td>\n",
       "    </tr>\n",
       "    <tr>\n",
       "      <th>3</th>\n",
       "      <td>3.777620e+15</td>\n",
       "      <td>2014/11/17 20:08</td>\n",
       "      <td>2014/11/16 19:57</td>\n",
       "      <td>【蚕丝皂】吸附黑头的能力一级棒，清洁不选它是你没眼光[撇嘴][撇嘴]西游记申请吉尼斯百元哥被...</td>\n",
       "      <td>http://tp3.sinaimg.cn/2346769694/50/5704078058/0</td>\n",
       "      <td>孚禾静静_</td>\n",
       "      <td>2346769694</td>\n",
       "      <td>http://weibo.com/206445959</td>\n",
       "      <td>0</td>\n",
       "      <td>0</td>\n",
       "      <td>NaN</td>\n",
       "    </tr>\n",
       "    <tr>\n",
       "      <th>4</th>\n",
       "      <td>3.777620e+15</td>\n",
       "      <td>2014/11/17 20:09</td>\n",
       "      <td>2014/11/16 19:57</td>\n",
       "      <td>我活得很好！//【世界最穷总统拒绝酋长高价收购其老旧座驾】http://t.cn/RzvUwDk</td>\n",
       "      <td>http://tp2.sinaimg.cn/5136475477/50/0/1</td>\n",
       "      <td>很久很久58172</td>\n",
       "      <td>5136475477</td>\n",
       "      <td>http://weibo.com/u/5136475477</td>\n",
       "      <td>0</td>\n",
       "      <td>0</td>\n",
       "      <td>NaN</td>\n",
       "    </tr>\n",
       "  </tbody>\n",
       "</table>\n",
       "</div>"
      ],
      "text/plain": [
       "        post_id      scratch_time         post_time  \\\n",
       "0  3.777580e+15  2014/11/17 10:30  2014/11/16 16:45   \n",
       "1  3.777620e+15  2014/11/17 15:45  2014/11/16 19:58   \n",
       "2  3.777620e+15  2014/11/17 20:08  2014/11/16 19:58   \n",
       "3  3.777620e+15  2014/11/17 20:08  2014/11/16 19:57   \n",
       "4  3.777620e+15  2014/11/17 20:09  2014/11/16 19:57   \n",
       "\n",
       "                                             content  \\\n",
       "0  爆美来袭独家实拍质量看的见招微信代理一件代发专卖国际品牌名鞋品质赢得市场诚信赚得人心V信：a...   \n",
       "1  【奥汀羽酵素反馈】效果不好也不会卖这么好。正常吃饭，不用节食，不用运动，健康绿色没有副作用。...   \n",
       "2  我有话说【世界最穷总统拒绝酋长高价收购其老旧座驾】共产党员？http://t.cn/RzvUwBM   \n",
       "3  【蚕丝皂】吸附黑头的能力一级棒，清洁不选它是你没眼光[撇嘴][撇嘴]西游记申请吉尼斯百元哥被...   \n",
       "4   我活得很好！//【世界最穷总统拒绝酋长高价收购其老旧座驾】http://t.cn/RzvUwDk   \n",
       "\n",
       "                                               image     poster   poster_id  \\\n",
       "0  http://tp1.sinaimg.cn/2364770064/50/22844411852/1      新百伦商城  2364770064   \n",
       "1   http://tp3.sinaimg.cn/2346769694/50/5704078058/0      孚禾静静_  2346769694   \n",
       "2            http://tp2.sinaimg.cn/2747799853/50/0/1      IT经济学  2747799853   \n",
       "3   http://tp3.sinaimg.cn/2346769694/50/5704078058/0      孚禾静静_  2346769694   \n",
       "4            http://tp2.sinaimg.cn/5136475477/50/0/1  很久很久58172  5136475477   \n",
       "\n",
       "                      poster_url  repost_num  comment_num  repost_post_id  \n",
       "0    http://weibo.com/527loveyou           0            0             NaN  \n",
       "1     http://weibo.com/206445959           0            0             NaN  \n",
       "2  http://weibo.com/u/2747799853           0            0             NaN  \n",
       "3     http://weibo.com/206445959           0            0             NaN  \n",
       "4  http://weibo.com/u/5136475477           0            0             NaN  "
      ]
     },
     "execution_count": 50,
     "metadata": {},
     "output_type": "execute_result"
    }
   ],
   "source": [
    "df2.head()"
   ]
  },
  {
   "cell_type": "markdown",
   "metadata": {},
   "source": [
    "### Read in the weibo_user.xlsx dataset as df4."
   ]
  },
  {
   "cell_type": "code",
   "execution_count": 8,
   "metadata": {},
   "outputs": [
    {
     "data": {
      "text/html": [
       "<div>\n",
       "<style scoped>\n",
       "    .dataframe tbody tr th:only-of-type {\n",
       "        vertical-align: middle;\n",
       "    }\n",
       "\n",
       "    .dataframe tbody tr th {\n",
       "        vertical-align: top;\n",
       "    }\n",
       "\n",
       "    .dataframe thead th {\n",
       "        text-align: right;\n",
       "    }\n",
       "</style>\n",
       "<table border=\"1\" class=\"dataframe\">\n",
       "  <thead>\n",
       "    <tr style=\"text-align: right;\">\n",
       "      <th></th>\n",
       "      <th>user_id</th>\n",
       "      <th>user_name</th>\n",
       "      <th>user_image</th>\n",
       "      <th>gender</th>\n",
       "      <th>class</th>\n",
       "      <th>message</th>\n",
       "      <th>post_num</th>\n",
       "      <th>follower_num</th>\n",
       "      <th>followee_num</th>\n",
       "      <th>is_spammer</th>\n",
       "    </tr>\n",
       "  </thead>\n",
       "  <tbody>\n",
       "    <tr>\n",
       "      <th>0</th>\n",
       "      <td>1041514813</td>\n",
       "      <td>james1002</td>\n",
       "      <td>http://tp2.sinaimg.cn/1041514813/180/5708899731/1</td>\n",
       "      <td>male</td>\n",
       "      <td>5</td>\n",
       "      <td>Lv.5     浙江宁波   简介：诚信为本，站的高才能看的远。快乐开心每一天。</td>\n",
       "      <td>1557.0</td>\n",
       "      <td>1421.0</td>\n",
       "      <td>2000.0</td>\n",
       "      <td>NaN</td>\n",
       "    </tr>\n",
       "    <tr>\n",
       "      <th>1</th>\n",
       "      <td>1046222077</td>\n",
       "      <td>郑钧</td>\n",
       "      <td>http://tp2.sinaimg.cn/1046222077/180/5711167576/1</td>\n",
       "      <td>male</td>\n",
       "      <td>10</td>\n",
       "      <td>北京东城区   简介：且把悲歌欢唱   个性域名： zhengjun    博客地址： h...</td>\n",
       "      <td>1265.0</td>\n",
       "      <td>1280571.0</td>\n",
       "      <td>130.0</td>\n",
       "      <td>NaN</td>\n",
       "    </tr>\n",
       "    <tr>\n",
       "      <th>2</th>\n",
       "      <td>1049591831</td>\n",
       "      <td>波播阿波思密达</td>\n",
       "      <td>http://tp4.sinaimg.cn/1049591831/180/5710224593/0</td>\n",
       "      <td>female</td>\n",
       "      <td>5</td>\n",
       "      <td>Lv.5     吉林松原   1972年12月3日   简介：自由人，快乐族</td>\n",
       "      <td>503.0</td>\n",
       "      <td>302.0</td>\n",
       "      <td>968.0</td>\n",
       "      <td>NaN</td>\n",
       "    </tr>\n",
       "    <tr>\n",
       "      <th>3</th>\n",
       "      <td>1062050703</td>\n",
       "      <td>霞儿0109</td>\n",
       "      <td>http://tp4.sinaimg.cn/1062050703/180/1277084329/0</td>\n",
       "      <td>female</td>\n",
       "      <td>9</td>\n",
       "      <td>Lv.9     福建厦门    毕业于  厦门大学     公司  ChinaZ站长...</td>\n",
       "      <td>281.0</td>\n",
       "      <td>148.0</td>\n",
       "      <td>354.0</td>\n",
       "      <td>NaN</td>\n",
       "    </tr>\n",
       "    <tr>\n",
       "      <th>4</th>\n",
       "      <td>1071429143</td>\n",
       "      <td>紫荆花_18423</td>\n",
       "      <td>http://tp4.sinaimg.cn/1071429143/180/400610658...</td>\n",
       "      <td>female</td>\n",
       "      <td>5</td>\n",
       "      <td>Lv.5     广东湛江    毕业于  辽宁师范大学     公司  大学教师  ...</td>\n",
       "      <td>135.0</td>\n",
       "      <td>1975.0</td>\n",
       "      <td>2000.0</td>\n",
       "      <td>NaN</td>\n",
       "    </tr>\n",
       "  </tbody>\n",
       "</table>\n",
       "</div>"
      ],
      "text/plain": [
       "      user_id  user_name                                         user_image  \\\n",
       "0  1041514813  james1002  http://tp2.sinaimg.cn/1041514813/180/5708899731/1   \n",
       "1  1046222077         郑钧  http://tp2.sinaimg.cn/1046222077/180/5711167576/1   \n",
       "2  1049591831    波播阿波思密达  http://tp4.sinaimg.cn/1049591831/180/5710224593/0   \n",
       "3  1062050703     霞儿0109  http://tp4.sinaimg.cn/1062050703/180/1277084329/0   \n",
       "4  1071429143  紫荆花_18423  http://tp4.sinaimg.cn/1071429143/180/400610658...   \n",
       "\n",
       "   gender  class                                            message  post_num  \\\n",
       "0    male      5        Lv.5     浙江宁波   简介：诚信为本，站的高才能看的远。快乐开心每一天。      1557.0   \n",
       "1    male     10   北京东城区   简介：且把悲歌欢唱   个性域名： zhengjun    博客地址： h...    1265.0   \n",
       "2  female      5          Lv.5     吉林松原   1972年12月3日   简介：自由人，快乐族       503.0   \n",
       "3  female      9     Lv.9     福建厦门    毕业于  厦门大学     公司  ChinaZ站长...     281.0   \n",
       "4  female      5     Lv.5     广东湛江    毕业于  辽宁师范大学     公司  大学教师  ...     135.0   \n",
       "\n",
       "   follower_num  followee_num  is_spammer  \n",
       "0        1421.0        2000.0         NaN  \n",
       "1     1280571.0         130.0         NaN  \n",
       "2         302.0         968.0         NaN  \n",
       "3         148.0         354.0         NaN  \n",
       "4        1975.0        2000.0         NaN  "
      ]
     },
     "execution_count": 8,
     "metadata": {},
     "output_type": "execute_result"
    }
   ],
   "source": [
    "df4=pd.read_excel(\"weibo_user.xlsx\")\n",
    "df4.head()"
   ]
  },
  {
   "cell_type": "markdown",
   "metadata": {},
   "source": [
    "#### Check the null values in df4. We have noticed that many labels are missing in the original dataset."
   ]
  },
  {
   "cell_type": "code",
   "execution_count": 9,
   "metadata": {},
   "outputs": [
    {
     "data": {
      "text/plain": [
       "user_id           0\n",
       "user_name         2\n",
       "user_image        0\n",
       "gender            0\n",
       "class             0\n",
       "message           1\n",
       "post_num          6\n",
       "follower_num      6\n",
       "followee_num      6\n",
       "is_spammer      603\n",
       "dtype: int64"
      ]
     },
     "execution_count": 9,
     "metadata": {},
     "output_type": "execute_result"
    }
   ],
   "source": [
    "df4.isnull().sum()"
   ]
  },
  {
   "cell_type": "markdown",
   "metadata": {},
   "source": [
    "#### Check the dimension of df4."
   ]
  },
  {
   "cell_type": "code",
   "execution_count": 10,
   "metadata": {},
   "outputs": [
    {
     "data": {
      "text/plain": [
       "(781, 10)"
      ]
     },
     "execution_count": 10,
     "metadata": {},
     "output_type": "execute_result"
    }
   ],
   "source": [
    "df4.shape"
   ]
  },
  {
   "cell_type": "markdown",
   "metadata": {},
   "source": [
    "#### See the gender ratio difference in df4."
   ]
  },
  {
   "cell_type": "code",
   "execution_count": 11,
   "metadata": {},
   "outputs": [
    {
     "data": {
      "text/plain": [
       "female    468\n",
       "male      313\n",
       "Name: gender, dtype: int64"
      ]
     },
     "execution_count": 11,
     "metadata": {},
     "output_type": "execute_result"
    }
   ],
   "source": [
    "df4[\"gender\"].value_counts()"
   ]
  },
  {
   "cell_type": "markdown",
   "metadata": {},
   "source": [
    "#### In the original dataset, is_spammer is manually annotated label, 1 means spammer and -1 means non-spammer;\n",
    "#### Create dataframes of spammers and non-spammers. Check how many are spammers and how many are non-spammers. "
   ]
  },
  {
   "cell_type": "code",
   "execution_count": 12,
   "metadata": {},
   "outputs": [
    {
     "data": {
      "text/plain": [
       "112"
      ]
     },
     "execution_count": 12,
     "metadata": {},
     "output_type": "execute_result"
    }
   ],
   "source": [
    "is_spammer=df4.loc[df4['is_spammer'] == 1.0]\n",
    "len(is_spammer)"
   ]
  },
  {
   "cell_type": "code",
   "execution_count": 13,
   "metadata": {},
   "outputs": [
    {
     "data": {
      "text/plain": [
       "66"
      ]
     },
     "execution_count": 13,
     "metadata": {},
     "output_type": "execute_result"
    }
   ],
   "source": [
    "not_spammer=df4.loc[df4['is_spammer'] == -1.0]\n",
    "len(not_spammer)"
   ]
  },
  {
   "cell_type": "code",
   "execution_count": 448,
   "metadata": {},
   "outputs": [
    {
     "data": {
      "text/html": [
       "<div>\n",
       "<style scoped>\n",
       "    .dataframe tbody tr th:only-of-type {\n",
       "        vertical-align: middle;\n",
       "    }\n",
       "\n",
       "    .dataframe tbody tr th {\n",
       "        vertical-align: top;\n",
       "    }\n",
       "\n",
       "    .dataframe thead th {\n",
       "        text-align: right;\n",
       "    }\n",
       "</style>\n",
       "<table border=\"1\" class=\"dataframe\">\n",
       "  <thead>\n",
       "    <tr style=\"text-align: right;\">\n",
       "      <th></th>\n",
       "      <th>user_id</th>\n",
       "      <th>user_name</th>\n",
       "      <th>user_image</th>\n",
       "      <th>gender</th>\n",
       "      <th>class</th>\n",
       "      <th>message</th>\n",
       "      <th>post_num</th>\n",
       "      <th>follower_num</th>\n",
       "      <th>followee_num</th>\n",
       "      <th>is_spammer</th>\n",
       "    </tr>\n",
       "  </thead>\n",
       "  <tbody>\n",
       "    <tr>\n",
       "      <th>11</th>\n",
       "      <td>1195264701</td>\n",
       "      <td>双双留头发</td>\n",
       "      <td>http://tp2.sinaimg.cn/1195264701/180/5692904347/0</td>\n",
       "      <td>female</td>\n",
       "      <td>9</td>\n",
       "      <td>Lv.9     北京东城区   12月16日   简介：可爱温柔的幼儿园老师！</td>\n",
       "      <td>603.0</td>\n",
       "      <td>141.0</td>\n",
       "      <td>392.0</td>\n",
       "      <td>1.0</td>\n",
       "    </tr>\n",
       "    <tr>\n",
       "      <th>48</th>\n",
       "      <td>1402869242</td>\n",
       "      <td>智者钓鱼</td>\n",
       "      <td>http://tp3.sinaimg.cn/1402869242/180/5652278099/1</td>\n",
       "      <td>male</td>\n",
       "      <td>5</td>\n",
       "      <td>Lv.5     北京朝阳区    标签  汽车  IT数码  新闻资讯  旅游  时...</td>\n",
       "      <td>149.0</td>\n",
       "      <td>463.0</td>\n",
       "      <td>952.0</td>\n",
       "      <td>1.0</td>\n",
       "    </tr>\n",
       "    <tr>\n",
       "      <th>50</th>\n",
       "      <td>1465128481</td>\n",
       "      <td>gtg合恒浩yr</td>\n",
       "      <td>http://tp2.sinaimg.cn/1465128481/180/5646037674/1</td>\n",
       "      <td>male</td>\n",
       "      <td>0</td>\n",
       "      <td>Lv.0     其他</td>\n",
       "      <td>33.0</td>\n",
       "      <td>208.0</td>\n",
       "      <td>1833.0</td>\n",
       "      <td>1.0</td>\n",
       "    </tr>\n",
       "    <tr>\n",
       "      <th>51</th>\n",
       "      <td>1487256502</td>\n",
       "      <td>窜撒呀布拉格</td>\n",
       "      <td>http://tp3.sinaimg.cn/1487256502/180/5633968341/1</td>\n",
       "      <td>male</td>\n",
       "      <td>6</td>\n",
       "      <td>Lv.6     广东东莞   1993年12月22日   简介：能去理性面对ba.....</td>\n",
       "      <td>557.0</td>\n",
       "      <td>60.0</td>\n",
       "      <td>1528.0</td>\n",
       "      <td>1.0</td>\n",
       "    </tr>\n",
       "    <tr>\n",
       "      <th>72</th>\n",
       "      <td>1638396745</td>\n",
       "      <td>一浅浅一000</td>\n",
       "      <td>http://tp2.sinaimg.cn/1638396745/180/5708155126/0</td>\n",
       "      <td>female</td>\n",
       "      <td>1</td>\n",
       "      <td>Lv.1     其他</td>\n",
       "      <td>107.0</td>\n",
       "      <td>160.0</td>\n",
       "      <td>916.0</td>\n",
       "      <td>1.0</td>\n",
       "    </tr>\n",
       "  </tbody>\n",
       "</table>\n",
       "</div>"
      ],
      "text/plain": [
       "       user_id user_name                                         user_image  \\\n",
       "11  1195264701     双双留头发  http://tp2.sinaimg.cn/1195264701/180/5692904347/0   \n",
       "48  1402869242      智者钓鱼  http://tp3.sinaimg.cn/1402869242/180/5652278099/1   \n",
       "50  1465128481  gtg合恒浩yr  http://tp2.sinaimg.cn/1465128481/180/5646037674/1   \n",
       "51  1487256502    窜撒呀布拉格  http://tp3.sinaimg.cn/1487256502/180/5633968341/1   \n",
       "72  1638396745   一浅浅一000  http://tp2.sinaimg.cn/1638396745/180/5708155126/0   \n",
       "\n",
       "    gender  class                                            message  \\\n",
       "11  female      9         Lv.9     北京东城区   12月16日   简介：可爱温柔的幼儿园老师！     \n",
       "48    male      5     Lv.5     北京朝阳区    标签  汽车  IT数码  新闻资讯  旅游  时...   \n",
       "50    male      0                                      Lv.0     其他     \n",
       "51    male      6     Lv.6     广东东莞   1993年12月22日   简介：能去理性面对ba.....   \n",
       "72  female      1                                      Lv.1     其他     \n",
       "\n",
       "    post_num  follower_num  followee_num  is_spammer  \n",
       "11     603.0         141.0         392.0         1.0  \n",
       "48     149.0         463.0         952.0         1.0  \n",
       "50      33.0         208.0        1833.0         1.0  \n",
       "51     557.0          60.0        1528.0         1.0  \n",
       "72     107.0         160.0         916.0         1.0  "
      ]
     },
     "execution_count": 448,
     "metadata": {},
     "output_type": "execute_result"
    }
   ],
   "source": [
    "is_spammer.head()"
   ]
  },
  {
   "cell_type": "markdown",
   "metadata": {},
   "source": [
    "#### Check the gender difference in the spammer dataframe."
   ]
  },
  {
   "cell_type": "code",
   "execution_count": 14,
   "metadata": {},
   "outputs": [
    {
     "data": {
      "text/plain": [
       "female    81\n",
       "male      31\n",
       "Name: gender, dtype: int64"
      ]
     },
     "execution_count": 14,
     "metadata": {},
     "output_type": "execute_result"
    }
   ],
   "source": [
    "is_spammer[\"gender\"].value_counts()"
   ]
  },
  {
   "cell_type": "markdown",
   "metadata": {},
   "source": [
    "#### Check the class distribution of the spammers."
   ]
  },
  {
   "cell_type": "code",
   "execution_count": 48,
   "metadata": {},
   "outputs": [
    {
     "data": {
      "text/plain": [
       "3    21\n",
       "2    21\n",
       "4    13\n",
       "1    13\n",
       "5    11\n",
       "7    10\n",
       "0    10\n",
       "6     8\n",
       "9     3\n",
       "8     2\n",
       "Name: class, dtype: int64"
      ]
     },
     "execution_count": 48,
     "metadata": {},
     "output_type": "execute_result"
    }
   ],
   "source": [
    "is_spammer[\"class\"].value_counts()"
   ]
  },
  {
   "cell_type": "code",
   "execution_count": 15,
   "metadata": {},
   "outputs": [
    {
     "data": {
      "text/plain": [
       "2.6129032258064515"
      ]
     },
     "execution_count": 15,
     "metadata": {},
     "output_type": "execute_result"
    }
   ],
   "source": [
    "81/31 #2.6129032258064515"
   ]
  },
  {
   "cell_type": "markdown",
   "metadata": {},
   "source": [
    "#### Dataframe of non-spammers."
   ]
  },
  {
   "cell_type": "code",
   "execution_count": 16,
   "metadata": {
    "scrolled": true
   },
   "outputs": [
    {
     "data": {
      "text/html": [
       "<div>\n",
       "<style scoped>\n",
       "    .dataframe tbody tr th:only-of-type {\n",
       "        vertical-align: middle;\n",
       "    }\n",
       "\n",
       "    .dataframe tbody tr th {\n",
       "        vertical-align: top;\n",
       "    }\n",
       "\n",
       "    .dataframe thead th {\n",
       "        text-align: right;\n",
       "    }\n",
       "</style>\n",
       "<table border=\"1\" class=\"dataframe\">\n",
       "  <thead>\n",
       "    <tr style=\"text-align: right;\">\n",
       "      <th></th>\n",
       "      <th>user_id</th>\n",
       "      <th>user_name</th>\n",
       "      <th>user_image</th>\n",
       "      <th>gender</th>\n",
       "      <th>class</th>\n",
       "      <th>message</th>\n",
       "      <th>post_num</th>\n",
       "      <th>follower_num</th>\n",
       "      <th>followee_num</th>\n",
       "      <th>is_spammer</th>\n",
       "    </tr>\n",
       "  </thead>\n",
       "  <tbody>\n",
       "    <tr>\n",
       "      <th>55</th>\n",
       "      <td>1504709690</td>\n",
       "      <td>寇蔻Flute</td>\n",
       "      <td>http://tp3.sinaimg.cn/1504709690/180/5708061943/0</td>\n",
       "      <td>female</td>\n",
       "      <td>7</td>\n",
       "      <td>Lv.7     ?寳????湞é???    ??????? ?????é?????...</td>\n",
       "      <td>820.0</td>\n",
       "      <td>342.0</td>\n",
       "      <td>387.0</td>\n",
       "      <td>-1.0</td>\n",
       "    </tr>\n",
       "    <tr>\n",
       "      <th>61</th>\n",
       "      <td>1588859384</td>\n",
       "      <td>朱勤文</td>\n",
       "      <td>http://tp1.sinaimg.cn/1588859384/180/5666876605/1</td>\n",
       "      <td>male</td>\n",
       "      <td>5</td>\n",
       "      <td>Lv.5     江苏苏州    毕业于  沈阳理工大学     公司  博世汽车部件...</td>\n",
       "      <td>311.0</td>\n",
       "      <td>146.0</td>\n",
       "      <td>155.0</td>\n",
       "      <td>-1.0</td>\n",
       "    </tr>\n",
       "    <tr>\n",
       "      <th>65</th>\n",
       "      <td>1606071642</td>\n",
       "      <td>饭团子柒小柒</td>\n",
       "      <td>http://tp3.sinaimg.cn/1606071642/180/5703050974/0</td>\n",
       "      <td>female</td>\n",
       "      <td>12</td>\n",
       "      <td>Lv.12     上海徐汇区    毕业于  上海大学     公司  无    双...</td>\n",
       "      <td>5628.0</td>\n",
       "      <td>603.0</td>\n",
       "      <td>2001.0</td>\n",
       "      <td>-1.0</td>\n",
       "    </tr>\n",
       "    <tr>\n",
       "      <th>90</th>\n",
       "      <td>1680755467</td>\n",
       "      <td>向日葵qll</td>\n",
       "      <td>http://tp4.sinaimg.cn/1680755467/180/5637848492/0</td>\n",
       "      <td>female</td>\n",
       "      <td>6</td>\n",
       "      <td>Lv.6     江苏南京    毕业于  南京中医药大学    简介：宅，喜欢音乐，...</td>\n",
       "      <td>284.0</td>\n",
       "      <td>43.0</td>\n",
       "      <td>59.0</td>\n",
       "      <td>-1.0</td>\n",
       "    </tr>\n",
       "    <tr>\n",
       "      <th>93</th>\n",
       "      <td>1695220825</td>\n",
       "      <td>midoodoo</td>\n",
       "      <td>http://tp2.sinaimg.cn/1695220825/180/5709860285/0</td>\n",
       "      <td>female</td>\n",
       "      <td>11</td>\n",
       "      <td>?洓?ˇ?垚é?   1987???5?湀4??   ???????????°???湡??...</td>\n",
       "      <td>2426.0</td>\n",
       "      <td>513.0</td>\n",
       "      <td>528.0</td>\n",
       "      <td>-1.0</td>\n",
       "    </tr>\n",
       "  </tbody>\n",
       "</table>\n",
       "</div>"
      ],
      "text/plain": [
       "       user_id user_name                                         user_image  \\\n",
       "55  1504709690   寇蔻Flute  http://tp3.sinaimg.cn/1504709690/180/5708061943/0   \n",
       "61  1588859384       朱勤文  http://tp1.sinaimg.cn/1588859384/180/5666876605/1   \n",
       "65  1606071642    饭团子柒小柒  http://tp3.sinaimg.cn/1606071642/180/5703050974/0   \n",
       "90  1680755467    向日葵qll  http://tp4.sinaimg.cn/1680755467/180/5637848492/0   \n",
       "93  1695220825  midoodoo  http://tp2.sinaimg.cn/1695220825/180/5709860285/0   \n",
       "\n",
       "    gender  class                                            message  \\\n",
       "55  female      7     Lv.7     ?寳????湞é???    ??????? ?????é?????...   \n",
       "61    male      5     Lv.5     江苏苏州    毕业于  沈阳理工大学     公司  博世汽车部件...   \n",
       "65  female     12     Lv.12     上海徐汇区    毕业于  上海大学     公司  无    双...   \n",
       "90  female      6     Lv.6     江苏南京    毕业于  南京中医药大学    简介：宅，喜欢音乐，...   \n",
       "93  female     11   ?洓?ˇ?垚é?   1987???5?湀4??   ???????????°???湡??...   \n",
       "\n",
       "    post_num  follower_num  followee_num  is_spammer  \n",
       "55     820.0         342.0         387.0        -1.0  \n",
       "61     311.0         146.0         155.0        -1.0  \n",
       "65    5628.0         603.0        2001.0        -1.0  \n",
       "90     284.0          43.0          59.0        -1.0  \n",
       "93    2426.0         513.0         528.0        -1.0  "
      ]
     },
     "execution_count": 16,
     "metadata": {},
     "output_type": "execute_result"
    }
   ],
   "source": [
    "not_spammer.head()"
   ]
  },
  {
   "cell_type": "markdown",
   "metadata": {},
   "source": [
    "#### Check the gender difference in the non-spammer dataframe."
   ]
  },
  {
   "cell_type": "code",
   "execution_count": 17,
   "metadata": {},
   "outputs": [
    {
     "data": {
      "text/plain": [
       "female    48\n",
       "male      18\n",
       "Name: gender, dtype: int64"
      ]
     },
     "execution_count": 17,
     "metadata": {},
     "output_type": "execute_result"
    }
   ],
   "source": [
    "not_spammer[\"gender\"].value_counts()"
   ]
  },
  {
   "cell_type": "markdown",
   "metadata": {},
   "source": [
    "#### Check the class distribution of the non-spammers."
   ]
  },
  {
   "cell_type": "code",
   "execution_count": 47,
   "metadata": {},
   "outputs": [
    {
     "data": {
      "text/plain": [
       "4     15\n",
       "7     10\n",
       "6      7\n",
       "5      7\n",
       "2      7\n",
       "8      5\n",
       "3      4\n",
       "11     3\n",
       "10     3\n",
       "12     2\n",
       "0      2\n",
       "1      1\n",
       "Name: class, dtype: int64"
      ]
     },
     "execution_count": 47,
     "metadata": {},
     "output_type": "execute_result"
    }
   ],
   "source": [
    "not_spammer[\"class\"].value_counts()"
   ]
  },
  {
   "cell_type": "code",
   "execution_count": 18,
   "metadata": {},
   "outputs": [
    {
     "data": {
      "text/plain": [
       "2.6666666666666665"
      ]
     },
     "execution_count": 18,
     "metadata": {},
     "output_type": "execute_result"
    }
   ],
   "source": [
    "48/18 #2.6666666666666665"
   ]
  },
  {
   "cell_type": "markdown",
   "metadata": {},
   "source": [
    "#### Make a list of the spammers whose data provided in the original dataset df4."
   ]
  },
  {
   "cell_type": "code",
   "execution_count": 19,
   "metadata": {},
   "outputs": [],
   "source": [
    "spammerlist=list(is_spammer['user_id'].unique())"
   ]
  },
  {
   "cell_type": "code",
   "execution_count": 20,
   "metadata": {},
   "outputs": [
    {
     "data": {
      "text/plain": [
       "112"
      ]
     },
     "execution_count": 20,
     "metadata": {},
     "output_type": "execute_result"
    }
   ],
   "source": [
    "len(spammerlist) #112"
   ]
  },
  {
   "cell_type": "markdown",
   "metadata": {},
   "source": [
    "### Assumption1: the followers of the spammers are also spammers.\n",
    "#### Make an edgelist of the spammers and the followers of the spammers through df1."
   ]
  },
  {
   "cell_type": "code",
   "execution_count": 21,
   "metadata": {},
   "outputs": [
    {
     "data": {
      "text/plain": [
       "(8477, 2)"
      ]
     },
     "execution_count": 21,
     "metadata": {},
     "output_type": "execute_result"
    }
   ],
   "source": [
    "spam_edge=[]\n",
    "for i in range(len(spammerlist)):\n",
    "    temp_df=df1.loc[df1['followee_id'] == str(spammerlist[i])][['follower_id','followee_id']]\n",
    "    spam_edge.append(temp_df)\n",
    "spam_edge_df=pd.concat(spam_edge)\n",
    "spam_edge_df.shape #(8477, 2)"
   ]
  },
  {
   "cell_type": "code",
   "execution_count": 22,
   "metadata": {},
   "outputs": [
    {
     "data": {
      "text/html": [
       "<div>\n",
       "<style scoped>\n",
       "    .dataframe tbody tr th:only-of-type {\n",
       "        vertical-align: middle;\n",
       "    }\n",
       "\n",
       "    .dataframe tbody tr th {\n",
       "        vertical-align: top;\n",
       "    }\n",
       "\n",
       "    .dataframe thead th {\n",
       "        text-align: right;\n",
       "    }\n",
       "</style>\n",
       "<table border=\"1\" class=\"dataframe\">\n",
       "  <thead>\n",
       "    <tr style=\"text-align: right;\">\n",
       "      <th></th>\n",
       "      <th>follower_id</th>\n",
       "      <th>followee_id</th>\n",
       "    </tr>\n",
       "  </thead>\n",
       "  <tbody>\n",
       "    <tr>\n",
       "      <th>73361</th>\n",
       "      <td>3258988970</td>\n",
       "      <td>5365515981</td>\n",
       "    </tr>\n",
       "    <tr>\n",
       "      <th>73362</th>\n",
       "      <td>5325119935</td>\n",
       "      <td>5365515981</td>\n",
       "    </tr>\n",
       "    <tr>\n",
       "      <th>73363</th>\n",
       "      <td>5247510769</td>\n",
       "      <td>5365515981</td>\n",
       "    </tr>\n",
       "    <tr>\n",
       "      <th>73364</th>\n",
       "      <td>1972444615</td>\n",
       "      <td>5365515981</td>\n",
       "    </tr>\n",
       "    <tr>\n",
       "      <th>73365</th>\n",
       "      <td>2671109275</td>\n",
       "      <td>5365515981</td>\n",
       "    </tr>\n",
       "  </tbody>\n",
       "</table>\n",
       "</div>"
      ],
      "text/plain": [
       "       follower_id followee_id\n",
       "73361   3258988970  5365515981\n",
       "73362   5325119935  5365515981\n",
       "73363   5247510769  5365515981\n",
       "73364   1972444615  5365515981\n",
       "73365   2671109275  5365515981"
      ]
     },
     "execution_count": 22,
     "metadata": {},
     "output_type": "execute_result"
    }
   ],
   "source": [
    "spam_edge_df.tail()"
   ]
  },
  {
   "cell_type": "markdown",
   "metadata": {},
   "source": [
    "#### Create a spammers' directed follower-followee graph"
   ]
  },
  {
   "cell_type": "code",
   "execution_count": 23,
   "metadata": {},
   "outputs": [],
   "source": [
    "G_spam=nx.from_pandas_edgelist(spam_edge_df, 'follower_id', 'followee_id', create_using=nx.DiGraph())"
   ]
  },
  {
   "cell_type": "code",
   "execution_count": 24,
   "metadata": {},
   "outputs": [
    {
     "data": {
      "text/plain": [
       "7079"
      ]
     },
     "execution_count": 24,
     "metadata": {},
     "output_type": "execute_result"
    }
   ],
   "source": [
    "len(G_spam.nodes()) #7079"
   ]
  },
  {
   "cell_type": "code",
   "execution_count": 25,
   "metadata": {},
   "outputs": [
    {
     "data": {
      "text/plain": [
       "7189"
      ]
     },
     "execution_count": 25,
     "metadata": {},
     "output_type": "execute_result"
    }
   ],
   "source": [
    "len(G_spam.edges()) #7189"
   ]
  },
  {
   "cell_type": "code",
   "execution_count": 27,
   "metadata": {},
   "outputs": [],
   "source": [
    "nx.write_gml(G_spam, \"g_spam_new.gml\")"
   ]
  },
  {
   "cell_type": "markdown",
   "metadata": {},
   "source": [
    "#### In df4, the user_id type is numpy.int64"
   ]
  },
  {
   "cell_type": "code",
   "execution_count": 28,
   "metadata": {},
   "outputs": [
    {
     "data": {
      "text/plain": [
       "numpy.int64"
      ]
     },
     "execution_count": 28,
     "metadata": {},
     "output_type": "execute_result"
    }
   ],
   "source": [
    "type(df4.iloc[0]['user_id'])"
   ]
  },
  {
   "cell_type": "markdown",
   "metadata": {},
   "source": [
    "#### Make a list of potential spammers in df4. Potential spammers are the followers of spammers."
   ]
  },
  {
   "cell_type": "code",
   "execution_count": 29,
   "metadata": {},
   "outputs": [
    {
     "name": "stderr",
     "output_type": "stream",
     "text": [
      "/Users/cuihao/anaconda3/lib/python3.6/site-packages/ipykernel_launcher.py:4: FutureWarning: elementwise comparison failed; returning scalar instead, but in the future will perform elementwise comparison\n",
      "  after removing the cwd from sys.path.\n"
     ]
    },
    {
     "data": {
      "text/plain": [
       "(133, 10)"
      ]
     },
     "execution_count": 29,
     "metadata": {},
     "output_type": "execute_result"
    }
   ],
   "source": [
    "potential_spam=[]\n",
    "\n",
    "for i in range(len(list(G_spam.nodes()))):\n",
    "    if list(G_spam.nodes())[i] in df4['user_id'].unique():\n",
    "        temp= df4.loc[df4['user_id'] == list(G_spam.nodes())[i] ]\n",
    "        potential_spam.append(temp)\n",
    "    \n",
    "potential_spam_df=pd.concat(potential_spam)\n",
    "potential_spam_df.shape   #(133, 10)"
   ]
  },
  {
   "cell_type": "code",
   "execution_count": 30,
   "metadata": {
    "scrolled": true
   },
   "outputs": [
    {
     "data": {
      "text/html": [
       "<div>\n",
       "<style scoped>\n",
       "    .dataframe tbody tr th:only-of-type {\n",
       "        vertical-align: middle;\n",
       "    }\n",
       "\n",
       "    .dataframe tbody tr th {\n",
       "        vertical-align: top;\n",
       "    }\n",
       "\n",
       "    .dataframe thead th {\n",
       "        text-align: right;\n",
       "    }\n",
       "</style>\n",
       "<table border=\"1\" class=\"dataframe\">\n",
       "  <thead>\n",
       "    <tr style=\"text-align: right;\">\n",
       "      <th></th>\n",
       "      <th>user_id</th>\n",
       "      <th>user_name</th>\n",
       "      <th>user_image</th>\n",
       "      <th>gender</th>\n",
       "      <th>class</th>\n",
       "      <th>message</th>\n",
       "      <th>post_num</th>\n",
       "      <th>follower_num</th>\n",
       "      <th>followee_num</th>\n",
       "      <th>is_spammer</th>\n",
       "    </tr>\n",
       "  </thead>\n",
       "  <tbody>\n",
       "    <tr>\n",
       "      <th>325</th>\n",
       "      <td>2364770064</td>\n",
       "      <td>新百伦商城</td>\n",
       "      <td>http://tp1.sinaimg.cn/2364770064/180/228444118...</td>\n",
       "      <td>male</td>\n",
       "      <td>9</td>\n",
       "      <td>Lv.9     北京丰台区   1993年4月20日   简介：耐克，阿迪，新百伦，...</td>\n",
       "      <td>841.0</td>\n",
       "      <td>5608.0</td>\n",
       "      <td>1440.0</td>\n",
       "      <td>NaN</td>\n",
       "    </tr>\n",
       "    <tr>\n",
       "      <th>706</th>\n",
       "      <td>5146083784</td>\n",
       "      <td>他很陈很冠希</td>\n",
       "      <td>http://tp1.sinaimg.cn/5146083784/180/400651997...</td>\n",
       "      <td>male</td>\n",
       "      <td>4</td>\n",
       "      <td>Lv.4     北京东城区    公司  深圳市滔搏商贸有限公司    1994年1...</td>\n",
       "      <td>287.0</td>\n",
       "      <td>27258.0</td>\n",
       "      <td>807.0</td>\n",
       "      <td>NaN</td>\n",
       "    </tr>\n",
       "    <tr>\n",
       "      <th>735</th>\n",
       "      <td>5281501167</td>\n",
       "      <td>潘凤才</td>\n",
       "      <td>http://tp4.sinaimg.cn/5281501167/180/400667362...</td>\n",
       "      <td>male</td>\n",
       "      <td>4</td>\n",
       "      <td>Lv.4     江苏连云港   简介：潘凤才；学历；大专技术职称；兽医师。性别；男年...</td>\n",
       "      <td>1736.0</td>\n",
       "      <td>721.0</td>\n",
       "      <td>2047.0</td>\n",
       "      <td>NaN</td>\n",
       "    </tr>\n",
       "    <tr>\n",
       "      <th>778</th>\n",
       "      <td>5365515981</td>\n",
       "      <td>爱白马湖朱立荣</td>\n",
       "      <td>http://tp2.sinaimg.cn/5365515981/180/228904753...</td>\n",
       "      <td>female</td>\n",
       "      <td>0</td>\n",
       "      <td>Lv.0     广西来宾   1993年1月29日</td>\n",
       "      <td>15.0</td>\n",
       "      <td>8.0</td>\n",
       "      <td>285.0</td>\n",
       "      <td>1.0</td>\n",
       "    </tr>\n",
       "    <tr>\n",
       "      <th>511</th>\n",
       "      <td>3118752457</td>\n",
       "      <td>手机用户3118752457</td>\n",
       "      <td>http://tp2.sinaimg.cn/3118752457/180/5709650284/1</td>\n",
       "      <td>male</td>\n",
       "      <td>0</td>\n",
       "      <td>Lv.0     浙江</td>\n",
       "      <td>0.0</td>\n",
       "      <td>33.0</td>\n",
       "      <td>1332.0</td>\n",
       "      <td>NaN</td>\n",
       "    </tr>\n",
       "  </tbody>\n",
       "</table>\n",
       "</div>"
      ],
      "text/plain": [
       "        user_id       user_name  \\\n",
       "325  2364770064           新百伦商城   \n",
       "706  5146083784          他很陈很冠希   \n",
       "735  5281501167             潘凤才   \n",
       "778  5365515981         爱白马湖朱立荣   \n",
       "511  3118752457  手机用户3118752457   \n",
       "\n",
       "                                            user_image  gender  class  \\\n",
       "325  http://tp1.sinaimg.cn/2364770064/180/228444118...    male      9   \n",
       "706  http://tp1.sinaimg.cn/5146083784/180/400651997...    male      4   \n",
       "735  http://tp4.sinaimg.cn/5281501167/180/400667362...    male      4   \n",
       "778  http://tp2.sinaimg.cn/5365515981/180/228904753...  female      0   \n",
       "511  http://tp2.sinaimg.cn/3118752457/180/5709650284/1    male      0   \n",
       "\n",
       "                                               message  post_num  \\\n",
       "325     Lv.9     北京丰台区   1993年4月20日   简介：耐克，阿迪，新百伦，...     841.0   \n",
       "706     Lv.4     北京东城区    公司  深圳市滔搏商贸有限公司    1994年1...     287.0   \n",
       "735     Lv.4     江苏连云港   简介：潘凤才；学历；大专技术职称；兽医师。性别；男年...    1736.0   \n",
       "778                       Lv.0     广西来宾   1993年1月29日        15.0   \n",
       "511                                      Lv.0     浙江         0.0   \n",
       "\n",
       "     follower_num  followee_num  is_spammer  \n",
       "325        5608.0        1440.0         NaN  \n",
       "706       27258.0         807.0         NaN  \n",
       "735         721.0        2047.0         NaN  \n",
       "778           8.0         285.0         1.0  \n",
       "511          33.0        1332.0         NaN  "
      ]
     },
     "execution_count": 30,
     "metadata": {},
     "output_type": "execute_result"
    }
   ],
   "source": [
    "potential_spam_df.head()"
   ]
  },
  {
   "cell_type": "markdown",
   "metadata": {},
   "source": [
    "#### Strangely, in the potential spammer dataframe, there are also users initially labeled as non-spammers."
   ]
  },
  {
   "cell_type": "code",
   "execution_count": 32,
   "metadata": {},
   "outputs": [
    {
     "data": {
      "text/plain": [
       "-1.0    21\n",
       " 1.0    21\n",
       "Name: is_spammer, dtype: int64"
      ]
     },
     "execution_count": 32,
     "metadata": {},
     "output_type": "execute_result"
    }
   ],
   "source": [
    "potential_spam_df[\"is_spammer\"].value_counts()"
   ]
  },
  {
   "cell_type": "code",
   "execution_count": 33,
   "metadata": {},
   "outputs": [
    {
     "data": {
      "text/plain": [
       "female    100\n",
       "male       33\n",
       "Name: gender, dtype: int64"
      ]
     },
     "execution_count": 33,
     "metadata": {},
     "output_type": "execute_result"
    }
   ],
   "source": [
    "potential_spam_df[\"gender\"].value_counts()"
   ]
  },
  {
   "cell_type": "markdown",
   "metadata": {},
   "source": [
    "#### See the class distribution of the potential spammers."
   ]
  },
  {
   "cell_type": "code",
   "execution_count": 35,
   "metadata": {},
   "outputs": [
    {
     "data": {
      "text/plain": [
       "7     21\n",
       "5     17\n",
       "4     15\n",
       "0     12\n",
       "11    10\n",
       "6     10\n",
       "10     9\n",
       "2      9\n",
       "9      8\n",
       "8      8\n",
       "3      8\n",
       "1      6\n",
       "Name: class, dtype: int64"
      ]
     },
     "execution_count": 35,
     "metadata": {},
     "output_type": "execute_result"
    }
   ],
   "source": [
    "potential_spam_df[\"class\"].value_counts()"
   ]
  },
  {
   "cell_type": "code",
   "execution_count": 36,
   "metadata": {},
   "outputs": [
    {
     "data": {
      "text/plain": [
       "3.0303030303030303"
      ]
     },
     "execution_count": 36,
     "metadata": {},
     "output_type": "execute_result"
    }
   ],
   "source": [
    "100/33 #3.0303030303030303"
   ]
  },
  {
   "cell_type": "markdown",
   "metadata": {},
   "source": [
    "#### It is strange there are non-spammers that follow the spammers. In reality, in the original dataset, some non-spammers might be mistakenly labeled. Here we use the original label if a user is labeled as -1.0 (the non-spammer). For the NaN labeled users which are the followers of spammers, we label them as 1.0, the spammer."
   ]
  },
  {
   "cell_type": "code",
   "execution_count": 37,
   "metadata": {},
   "outputs": [
    {
     "data": {
      "text/html": [
       "<div>\n",
       "<style scoped>\n",
       "    .dataframe tbody tr th:only-of-type {\n",
       "        vertical-align: middle;\n",
       "    }\n",
       "\n",
       "    .dataframe tbody tr th {\n",
       "        vertical-align: top;\n",
       "    }\n",
       "\n",
       "    .dataframe thead th {\n",
       "        text-align: right;\n",
       "    }\n",
       "</style>\n",
       "<table border=\"1\" class=\"dataframe\">\n",
       "  <thead>\n",
       "    <tr style=\"text-align: right;\">\n",
       "      <th></th>\n",
       "      <th>user_id</th>\n",
       "      <th>user_name</th>\n",
       "      <th>user_image</th>\n",
       "      <th>gender</th>\n",
       "      <th>class</th>\n",
       "      <th>message</th>\n",
       "      <th>post_num</th>\n",
       "      <th>follower_num</th>\n",
       "      <th>followee_num</th>\n",
       "      <th>is_spammer</th>\n",
       "    </tr>\n",
       "  </thead>\n",
       "  <tbody>\n",
       "    <tr>\n",
       "      <th>351</th>\n",
       "      <td>2459502185</td>\n",
       "      <td>爱吃肉的Panda000</td>\n",
       "      <td>http://tp2.sinaimg.cn/2459502185/180/5624895507/0</td>\n",
       "      <td>female</td>\n",
       "      <td>7</td>\n",
       "      <td>Lv.7     其他   简介：    标签  旅游  娱乐  美女  时尚  美食</td>\n",
       "      <td>740.0</td>\n",
       "      <td>236.0</td>\n",
       "      <td>575.0</td>\n",
       "      <td>-1.0</td>\n",
       "    </tr>\n",
       "    <tr>\n",
       "      <th>55</th>\n",
       "      <td>1504709690</td>\n",
       "      <td>寇蔻Flute</td>\n",
       "      <td>http://tp3.sinaimg.cn/1504709690/180/5708061943/0</td>\n",
       "      <td>female</td>\n",
       "      <td>7</td>\n",
       "      <td>Lv.7     ?寳????湞é???    ??????? ?????é?????...</td>\n",
       "      <td>820.0</td>\n",
       "      <td>342.0</td>\n",
       "      <td>387.0</td>\n",
       "      <td>-1.0</td>\n",
       "    </tr>\n",
       "    <tr>\n",
       "      <th>689</th>\n",
       "      <td>5089043599</td>\n",
       "      <td>蜜糖n</td>\n",
       "      <td>http://tp4.sinaimg.cn/5089043599/180/5708779709/0</td>\n",
       "      <td>female</td>\n",
       "      <td>5</td>\n",
       "      <td>Lv.5     其他</td>\n",
       "      <td>17.0</td>\n",
       "      <td>13.0</td>\n",
       "      <td>86.0</td>\n",
       "      <td>-1.0</td>\n",
       "    </tr>\n",
       "    <tr>\n",
       "      <th>141</th>\n",
       "      <td>1781048255</td>\n",
       "      <td>_Prodding</td>\n",
       "      <td>http://tp4.sinaimg.cn/1781048255/180/5671117005/0</td>\n",
       "      <td>female</td>\n",
       "      <td>11</td>\n",
       "      <td>Lv.11     ???寳??????  ?¤?????§   ??????????...</td>\n",
       "      <td>3553.0</td>\n",
       "      <td>221.0</td>\n",
       "      <td>862.0</td>\n",
       "      <td>-1.0</td>\n",
       "    </tr>\n",
       "    <tr>\n",
       "      <th>441</th>\n",
       "      <td>2833489233</td>\n",
       "      <td>四季良木</td>\n",
       "      <td>http://tp2.sinaimg.cn/2833489233/180/5696601808/0</td>\n",
       "      <td>female</td>\n",
       "      <td>4</td>\n",
       "      <td>Lv.4     其他   1996年10月2日</td>\n",
       "      <td>114.0</td>\n",
       "      <td>42.0</td>\n",
       "      <td>120.0</td>\n",
       "      <td>-1.0</td>\n",
       "    </tr>\n",
       "  </tbody>\n",
       "</table>\n",
       "</div>"
      ],
      "text/plain": [
       "        user_id     user_name  \\\n",
       "351  2459502185  爱吃肉的Panda000   \n",
       "55   1504709690       寇蔻Flute   \n",
       "689  5089043599           蜜糖n   \n",
       "141  1781048255     _Prodding   \n",
       "441  2833489233          四季良木   \n",
       "\n",
       "                                            user_image  gender  class  \\\n",
       "351  http://tp2.sinaimg.cn/2459502185/180/5624895507/0  female      7   \n",
       "55   http://tp3.sinaimg.cn/1504709690/180/5708061943/0  female      7   \n",
       "689  http://tp4.sinaimg.cn/5089043599/180/5708779709/0  female      5   \n",
       "141  http://tp4.sinaimg.cn/1781048255/180/5671117005/0  female     11   \n",
       "441  http://tp2.sinaimg.cn/2833489233/180/5696601808/0  female      4   \n",
       "\n",
       "                                               message  post_num  \\\n",
       "351     Lv.7     其他   简介：    标签  旅游  娱乐  美女  时尚  美食        740.0   \n",
       "55      Lv.7     ?寳????湞é???    ??????? ?????é?????...     820.0   \n",
       "689                                      Lv.5     其他        17.0   \n",
       "141     Lv.11     ???寳??????  ?¤?????§   ??????????...    3553.0   \n",
       "441                         Lv.4     其他   1996年10月2日       114.0   \n",
       "\n",
       "     follower_num  followee_num  is_spammer  \n",
       "351         236.0         575.0        -1.0  \n",
       "55          342.0         387.0        -1.0  \n",
       "689          13.0          86.0        -1.0  \n",
       "141         221.0         862.0        -1.0  \n",
       "441          42.0         120.0        -1.0  "
      ]
     },
     "execution_count": 37,
     "metadata": {},
     "output_type": "execute_result"
    }
   ],
   "source": [
    "potential_spam_df.loc[potential_spam_df['is_spammer'] == -1.0].tail()"
   ]
  },
  {
   "cell_type": "markdown",
   "metadata": {},
   "source": [
    "### Assumption 2: the followees of non-spammers are also non-spammers. "
   ]
  },
  {
   "cell_type": "markdown",
   "metadata": {},
   "source": [
    "#### Similarly, make a list of the potential non-spammers."
   ]
  },
  {
   "cell_type": "markdown",
   "metadata": {},
   "source": [
    "Make a list of the spammers whose data provided in the original dataset."
   ]
  },
  {
   "cell_type": "code",
   "execution_count": 38,
   "metadata": {},
   "outputs": [],
   "source": [
    "nonspammerlist=list(not_spammer['user_id'].unique())"
   ]
  },
  {
   "cell_type": "markdown",
   "metadata": {},
   "source": [
    "#### There are 66 labeled non-spammers in the original dataset."
   ]
  },
  {
   "cell_type": "code",
   "execution_count": 39,
   "metadata": {},
   "outputs": [
    {
     "data": {
      "text/plain": [
       "66"
      ]
     },
     "execution_count": 39,
     "metadata": {},
     "output_type": "execute_result"
    }
   ],
   "source": [
    "len(nonspammerlist) #66"
   ]
  },
  {
   "cell_type": "code",
   "execution_count": 40,
   "metadata": {},
   "outputs": [
    {
     "data": {
      "text/plain": [
       "numpy.int64"
      ]
     },
     "execution_count": 40,
     "metadata": {},
     "output_type": "execute_result"
    }
   ],
   "source": [
    "type(df1.iloc[0]['follower_id']) #numpy.int64"
   ]
  },
  {
   "cell_type": "markdown",
   "metadata": {},
   "source": [
    "#### Make an non-spammer follower-followee edgelist."
   ]
  },
  {
   "cell_type": "code",
   "execution_count": 41,
   "metadata": {},
   "outputs": [
    {
     "data": {
      "text/plain": [
       "(6507, 2)"
      ]
     },
     "execution_count": 41,
     "metadata": {},
     "output_type": "execute_result"
    }
   ],
   "source": [
    "nonspam_edge=[]\n",
    "for i in range(len(nonspammerlist)):\n",
    "    temp_df=df1.loc[df1['follower_id'] == nonspammerlist[i]][['follower_id','followee_id']]\n",
    "    nonspam_edge.append(temp_df)\n",
    "nonspam_edge_df=pd.concat(nonspam_edge)\n",
    "nonspam_edge_df.shape #(6507, 2)"
   ]
  },
  {
   "cell_type": "code",
   "execution_count": 42,
   "metadata": {
    "scrolled": true
   },
   "outputs": [
    {
     "data": {
      "text/html": [
       "<div>\n",
       "<style scoped>\n",
       "    .dataframe tbody tr th:only-of-type {\n",
       "        vertical-align: middle;\n",
       "    }\n",
       "\n",
       "    .dataframe tbody tr th {\n",
       "        vertical-align: top;\n",
       "    }\n",
       "\n",
       "    .dataframe thead th {\n",
       "        text-align: right;\n",
       "    }\n",
       "</style>\n",
       "<table border=\"1\" class=\"dataframe\">\n",
       "  <thead>\n",
       "    <tr style=\"text-align: right;\">\n",
       "      <th></th>\n",
       "      <th>follower_id</th>\n",
       "      <th>followee_id</th>\n",
       "    </tr>\n",
       "  </thead>\n",
       "  <tbody>\n",
       "    <tr>\n",
       "      <th>26469</th>\n",
       "      <td>1504709690</td>\n",
       "      <td>5085868082</td>\n",
       "    </tr>\n",
       "    <tr>\n",
       "      <th>34400</th>\n",
       "      <td>1504709690</td>\n",
       "      <td>2106897347</td>\n",
       "    </tr>\n",
       "    <tr>\n",
       "      <th>34401</th>\n",
       "      <td>1504709690</td>\n",
       "      <td>1836018861</td>\n",
       "    </tr>\n",
       "    <tr>\n",
       "      <th>34402</th>\n",
       "      <td>1504709690</td>\n",
       "      <td>1917583785</td>\n",
       "    </tr>\n",
       "    <tr>\n",
       "      <th>34403</th>\n",
       "      <td>1504709690</td>\n",
       "      <td>3001712967</td>\n",
       "    </tr>\n",
       "  </tbody>\n",
       "</table>\n",
       "</div>"
      ],
      "text/plain": [
       "       follower_id followee_id\n",
       "26469   1504709690  5085868082\n",
       "34400   1504709690  2106897347\n",
       "34401   1504709690  1836018861\n",
       "34402   1504709690  1917583785\n",
       "34403   1504709690  3001712967"
      ]
     },
     "execution_count": 42,
     "metadata": {},
     "output_type": "execute_result"
    }
   ],
   "source": [
    "nonspam_edge_df.head()"
   ]
  },
  {
   "cell_type": "markdown",
   "metadata": {},
   "source": [
    "#### Build the non-spammers' directed network."
   ]
  },
  {
   "cell_type": "code",
   "execution_count": 43,
   "metadata": {},
   "outputs": [],
   "source": [
    "G_nonspam=nx.from_pandas_edgelist(nonspam_edge_df, 'follower_id', 'followee_id', create_using=nx.DiGraph())"
   ]
  },
  {
   "cell_type": "code",
   "execution_count": 44,
   "metadata": {},
   "outputs": [
    {
     "data": {
      "text/plain": [
       "4850"
      ]
     },
     "execution_count": 44,
     "metadata": {},
     "output_type": "execute_result"
    }
   ],
   "source": [
    "len(G_nonspam.nodes()) #4850"
   ]
  },
  {
   "cell_type": "code",
   "execution_count": 45,
   "metadata": {},
   "outputs": [
    {
     "data": {
      "text/plain": [
       "5772"
      ]
     },
     "execution_count": 45,
     "metadata": {},
     "output_type": "execute_result"
    }
   ],
   "source": [
    "len(G_nonspam.edges()) #5772"
   ]
  },
  {
   "cell_type": "code",
   "execution_count": 481,
   "metadata": {},
   "outputs": [],
   "source": [
    "nx.write_gml(G_nonspam, \"g_nonspam.gml\")"
   ]
  },
  {
   "cell_type": "markdown",
   "metadata": {},
   "source": [
    "#### Make a list of potential non-spammers in df4. Potential non-spammers are the followers of non-spammers."
   ]
  },
  {
   "cell_type": "code",
   "execution_count": 46,
   "metadata": {},
   "outputs": [
    {
     "name": "stderr",
     "output_type": "stream",
     "text": [
      "/Users/cuihao/anaconda3/lib/python3.6/site-packages/ipykernel_launcher.py:4: FutureWarning: elementwise comparison failed; returning scalar instead, but in the future will perform elementwise comparison\n",
      "  after removing the cwd from sys.path.\n"
     ]
    },
    {
     "data": {
      "text/plain": [
       "(66, 10)"
      ]
     },
     "execution_count": 46,
     "metadata": {},
     "output_type": "execute_result"
    }
   ],
   "source": [
    "potential_nonspam=[]\n",
    "\n",
    "for i in range(len(list(G_nonspam.nodes()))):\n",
    "    if list(G_nonspam.nodes())[i] in df4['user_id'].unique():\n",
    "        temp= df4.loc[df4['user_id'] == list(G_nonspam.nodes())[i] ]\n",
    "        potential_nonspam.append(temp)\n",
    "    \n",
    "potential_nonspam_df=pd.concat(potential_nonspam)\n",
    "potential_nonspam_df.shape   "
   ]
  },
  {
   "cell_type": "markdown",
   "metadata": {},
   "source": [
    "#### However, sadly, we haven't found new potential non-spammer in df4. So that we will label all the users mannually."
   ]
  },
  {
   "cell_type": "markdown",
   "metadata": {},
   "source": [
    "### Read in the user_post.xlsx as df3."
   ]
  },
  {
   "cell_type": "code",
   "execution_count": 51,
   "metadata": {},
   "outputs": [
    {
     "data": {
      "text/html": [
       "<div>\n",
       "<style scoped>\n",
       "    .dataframe tbody tr th:only-of-type {\n",
       "        vertical-align: middle;\n",
       "    }\n",
       "\n",
       "    .dataframe tbody tr th {\n",
       "        vertical-align: top;\n",
       "    }\n",
       "\n",
       "    .dataframe thead th {\n",
       "        text-align: right;\n",
       "    }\n",
       "</style>\n",
       "<table border=\"1\" class=\"dataframe\">\n",
       "  <thead>\n",
       "    <tr style=\"text-align: right;\">\n",
       "      <th></th>\n",
       "      <th>post_id</th>\n",
       "      <th>post_time</th>\n",
       "      <th>content</th>\n",
       "      <th>poster_id</th>\n",
       "      <th>poster_url</th>\n",
       "      <th>repost_num</th>\n",
       "      <th>comment_num</th>\n",
       "      <th>repost_post_id</th>\n",
       "      <th>inner_flag</th>\n",
       "      <th>Unnamed: 9</th>\n",
       "      <th>...</th>\n",
       "      <th>Unnamed: 27</th>\n",
       "      <th>Unnamed: 28</th>\n",
       "      <th>Unnamed: 29</th>\n",
       "      <th>Unnamed: 30</th>\n",
       "      <th>Unnamed: 31</th>\n",
       "      <th>Unnamed: 32</th>\n",
       "      <th>Unnamed: 33</th>\n",
       "      <th>Unnamed: 34</th>\n",
       "      <th>Unnamed: 35</th>\n",
       "      <th>Unnamed: 36</th>\n",
       "    </tr>\n",
       "  </thead>\n",
       "  <tbody>\n",
       "    <tr>\n",
       "      <th>0</th>\n",
       "      <td>3.744660e+15</td>\n",
       "      <td>2014-08-17 21:00:00</td>\n",
       "      <td>置顶#代理须知#拒绝泛滥，我不会每天一直更新图片的，图片有专门的地方，为了不影响其他顾客正常...</td>\n",
       "      <td>2.364770e+09</td>\n",
       "      <td>http://weibo.com/2364770064</td>\n",
       "      <td>0.0</td>\n",
       "      <td>0.0</td>\n",
       "      <td>NaN</td>\n",
       "      <td>NaN</td>\n",
       "      <td>NaN</td>\n",
       "      <td>...</td>\n",
       "      <td>NaN</td>\n",
       "      <td>NaN</td>\n",
       "      <td>NaN</td>\n",
       "      <td>NaN</td>\n",
       "      <td>NaN</td>\n",
       "      <td>NaN</td>\n",
       "      <td>NaN</td>\n",
       "      <td>NaN</td>\n",
       "      <td>NaN</td>\n",
       "      <td>NaN</td>\n",
       "    </tr>\n",
       "    <tr>\n",
       "      <th>1</th>\n",
       "      <td>3.777580e+15</td>\n",
       "      <td>2014-11-16 16:45:00</td>\n",
       "      <td>爆美来袭独家实拍质量看的见招微信代理一件代发专卖国际品牌名鞋品质赢得市场诚信赚得人心V信：a...</td>\n",
       "      <td>2.364770e+09</td>\n",
       "      <td>http://weibo.com/2364770064</td>\n",
       "      <td>0.0</td>\n",
       "      <td>0.0</td>\n",
       "      <td>NaN</td>\n",
       "      <td>NaN</td>\n",
       "      <td>NaN</td>\n",
       "      <td>...</td>\n",
       "      <td>NaN</td>\n",
       "      <td>NaN</td>\n",
       "      <td>NaN</td>\n",
       "      <td>NaN</td>\n",
       "      <td>NaN</td>\n",
       "      <td>NaN</td>\n",
       "      <td>NaN</td>\n",
       "      <td>NaN</td>\n",
       "      <td>NaN</td>\n",
       "      <td>NaN</td>\n",
       "    </tr>\n",
       "    <tr>\n",
       "      <th>2</th>\n",
       "      <td>3.777570e+15</td>\n",
       "      <td>2014-11-16 16:29:00</td>\n",
       "      <td>爆美来袭独家实拍质量看的见招微信代理一件代发专卖国际品牌名鞋品质赢得市场诚信赚得人心V信：a...</td>\n",
       "      <td>2.364770e+09</td>\n",
       "      <td>http://weibo.com/2364770064</td>\n",
       "      <td>0.0</td>\n",
       "      <td>0.0</td>\n",
       "      <td>NaN</td>\n",
       "      <td>NaN</td>\n",
       "      <td>NaN</td>\n",
       "      <td>...</td>\n",
       "      <td>NaN</td>\n",
       "      <td>NaN</td>\n",
       "      <td>NaN</td>\n",
       "      <td>NaN</td>\n",
       "      <td>NaN</td>\n",
       "      <td>NaN</td>\n",
       "      <td>NaN</td>\n",
       "      <td>NaN</td>\n",
       "      <td>NaN</td>\n",
       "      <td>NaN</td>\n",
       "    </tr>\n",
       "    <tr>\n",
       "      <th>3</th>\n",
       "      <td>3.777570e+15</td>\n",
       "      <td>2014-11-16 16:19:00</td>\n",
       "      <td>爆美来袭独家实拍招微信代理一件代发专卖国际品牌名鞋品质赢得市场诚信赚得人心V信：asicsh...</td>\n",
       "      <td>2.364770e+09</td>\n",
       "      <td>http://weibo.com/2364770064</td>\n",
       "      <td>0.0</td>\n",
       "      <td>0.0</td>\n",
       "      <td>NaN</td>\n",
       "      <td>NaN</td>\n",
       "      <td>NaN</td>\n",
       "      <td>...</td>\n",
       "      <td>NaN</td>\n",
       "      <td>NaN</td>\n",
       "      <td>NaN</td>\n",
       "      <td>NaN</td>\n",
       "      <td>NaN</td>\n",
       "      <td>NaN</td>\n",
       "      <td>NaN</td>\n",
       "      <td>NaN</td>\n",
       "      <td>NaN</td>\n",
       "      <td>NaN</td>\n",
       "    </tr>\n",
       "    <tr>\n",
       "      <th>4</th>\n",
       "      <td>3.777570e+15</td>\n",
       "      <td>2014-11-16 16:11:00</td>\n",
       "      <td>独家实拍招微信代理一件代发专卖国际品牌名鞋品质赢得市场诚信赚得人心V信：asicshoesQ...</td>\n",
       "      <td>2.364770e+09</td>\n",
       "      <td>http://weibo.com/2364770064</td>\n",
       "      <td>0.0</td>\n",
       "      <td>0.0</td>\n",
       "      <td>NaN</td>\n",
       "      <td>NaN</td>\n",
       "      <td>NaN</td>\n",
       "      <td>...</td>\n",
       "      <td>NaN</td>\n",
       "      <td>NaN</td>\n",
       "      <td>NaN</td>\n",
       "      <td>NaN</td>\n",
       "      <td>NaN</td>\n",
       "      <td>NaN</td>\n",
       "      <td>NaN</td>\n",
       "      <td>NaN</td>\n",
       "      <td>NaN</td>\n",
       "      <td>NaN</td>\n",
       "    </tr>\n",
       "  </tbody>\n",
       "</table>\n",
       "<p>5 rows × 37 columns</p>\n",
       "</div>"
      ],
      "text/plain": [
       "        post_id           post_time  \\\n",
       "0  3.744660e+15 2014-08-17 21:00:00   \n",
       "1  3.777580e+15 2014-11-16 16:45:00   \n",
       "2  3.777570e+15 2014-11-16 16:29:00   \n",
       "3  3.777570e+15 2014-11-16 16:19:00   \n",
       "4  3.777570e+15 2014-11-16 16:11:00   \n",
       "\n",
       "                                             content     poster_id  \\\n",
       "0  置顶#代理须知#拒绝泛滥，我不会每天一直更新图片的，图片有专门的地方，为了不影响其他顾客正常...  2.364770e+09   \n",
       "1  爆美来袭独家实拍质量看的见招微信代理一件代发专卖国际品牌名鞋品质赢得市场诚信赚得人心V信：a...  2.364770e+09   \n",
       "2  爆美来袭独家实拍质量看的见招微信代理一件代发专卖国际品牌名鞋品质赢得市场诚信赚得人心V信：a...  2.364770e+09   \n",
       "3  爆美来袭独家实拍招微信代理一件代发专卖国际品牌名鞋品质赢得市场诚信赚得人心V信：asicsh...  2.364770e+09   \n",
       "4  独家实拍招微信代理一件代发专卖国际品牌名鞋品质赢得市场诚信赚得人心V信：asicshoesQ...  2.364770e+09   \n",
       "\n",
       "                    poster_url  repost_num  comment_num  repost_post_id  \\\n",
       "0  http://weibo.com/2364770064         0.0          0.0             NaN   \n",
       "1  http://weibo.com/2364770064         0.0          0.0             NaN   \n",
       "2  http://weibo.com/2364770064         0.0          0.0             NaN   \n",
       "3  http://weibo.com/2364770064         0.0          0.0             NaN   \n",
       "4  http://weibo.com/2364770064         0.0          0.0             NaN   \n",
       "\n",
       "  inner_flag Unnamed: 9     ...     Unnamed: 27 Unnamed: 28 Unnamed: 29  \\\n",
       "0        NaN        NaN     ...             NaN         NaN         NaN   \n",
       "1        NaN        NaN     ...             NaN         NaN         NaN   \n",
       "2        NaN        NaN     ...             NaN         NaN         NaN   \n",
       "3        NaN        NaN     ...             NaN         NaN         NaN   \n",
       "4        NaN        NaN     ...             NaN         NaN         NaN   \n",
       "\n",
       "  Unnamed: 30 Unnamed: 31 Unnamed: 32 Unnamed: 33 Unnamed: 34 Unnamed: 35  \\\n",
       "0         NaN         NaN         NaN         NaN         NaN         NaN   \n",
       "1         NaN         NaN         NaN         NaN         NaN         NaN   \n",
       "2         NaN         NaN         NaN         NaN         NaN         NaN   \n",
       "3         NaN         NaN         NaN         NaN         NaN         NaN   \n",
       "4         NaN         NaN         NaN         NaN         NaN         NaN   \n",
       "\n",
       "  Unnamed: 36  \n",
       "0         NaN  \n",
       "1         NaN  \n",
       "2         NaN  \n",
       "3         NaN  \n",
       "4         NaN  \n",
       "\n",
       "[5 rows x 37 columns]"
      ]
     },
     "execution_count": 51,
     "metadata": {},
     "output_type": "execute_result"
    }
   ],
   "source": [
    "df3=pd.read_excel(\"user_post.xlsx\")\n",
    "df3.head()"
   ]
  },
  {
   "cell_type": "markdown",
   "metadata": {},
   "source": [
    "#### See the dimension of df3."
   ]
  },
  {
   "cell_type": "code",
   "execution_count": 52,
   "metadata": {},
   "outputs": [
    {
     "data": {
      "text/plain": [
       "(48813, 37)"
      ]
     },
     "execution_count": 52,
     "metadata": {},
     "output_type": "execute_result"
    }
   ],
   "source": [
    "df3.shape #(48813, 37)"
   ]
  },
  {
   "cell_type": "markdown",
   "metadata": {},
   "source": [
    "#### Subset the dataframe of df3, take only the first 7 columns as df3_new."
   ]
  },
  {
   "cell_type": "code",
   "execution_count": 53,
   "metadata": {},
   "outputs": [],
   "source": [
    "df3_new = df3.iloc[:,0:7]"
   ]
  },
  {
   "cell_type": "code",
   "execution_count": 54,
   "metadata": {
    "scrolled": true
   },
   "outputs": [
    {
     "data": {
      "text/html": [
       "<div>\n",
       "<style scoped>\n",
       "    .dataframe tbody tr th:only-of-type {\n",
       "        vertical-align: middle;\n",
       "    }\n",
       "\n",
       "    .dataframe tbody tr th {\n",
       "        vertical-align: top;\n",
       "    }\n",
       "\n",
       "    .dataframe thead th {\n",
       "        text-align: right;\n",
       "    }\n",
       "</style>\n",
       "<table border=\"1\" class=\"dataframe\">\n",
       "  <thead>\n",
       "    <tr style=\"text-align: right;\">\n",
       "      <th></th>\n",
       "      <th>post_id</th>\n",
       "      <th>post_time</th>\n",
       "      <th>content</th>\n",
       "      <th>poster_id</th>\n",
       "      <th>poster_url</th>\n",
       "      <th>repost_num</th>\n",
       "      <th>comment_num</th>\n",
       "    </tr>\n",
       "  </thead>\n",
       "  <tbody>\n",
       "    <tr>\n",
       "      <th>0</th>\n",
       "      <td>3.744660e+15</td>\n",
       "      <td>2014-08-17 21:00:00</td>\n",
       "      <td>置顶#代理须知#拒绝泛滥，我不会每天一直更新图片的，图片有专门的地方，为了不影响其他顾客正常...</td>\n",
       "      <td>2.364770e+09</td>\n",
       "      <td>http://weibo.com/2364770064</td>\n",
       "      <td>0.0</td>\n",
       "      <td>0.0</td>\n",
       "    </tr>\n",
       "    <tr>\n",
       "      <th>1</th>\n",
       "      <td>3.777580e+15</td>\n",
       "      <td>2014-11-16 16:45:00</td>\n",
       "      <td>爆美来袭独家实拍质量看的见招微信代理一件代发专卖国际品牌名鞋品质赢得市场诚信赚得人心V信：a...</td>\n",
       "      <td>2.364770e+09</td>\n",
       "      <td>http://weibo.com/2364770064</td>\n",
       "      <td>0.0</td>\n",
       "      <td>0.0</td>\n",
       "    </tr>\n",
       "    <tr>\n",
       "      <th>2</th>\n",
       "      <td>3.777570e+15</td>\n",
       "      <td>2014-11-16 16:29:00</td>\n",
       "      <td>爆美来袭独家实拍质量看的见招微信代理一件代发专卖国际品牌名鞋品质赢得市场诚信赚得人心V信：a...</td>\n",
       "      <td>2.364770e+09</td>\n",
       "      <td>http://weibo.com/2364770064</td>\n",
       "      <td>0.0</td>\n",
       "      <td>0.0</td>\n",
       "    </tr>\n",
       "    <tr>\n",
       "      <th>3</th>\n",
       "      <td>3.777570e+15</td>\n",
       "      <td>2014-11-16 16:19:00</td>\n",
       "      <td>爆美来袭独家实拍招微信代理一件代发专卖国际品牌名鞋品质赢得市场诚信赚得人心V信：asicsh...</td>\n",
       "      <td>2.364770e+09</td>\n",
       "      <td>http://weibo.com/2364770064</td>\n",
       "      <td>0.0</td>\n",
       "      <td>0.0</td>\n",
       "    </tr>\n",
       "    <tr>\n",
       "      <th>4</th>\n",
       "      <td>3.777570e+15</td>\n",
       "      <td>2014-11-16 16:11:00</td>\n",
       "      <td>独家实拍招微信代理一件代发专卖国际品牌名鞋品质赢得市场诚信赚得人心V信：asicshoesQ...</td>\n",
       "      <td>2.364770e+09</td>\n",
       "      <td>http://weibo.com/2364770064</td>\n",
       "      <td>0.0</td>\n",
       "      <td>0.0</td>\n",
       "    </tr>\n",
       "  </tbody>\n",
       "</table>\n",
       "</div>"
      ],
      "text/plain": [
       "        post_id           post_time  \\\n",
       "0  3.744660e+15 2014-08-17 21:00:00   \n",
       "1  3.777580e+15 2014-11-16 16:45:00   \n",
       "2  3.777570e+15 2014-11-16 16:29:00   \n",
       "3  3.777570e+15 2014-11-16 16:19:00   \n",
       "4  3.777570e+15 2014-11-16 16:11:00   \n",
       "\n",
       "                                             content     poster_id  \\\n",
       "0  置顶#代理须知#拒绝泛滥，我不会每天一直更新图片的，图片有专门的地方，为了不影响其他顾客正常...  2.364770e+09   \n",
       "1  爆美来袭独家实拍质量看的见招微信代理一件代发专卖国际品牌名鞋品质赢得市场诚信赚得人心V信：a...  2.364770e+09   \n",
       "2  爆美来袭独家实拍质量看的见招微信代理一件代发专卖国际品牌名鞋品质赢得市场诚信赚得人心V信：a...  2.364770e+09   \n",
       "3  爆美来袭独家实拍招微信代理一件代发专卖国际品牌名鞋品质赢得市场诚信赚得人心V信：asicsh...  2.364770e+09   \n",
       "4  独家实拍招微信代理一件代发专卖国际品牌名鞋品质赢得市场诚信赚得人心V信：asicshoesQ...  2.364770e+09   \n",
       "\n",
       "                    poster_url  repost_num  comment_num  \n",
       "0  http://weibo.com/2364770064         0.0          0.0  \n",
       "1  http://weibo.com/2364770064         0.0          0.0  \n",
       "2  http://weibo.com/2364770064         0.0          0.0  \n",
       "3  http://weibo.com/2364770064         0.0          0.0  \n",
       "4  http://weibo.com/2364770064         0.0          0.0  "
      ]
     },
     "execution_count": 54,
     "metadata": {},
     "output_type": "execute_result"
    }
   ],
   "source": [
    "df3_new.head()"
   ]
  },
  {
   "cell_type": "markdown",
   "metadata": {},
   "source": [
    "#### Check the null values in df3_new."
   ]
  },
  {
   "cell_type": "code",
   "execution_count": 55,
   "metadata": {},
   "outputs": [
    {
     "data": {
      "text/plain": [
       "post_id        8368\n",
       "post_time      8369\n",
       "content        9288\n",
       "poster_id      9052\n",
       "poster_url     9053\n",
       "repost_num     9053\n",
       "comment_num    9053\n",
       "dtype: int64"
      ]
     },
     "execution_count": 55,
     "metadata": {},
     "output_type": "execute_result"
    }
   ],
   "source": [
    "df3_new.isnull().sum()"
   ]
  },
  {
   "cell_type": "code",
   "execution_count": 56,
   "metadata": {},
   "outputs": [
    {
     "data": {
      "text/html": [
       "<div>\n",
       "<style scoped>\n",
       "    .dataframe tbody tr th:only-of-type {\n",
       "        vertical-align: middle;\n",
       "    }\n",
       "\n",
       "    .dataframe tbody tr th {\n",
       "        vertical-align: top;\n",
       "    }\n",
       "\n",
       "    .dataframe thead th {\n",
       "        text-align: right;\n",
       "    }\n",
       "</style>\n",
       "<table border=\"1\" class=\"dataframe\">\n",
       "  <thead>\n",
       "    <tr style=\"text-align: right;\">\n",
       "      <th></th>\n",
       "      <th>post_id</th>\n",
       "      <th>post_time</th>\n",
       "      <th>content</th>\n",
       "      <th>poster_id</th>\n",
       "      <th>poster_url</th>\n",
       "      <th>repost_num</th>\n",
       "      <th>comment_num</th>\n",
       "    </tr>\n",
       "  </thead>\n",
       "  <tbody>\n",
       "    <tr>\n",
       "      <th>326</th>\n",
       "      <td>3.773890e+15</td>\n",
       "      <td>2014-11-06 12:58:00</td>\n",
       "      <td>NaN</td>\n",
       "      <td>5.154084e+09</td>\n",
       "      <td>http://weibo.com/5154084070</td>\n",
       "      <td>0.0</td>\n",
       "      <td>0.0</td>\n",
       "    </tr>\n",
       "    <tr>\n",
       "      <th>432</th>\n",
       "      <td>3.769180e+15</td>\n",
       "      <td>2014-10-24 12:44:00</td>\n",
       "      <td>NaN</td>\n",
       "      <td>3.558604e+09</td>\n",
       "      <td>http://weibo.com/3558603802</td>\n",
       "      <td>0.0</td>\n",
       "      <td>0.0</td>\n",
       "    </tr>\n",
       "    <tr>\n",
       "      <th>434</th>\n",
       "      <td>3.769150e+15</td>\n",
       "      <td>2014-10-24 10:30:00</td>\n",
       "      <td>我拍了段MV，欢迎围观。点此播放&amp;gt</td>\n",
       "      <td>NaN</td>\n",
       "      <td>NaN</td>\n",
       "      <td>NaN</td>\n",
       "      <td>NaN</td>\n",
       "    </tr>\n",
       "    <tr>\n",
       "      <th>487</th>\n",
       "      <td>3.777560e+15</td>\n",
       "      <td>2014-11-16 16:02:00</td>\n",
       "      <td>我的皮肤属于油性肌肤，油脂分泌旺盛，粗大的毛孔以及黑头一直困扰我，自从使用了这款佰草世家猪鼻...</td>\n",
       "      <td>NaN</td>\n",
       "      <td>NaN</td>\n",
       "      <td>NaN</td>\n",
       "      <td>NaN</td>\n",
       "    </tr>\n",
       "    <tr>\n",
       "      <th>488</th>\n",
       "      <td>3.777520e+15</td>\n",
       "      <td>2014-11-16 13:23:00</td>\n",
       "      <td>尼玛~~鼻子上都是密密麻麻的黑头，啥化妆品都试了没用。幸好闺蜜推荐介去黑头神器，黑头和粉刺通...</td>\n",
       "      <td>NaN</td>\n",
       "      <td>NaN</td>\n",
       "      <td>NaN</td>\n",
       "      <td>NaN</td>\n",
       "    </tr>\n",
       "  </tbody>\n",
       "</table>\n",
       "</div>"
      ],
      "text/plain": [
       "          post_id           post_time  \\\n",
       "326  3.773890e+15 2014-11-06 12:58:00   \n",
       "432  3.769180e+15 2014-10-24 12:44:00   \n",
       "434  3.769150e+15 2014-10-24 10:30:00   \n",
       "487  3.777560e+15 2014-11-16 16:02:00   \n",
       "488  3.777520e+15 2014-11-16 13:23:00   \n",
       "\n",
       "                                               content     poster_id  \\\n",
       "326                                                NaN  5.154084e+09   \n",
       "432                                                NaN  3.558604e+09   \n",
       "434                                我拍了段MV，欢迎围观。点此播放&gt           NaN   \n",
       "487  我的皮肤属于油性肌肤，油脂分泌旺盛，粗大的毛孔以及黑头一直困扰我，自从使用了这款佰草世家猪鼻...           NaN   \n",
       "488  尼玛~~鼻子上都是密密麻麻的黑头，啥化妆品都试了没用。幸好闺蜜推荐介去黑头神器，黑头和粉刺通...           NaN   \n",
       "\n",
       "                      poster_url  repost_num  comment_num  \n",
       "326  http://weibo.com/5154084070         0.0          0.0  \n",
       "432  http://weibo.com/3558603802         0.0          0.0  \n",
       "434                          NaN         NaN          NaN  \n",
       "487                          NaN         NaN          NaN  \n",
       "488                          NaN         NaN          NaN  "
      ]
     },
     "execution_count": 56,
     "metadata": {},
     "output_type": "execute_result"
    }
   ],
   "source": [
    "null_columns=df3_new.columns[df3_new.isnull().any()]\n",
    "\n",
    "df3_new[df3_new.isnull().any(axis=1)][null_columns].head()"
   ]
  },
  {
   "cell_type": "markdown",
   "metadata": {},
   "source": [
    "#### Columns that contain NaN are not very useful. It is useless if we know nothing about the poster_id and so on. It is better we just delete all rows that contain null values."
   ]
  },
  {
   "cell_type": "code",
   "execution_count": 57,
   "metadata": {},
   "outputs": [
    {
     "data": {
      "text/plain": [
       "post_id        0\n",
       "post_time      0\n",
       "content        0\n",
       "poster_id      0\n",
       "poster_url     0\n",
       "repost_num     0\n",
       "comment_num    0\n",
       "dtype: int64"
      ]
     },
     "execution_count": 57,
     "metadata": {},
     "output_type": "execute_result"
    }
   ],
   "source": [
    "df3_new1 = df3_new.dropna(how='any',axis=0) \n",
    "df3_new1.isnull().sum()"
   ]
  },
  {
   "cell_type": "markdown",
   "metadata": {},
   "source": [
    "#### We get the deleted NaN dataframe df3_new1."
   ]
  },
  {
   "cell_type": "code",
   "execution_count": 58,
   "metadata": {},
   "outputs": [
    {
     "data": {
      "text/plain": [
       "(38841, 7)"
      ]
     },
     "execution_count": 58,
     "metadata": {},
     "output_type": "execute_result"
    }
   ],
   "source": [
    "df3_new1.shape #(38841, 7)"
   ]
  },
  {
   "cell_type": "code",
   "execution_count": 59,
   "metadata": {},
   "outputs": [
    {
     "data": {
      "text/html": [
       "<div>\n",
       "<style scoped>\n",
       "    .dataframe tbody tr th:only-of-type {\n",
       "        vertical-align: middle;\n",
       "    }\n",
       "\n",
       "    .dataframe tbody tr th {\n",
       "        vertical-align: top;\n",
       "    }\n",
       "\n",
       "    .dataframe thead th {\n",
       "        text-align: right;\n",
       "    }\n",
       "</style>\n",
       "<table border=\"1\" class=\"dataframe\">\n",
       "  <thead>\n",
       "    <tr style=\"text-align: right;\">\n",
       "      <th></th>\n",
       "      <th>post_id</th>\n",
       "      <th>post_time</th>\n",
       "      <th>content</th>\n",
       "      <th>poster_id</th>\n",
       "      <th>poster_url</th>\n",
       "      <th>repost_num</th>\n",
       "      <th>comment_num</th>\n",
       "    </tr>\n",
       "  </thead>\n",
       "  <tbody>\n",
       "    <tr>\n",
       "      <th>0</th>\n",
       "      <td>3.744660e+15</td>\n",
       "      <td>2014-08-17 21:00:00</td>\n",
       "      <td>置顶#代理须知#拒绝泛滥，我不会每天一直更新图片的，图片有专门的地方，为了不影响其他顾客正常...</td>\n",
       "      <td>2.364770e+09</td>\n",
       "      <td>http://weibo.com/2364770064</td>\n",
       "      <td>0.0</td>\n",
       "      <td>0.0</td>\n",
       "    </tr>\n",
       "    <tr>\n",
       "      <th>1</th>\n",
       "      <td>3.777580e+15</td>\n",
       "      <td>2014-11-16 16:45:00</td>\n",
       "      <td>爆美来袭独家实拍质量看的见招微信代理一件代发专卖国际品牌名鞋品质赢得市场诚信赚得人心V信：a...</td>\n",
       "      <td>2.364770e+09</td>\n",
       "      <td>http://weibo.com/2364770064</td>\n",
       "      <td>0.0</td>\n",
       "      <td>0.0</td>\n",
       "    </tr>\n",
       "    <tr>\n",
       "      <th>2</th>\n",
       "      <td>3.777570e+15</td>\n",
       "      <td>2014-11-16 16:29:00</td>\n",
       "      <td>爆美来袭独家实拍质量看的见招微信代理一件代发专卖国际品牌名鞋品质赢得市场诚信赚得人心V信：a...</td>\n",
       "      <td>2.364770e+09</td>\n",
       "      <td>http://weibo.com/2364770064</td>\n",
       "      <td>0.0</td>\n",
       "      <td>0.0</td>\n",
       "    </tr>\n",
       "    <tr>\n",
       "      <th>3</th>\n",
       "      <td>3.777570e+15</td>\n",
       "      <td>2014-11-16 16:19:00</td>\n",
       "      <td>爆美来袭独家实拍招微信代理一件代发专卖国际品牌名鞋品质赢得市场诚信赚得人心V信：asicsh...</td>\n",
       "      <td>2.364770e+09</td>\n",
       "      <td>http://weibo.com/2364770064</td>\n",
       "      <td>0.0</td>\n",
       "      <td>0.0</td>\n",
       "    </tr>\n",
       "    <tr>\n",
       "      <th>4</th>\n",
       "      <td>3.777570e+15</td>\n",
       "      <td>2014-11-16 16:11:00</td>\n",
       "      <td>独家实拍招微信代理一件代发专卖国际品牌名鞋品质赢得市场诚信赚得人心V信：asicshoesQ...</td>\n",
       "      <td>2.364770e+09</td>\n",
       "      <td>http://weibo.com/2364770064</td>\n",
       "      <td>0.0</td>\n",
       "      <td>0.0</td>\n",
       "    </tr>\n",
       "  </tbody>\n",
       "</table>\n",
       "</div>"
      ],
      "text/plain": [
       "        post_id           post_time  \\\n",
       "0  3.744660e+15 2014-08-17 21:00:00   \n",
       "1  3.777580e+15 2014-11-16 16:45:00   \n",
       "2  3.777570e+15 2014-11-16 16:29:00   \n",
       "3  3.777570e+15 2014-11-16 16:19:00   \n",
       "4  3.777570e+15 2014-11-16 16:11:00   \n",
       "\n",
       "                                             content     poster_id  \\\n",
       "0  置顶#代理须知#拒绝泛滥，我不会每天一直更新图片的，图片有专门的地方，为了不影响其他顾客正常...  2.364770e+09   \n",
       "1  爆美来袭独家实拍质量看的见招微信代理一件代发专卖国际品牌名鞋品质赢得市场诚信赚得人心V信：a...  2.364770e+09   \n",
       "2  爆美来袭独家实拍质量看的见招微信代理一件代发专卖国际品牌名鞋品质赢得市场诚信赚得人心V信：a...  2.364770e+09   \n",
       "3  爆美来袭独家实拍招微信代理一件代发专卖国际品牌名鞋品质赢得市场诚信赚得人心V信：asicsh...  2.364770e+09   \n",
       "4  独家实拍招微信代理一件代发专卖国际品牌名鞋品质赢得市场诚信赚得人心V信：asicshoesQ...  2.364770e+09   \n",
       "\n",
       "                    poster_url  repost_num  comment_num  \n",
       "0  http://weibo.com/2364770064         0.0          0.0  \n",
       "1  http://weibo.com/2364770064         0.0          0.0  \n",
       "2  http://weibo.com/2364770064         0.0          0.0  \n",
       "3  http://weibo.com/2364770064         0.0          0.0  \n",
       "4  http://weibo.com/2364770064         0.0          0.0  "
      ]
     },
     "execution_count": 59,
     "metadata": {},
     "output_type": "execute_result"
    }
   ],
   "source": [
    "df3_new1.head()"
   ]
  },
  {
   "cell_type": "code",
   "execution_count": 60,
   "metadata": {},
   "outputs": [
    {
     "data": {
      "text/plain": [
       "str"
      ]
     },
     "execution_count": 60,
     "metadata": {},
     "output_type": "execute_result"
    }
   ],
   "source": [
    "type(df3_new1.iloc[0][\"poster_url\"]) # the poster_url is str"
   ]
  },
  {
   "cell_type": "markdown",
   "metadata": {},
   "source": [
    "#### Check how many unique users are there in df3_new1."
   ]
  },
  {
   "cell_type": "code",
   "execution_count": 61,
   "metadata": {},
   "outputs": [
    {
     "data": {
      "text/plain": [
       "431"
      ]
     },
     "execution_count": 61,
     "metadata": {},
     "output_type": "execute_result"
    }
   ],
   "source": [
    "len(df3_new1[\"poster_url\"].unique())  # 431 unique users"
   ]
  },
  {
   "cell_type": "markdown",
   "metadata": {},
   "source": [
    "### Extract the user ids in from the url."
   ]
  },
  {
   "cell_type": "code",
   "execution_count": 62,
   "metadata": {},
   "outputs": [
    {
     "name": "stdout",
     "output_type": "stream",
     "text": [
      "2364770064\n"
     ]
    }
   ],
   "source": [
    "url=\"http://weibo.com/2364770064\"\n",
    "domain=url.split('//')[-1].split('/')[1]\n",
    "print(domain)"
   ]
  },
  {
   "cell_type": "code",
   "execution_count": 63,
   "metadata": {},
   "outputs": [
    {
     "data": {
      "text/plain": [
       "str"
      ]
     },
     "execution_count": 63,
     "metadata": {},
     "output_type": "execute_result"
    }
   ],
   "source": [
    "type(domain) #str"
   ]
  },
  {
   "cell_type": "markdown",
   "metadata": {},
   "source": [
    "#### Define a function to extract user ids from the url."
   ]
  },
  {
   "cell_type": "code",
   "execution_count": 64,
   "metadata": {},
   "outputs": [],
   "source": [
    "def id_extract(url):\n",
    "    domain=url.split('//')[-1].split('/')[1]\n",
    "    return domain"
   ]
  },
  {
   "cell_type": "code",
   "execution_count": 65,
   "metadata": {
    "scrolled": true
   },
   "outputs": [
    {
     "name": "stderr",
     "output_type": "stream",
     "text": [
      "/Users/cuihao/anaconda3/lib/python3.6/site-packages/ipykernel_launcher.py:1: SettingWithCopyWarning: \n",
      "A value is trying to be set on a copy of a slice from a DataFrame.\n",
      "Try using .loc[row_indexer,col_indexer] = value instead\n",
      "\n",
      "See the caveats in the documentation: http://pandas.pydata.org/pandas-docs/stable/indexing.html#indexing-view-versus-copy\n",
      "  \"\"\"Entry point for launching an IPython kernel.\n"
     ]
    }
   ],
   "source": [
    "df3_new1['User_ID']=df3_new1['poster_url'].apply(id_extract)  "
   ]
  },
  {
   "cell_type": "markdown",
   "metadata": {},
   "source": [
    "#### Create a new columns to store User_ID."
   ]
  },
  {
   "cell_type": "code",
   "execution_count": 66,
   "metadata": {},
   "outputs": [
    {
     "data": {
      "text/html": [
       "<div>\n",
       "<style scoped>\n",
       "    .dataframe tbody tr th:only-of-type {\n",
       "        vertical-align: middle;\n",
       "    }\n",
       "\n",
       "    .dataframe tbody tr th {\n",
       "        vertical-align: top;\n",
       "    }\n",
       "\n",
       "    .dataframe thead th {\n",
       "        text-align: right;\n",
       "    }\n",
       "</style>\n",
       "<table border=\"1\" class=\"dataframe\">\n",
       "  <thead>\n",
       "    <tr style=\"text-align: right;\">\n",
       "      <th></th>\n",
       "      <th>post_id</th>\n",
       "      <th>post_time</th>\n",
       "      <th>content</th>\n",
       "      <th>poster_id</th>\n",
       "      <th>poster_url</th>\n",
       "      <th>repost_num</th>\n",
       "      <th>comment_num</th>\n",
       "      <th>User_ID</th>\n",
       "    </tr>\n",
       "  </thead>\n",
       "  <tbody>\n",
       "    <tr>\n",
       "      <th>0</th>\n",
       "      <td>3.744660e+15</td>\n",
       "      <td>2014-08-17 21:00:00</td>\n",
       "      <td>置顶#代理须知#拒绝泛滥，我不会每天一直更新图片的，图片有专门的地方，为了不影响其他顾客正常...</td>\n",
       "      <td>2.364770e+09</td>\n",
       "      <td>http://weibo.com/2364770064</td>\n",
       "      <td>0.0</td>\n",
       "      <td>0.0</td>\n",
       "      <td>2364770064</td>\n",
       "    </tr>\n",
       "    <tr>\n",
       "      <th>1</th>\n",
       "      <td>3.777580e+15</td>\n",
       "      <td>2014-11-16 16:45:00</td>\n",
       "      <td>爆美来袭独家实拍质量看的见招微信代理一件代发专卖国际品牌名鞋品质赢得市场诚信赚得人心V信：a...</td>\n",
       "      <td>2.364770e+09</td>\n",
       "      <td>http://weibo.com/2364770064</td>\n",
       "      <td>0.0</td>\n",
       "      <td>0.0</td>\n",
       "      <td>2364770064</td>\n",
       "    </tr>\n",
       "    <tr>\n",
       "      <th>2</th>\n",
       "      <td>3.777570e+15</td>\n",
       "      <td>2014-11-16 16:29:00</td>\n",
       "      <td>爆美来袭独家实拍质量看的见招微信代理一件代发专卖国际品牌名鞋品质赢得市场诚信赚得人心V信：a...</td>\n",
       "      <td>2.364770e+09</td>\n",
       "      <td>http://weibo.com/2364770064</td>\n",
       "      <td>0.0</td>\n",
       "      <td>0.0</td>\n",
       "      <td>2364770064</td>\n",
       "    </tr>\n",
       "    <tr>\n",
       "      <th>3</th>\n",
       "      <td>3.777570e+15</td>\n",
       "      <td>2014-11-16 16:19:00</td>\n",
       "      <td>爆美来袭独家实拍招微信代理一件代发专卖国际品牌名鞋品质赢得市场诚信赚得人心V信：asicsh...</td>\n",
       "      <td>2.364770e+09</td>\n",
       "      <td>http://weibo.com/2364770064</td>\n",
       "      <td>0.0</td>\n",
       "      <td>0.0</td>\n",
       "      <td>2364770064</td>\n",
       "    </tr>\n",
       "    <tr>\n",
       "      <th>4</th>\n",
       "      <td>3.777570e+15</td>\n",
       "      <td>2014-11-16 16:11:00</td>\n",
       "      <td>独家实拍招微信代理一件代发专卖国际品牌名鞋品质赢得市场诚信赚得人心V信：asicshoesQ...</td>\n",
       "      <td>2.364770e+09</td>\n",
       "      <td>http://weibo.com/2364770064</td>\n",
       "      <td>0.0</td>\n",
       "      <td>0.0</td>\n",
       "      <td>2364770064</td>\n",
       "    </tr>\n",
       "  </tbody>\n",
       "</table>\n",
       "</div>"
      ],
      "text/plain": [
       "        post_id           post_time  \\\n",
       "0  3.744660e+15 2014-08-17 21:00:00   \n",
       "1  3.777580e+15 2014-11-16 16:45:00   \n",
       "2  3.777570e+15 2014-11-16 16:29:00   \n",
       "3  3.777570e+15 2014-11-16 16:19:00   \n",
       "4  3.777570e+15 2014-11-16 16:11:00   \n",
       "\n",
       "                                             content     poster_id  \\\n",
       "0  置顶#代理须知#拒绝泛滥，我不会每天一直更新图片的，图片有专门的地方，为了不影响其他顾客正常...  2.364770e+09   \n",
       "1  爆美来袭独家实拍质量看的见招微信代理一件代发专卖国际品牌名鞋品质赢得市场诚信赚得人心V信：a...  2.364770e+09   \n",
       "2  爆美来袭独家实拍质量看的见招微信代理一件代发专卖国际品牌名鞋品质赢得市场诚信赚得人心V信：a...  2.364770e+09   \n",
       "3  爆美来袭独家实拍招微信代理一件代发专卖国际品牌名鞋品质赢得市场诚信赚得人心V信：asicsh...  2.364770e+09   \n",
       "4  独家实拍招微信代理一件代发专卖国际品牌名鞋品质赢得市场诚信赚得人心V信：asicshoesQ...  2.364770e+09   \n",
       "\n",
       "                    poster_url  repost_num  comment_num     User_ID  \n",
       "0  http://weibo.com/2364770064         0.0          0.0  2364770064  \n",
       "1  http://weibo.com/2364770064         0.0          0.0  2364770064  \n",
       "2  http://weibo.com/2364770064         0.0          0.0  2364770064  \n",
       "3  http://weibo.com/2364770064         0.0          0.0  2364770064  \n",
       "4  http://weibo.com/2364770064         0.0          0.0  2364770064  "
      ]
     },
     "execution_count": 66,
     "metadata": {},
     "output_type": "execute_result"
    }
   ],
   "source": [
    "df3_new1.head()"
   ]
  },
  {
   "cell_type": "markdown",
   "metadata": {},
   "source": [
    "#### See the messages of the spammers"
   ]
  },
  {
   "cell_type": "code",
   "execution_count": 67,
   "metadata": {},
   "outputs": [
    {
     "data": {
      "text/plain": [
       "(5024, 8)"
      ]
     },
     "execution_count": 67,
     "metadata": {},
     "output_type": "execute_result"
    }
   ],
   "source": [
    "content_spammer=[]\n",
    "\n",
    "for i in range(len(spammerlist)):\n",
    "    if  str(spammerlist[i]) in df3_new1['User_ID'].unique():\n",
    "        temp= df3_new1.loc[df3_new1['User_ID'] == str(spammerlist[i]) ]\n",
    "        content_spammer.append(temp)\n",
    "    \n",
    "content_spammer_df=pd.concat(content_spammer)\n",
    "content_spammer_df.shape  #(5024, 8)"
   ]
  },
  {
   "cell_type": "code",
   "execution_count": 68,
   "metadata": {},
   "outputs": [
    {
     "data": {
      "text/html": [
       "<div>\n",
       "<style scoped>\n",
       "    .dataframe tbody tr th:only-of-type {\n",
       "        vertical-align: middle;\n",
       "    }\n",
       "\n",
       "    .dataframe tbody tr th {\n",
       "        vertical-align: top;\n",
       "    }\n",
       "\n",
       "    .dataframe thead th {\n",
       "        text-align: right;\n",
       "    }\n",
       "</style>\n",
       "<table border=\"1\" class=\"dataframe\">\n",
       "  <thead>\n",
       "    <tr style=\"text-align: right;\">\n",
       "      <th></th>\n",
       "      <th>post_id</th>\n",
       "      <th>post_time</th>\n",
       "      <th>content</th>\n",
       "      <th>poster_id</th>\n",
       "      <th>poster_url</th>\n",
       "      <th>repost_num</th>\n",
       "      <th>comment_num</th>\n",
       "      <th>User_ID</th>\n",
       "    </tr>\n",
       "  </thead>\n",
       "  <tbody>\n",
       "    <tr>\n",
       "      <th>30697</th>\n",
       "      <td>3.776980e+15</td>\n",
       "      <td>2014-11-15 01:28:00</td>\n",
       "      <td>全国神经病等级测试题！还敢说自己不是“深井冰”？</td>\n",
       "      <td>5.365516e+09</td>\n",
       "      <td>http://weibo.com/5365515981</td>\n",
       "      <td>0.0</td>\n",
       "      <td>0.0</td>\n",
       "      <td>5365515981</td>\n",
       "    </tr>\n",
       "    <tr>\n",
       "      <th>30698</th>\n",
       "      <td>3.776810e+15</td>\n",
       "      <td>2014-11-14 14:21:00</td>\n",
       "      <td>全国神经病等级测试题！还敢说自己不是“深井冰”？</td>\n",
       "      <td>5.365516e+09</td>\n",
       "      <td>http://weibo.com/5365515981</td>\n",
       "      <td>0.0</td>\n",
       "      <td>0.0</td>\n",
       "      <td>5365515981</td>\n",
       "    </tr>\n",
       "    <tr>\n",
       "      <th>30699</th>\n",
       "      <td>3.776640e+15</td>\n",
       "      <td>2014-11-14 02:54:00</td>\n",
       "      <td>【你适合跟谁在一起】据说经过这个测试的情侣不会分手；你和她将是最完美的酸碱中和，永远在一起。...</td>\n",
       "      <td>5.365516e+09</td>\n",
       "      <td>http://weibo.com/5365515981</td>\n",
       "      <td>0.0</td>\n",
       "      <td>0.0</td>\n",
       "      <td>5365515981</td>\n",
       "    </tr>\n",
       "    <tr>\n",
       "      <th>30700</th>\n",
       "      <td>3.776510e+15</td>\n",
       "      <td>2014-11-13 18:32:00</td>\n",
       "      <td>在这个基情四射，蕾丝满天的时代里，你还能100%确认你的性向么？做个测试看看再拍拖吧，以免害...</td>\n",
       "      <td>5.365516e+09</td>\n",
       "      <td>http://weibo.com/5365515981</td>\n",
       "      <td>0.0</td>\n",
       "      <td>0.0</td>\n",
       "      <td>5365515981</td>\n",
       "    </tr>\n",
       "    <tr>\n",
       "      <th>30701</th>\n",
       "      <td>3.776410e+15</td>\n",
       "      <td>2014-11-13 11:19:00</td>\n",
       "      <td>在这个基情四射，蕾丝满天的时代里，你还能100%确认你的性向么？做个测试看看再拍拖吧，以免害...</td>\n",
       "      <td>5.365516e+09</td>\n",
       "      <td>http://weibo.com/5365515981</td>\n",
       "      <td>0.0</td>\n",
       "      <td>0.0</td>\n",
       "      <td>5365515981</td>\n",
       "    </tr>\n",
       "  </tbody>\n",
       "</table>\n",
       "</div>"
      ],
      "text/plain": [
       "            post_id           post_time  \\\n",
       "30697  3.776980e+15 2014-11-15 01:28:00   \n",
       "30698  3.776810e+15 2014-11-14 14:21:00   \n",
       "30699  3.776640e+15 2014-11-14 02:54:00   \n",
       "30700  3.776510e+15 2014-11-13 18:32:00   \n",
       "30701  3.776410e+15 2014-11-13 11:19:00   \n",
       "\n",
       "                                                 content     poster_id  \\\n",
       "30697                           全国神经病等级测试题！还敢说自己不是“深井冰”？  5.365516e+09   \n",
       "30698                           全国神经病等级测试题！还敢说自己不是“深井冰”？  5.365516e+09   \n",
       "30699  【你适合跟谁在一起】据说经过这个测试的情侣不会分手；你和她将是最完美的酸碱中和，永远在一起。...  5.365516e+09   \n",
       "30700  在这个基情四射，蕾丝满天的时代里，你还能100%确认你的性向么？做个测试看看再拍拖吧，以免害...  5.365516e+09   \n",
       "30701  在这个基情四射，蕾丝满天的时代里，你还能100%确认你的性向么？做个测试看看再拍拖吧，以免害...  5.365516e+09   \n",
       "\n",
       "                        poster_url  repost_num  comment_num     User_ID  \n",
       "30697  http://weibo.com/5365515981         0.0          0.0  5365515981  \n",
       "30698  http://weibo.com/5365515981         0.0          0.0  5365515981  \n",
       "30699  http://weibo.com/5365515981         0.0          0.0  5365515981  \n",
       "30700  http://weibo.com/5365515981         0.0          0.0  5365515981  \n",
       "30701  http://weibo.com/5365515981         0.0          0.0  5365515981  "
      ]
     },
     "execution_count": 68,
     "metadata": {},
     "output_type": "execute_result"
    }
   ],
   "source": [
    "content_spammer_df.tail()"
   ]
  },
  {
   "cell_type": "code",
   "execution_count": 69,
   "metadata": {},
   "outputs": [
    {
     "data": {
      "text/plain": [
       "True"
      ]
     },
     "execution_count": 69,
     "metadata": {},
     "output_type": "execute_result"
    }
   ],
   "source": [
    "5365515981 in spammerlist"
   ]
  },
  {
   "cell_type": "markdown",
   "metadata": {},
   "source": [
    "#### When considering the spammers' followers, we didn't find their followers in this dataframe (Since we got the same results as above)."
   ]
  },
  {
   "cell_type": "code",
   "execution_count": 70,
   "metadata": {},
   "outputs": [
    {
     "data": {
      "text/plain": [
       "(5024, 8)"
      ]
     },
     "execution_count": 70,
     "metadata": {},
     "output_type": "execute_result"
    }
   ],
   "source": [
    "content_spam=[]\n",
    "\n",
    "for i in range(len(list(G_spam.nodes()))):\n",
    "    if list(G_spam.nodes())[i] in df3_new1['User_ID'].unique():\n",
    "        temp= df3_new1.loc[df3_new1['User_ID'] == list(G_spam.nodes())[i] ]\n",
    "        content_spam.append(temp)\n",
    "    \n",
    "content_spam_df=pd.concat(content_spam)\n",
    "content_spam_df.shape #(5024, 8)"
   ]
  },
  {
   "cell_type": "code",
   "execution_count": 71,
   "metadata": {},
   "outputs": [
    {
     "data": {
      "text/plain": [
       "63"
      ]
     },
     "execution_count": 71,
     "metadata": {},
     "output_type": "execute_result"
    }
   ],
   "source": [
    "len(content_spam_df[\"User_ID\"].unique()) #63"
   ]
  },
  {
   "cell_type": "markdown",
   "metadata": {},
   "source": [
    "### Now, we analyse the texts of the spammers."
   ]
  },
  {
   "cell_type": "code",
   "execution_count": 72,
   "metadata": {},
   "outputs": [
    {
     "data": {
      "text/plain": [
       "30697                             全国神经病等级测试题！还敢说自己不是“深井冰”？\n",
       "30698                             全国神经病等级测试题！还敢说自己不是“深井冰”？\n",
       "30699    【你适合跟谁在一起】据说经过这个测试的情侣不会分手；你和她将是最完美的酸碱中和，永远在一起。...\n",
       "30700    在这个基情四射，蕾丝满天的时代里，你还能100%确认你的性向么？做个测试看看再拍拖吧，以免害...\n",
       "30701    在这个基情四射，蕾丝满天的时代里，你还能100%确认你的性向么？做个测试看看再拍拖吧，以免害...\n",
       "Name: content, dtype: object"
      ]
     },
     "execution_count": 72,
     "metadata": {},
     "output_type": "execute_result"
    }
   ],
   "source": [
    "content_spam_df['content'].tail()"
   ]
  },
  {
   "cell_type": "markdown",
   "metadata": {},
   "source": [
    "### Read in the manually labeled dataset weibo_userwithlabel.xlsx (just added labels to dataset4) as df4_new.\n",
    "Also specify values for the few missing values."
   ]
  },
  {
   "cell_type": "code",
   "execution_count": 73,
   "metadata": {},
   "outputs": [
    {
     "data": {
      "text/html": [
       "<div>\n",
       "<style scoped>\n",
       "    .dataframe tbody tr th:only-of-type {\n",
       "        vertical-align: middle;\n",
       "    }\n",
       "\n",
       "    .dataframe tbody tr th {\n",
       "        vertical-align: top;\n",
       "    }\n",
       "\n",
       "    .dataframe thead th {\n",
       "        text-align: right;\n",
       "    }\n",
       "</style>\n",
       "<table border=\"1\" class=\"dataframe\">\n",
       "  <thead>\n",
       "    <tr style=\"text-align: right;\">\n",
       "      <th></th>\n",
       "      <th>user_id</th>\n",
       "      <th>user_name</th>\n",
       "      <th>user_image</th>\n",
       "      <th>gender</th>\n",
       "      <th>class</th>\n",
       "      <th>message</th>\n",
       "      <th>post_num</th>\n",
       "      <th>follower_num</th>\n",
       "      <th>followee_num</th>\n",
       "      <th>is_spammer</th>\n",
       "    </tr>\n",
       "  </thead>\n",
       "  <tbody>\n",
       "    <tr>\n",
       "      <th>0</th>\n",
       "      <td>1041514813</td>\n",
       "      <td>james1002</td>\n",
       "      <td>http://tp2.sinaimg.cn/1041514813/180/5708899731/1</td>\n",
       "      <td>male</td>\n",
       "      <td>5</td>\n",
       "      <td>Lv.5     浙江宁波   简介：诚信为本，站的高才能看的远。快乐开心每一天。</td>\n",
       "      <td>1557</td>\n",
       "      <td>1421</td>\n",
       "      <td>2000</td>\n",
       "      <td>-1</td>\n",
       "    </tr>\n",
       "    <tr>\n",
       "      <th>1</th>\n",
       "      <td>1046222077</td>\n",
       "      <td>郑钧</td>\n",
       "      <td>http://tp2.sinaimg.cn/1046222077/180/5711167576/1</td>\n",
       "      <td>male</td>\n",
       "      <td>10</td>\n",
       "      <td>北京东城区   简介：且把悲歌欢唱   个性域名： zhengjun    博客地址： h...</td>\n",
       "      <td>1265</td>\n",
       "      <td>1280571</td>\n",
       "      <td>130</td>\n",
       "      <td>-1</td>\n",
       "    </tr>\n",
       "    <tr>\n",
       "      <th>2</th>\n",
       "      <td>1049591831</td>\n",
       "      <td>波播阿波思密达</td>\n",
       "      <td>http://tp4.sinaimg.cn/1049591831/180/5710224593/0</td>\n",
       "      <td>female</td>\n",
       "      <td>5</td>\n",
       "      <td>Lv.5     吉林松原   1972年12月3日   简介：自由人，快乐族</td>\n",
       "      <td>503</td>\n",
       "      <td>302</td>\n",
       "      <td>968</td>\n",
       "      <td>-1</td>\n",
       "    </tr>\n",
       "    <tr>\n",
       "      <th>3</th>\n",
       "      <td>1062050703</td>\n",
       "      <td>霞儿0109</td>\n",
       "      <td>http://tp4.sinaimg.cn/1062050703/180/1277084329/0</td>\n",
       "      <td>female</td>\n",
       "      <td>9</td>\n",
       "      <td>Lv.9     福建厦门    毕业于  厦门大学     公司  ChinaZ站长...</td>\n",
       "      <td>281</td>\n",
       "      <td>148</td>\n",
       "      <td>354</td>\n",
       "      <td>-1</td>\n",
       "    </tr>\n",
       "    <tr>\n",
       "      <th>4</th>\n",
       "      <td>1071429143</td>\n",
       "      <td>紫荆花_18423</td>\n",
       "      <td>http://tp4.sinaimg.cn/1071429143/180/400610658...</td>\n",
       "      <td>female</td>\n",
       "      <td>5</td>\n",
       "      <td>Lv.5     广东湛江    毕业于  辽宁师范大学     公司  大学教师  ...</td>\n",
       "      <td>135</td>\n",
       "      <td>1975</td>\n",
       "      <td>2000</td>\n",
       "      <td>-1</td>\n",
       "    </tr>\n",
       "  </tbody>\n",
       "</table>\n",
       "</div>"
      ],
      "text/plain": [
       "      user_id  user_name                                         user_image  \\\n",
       "0  1041514813  james1002  http://tp2.sinaimg.cn/1041514813/180/5708899731/1   \n",
       "1  1046222077         郑钧  http://tp2.sinaimg.cn/1046222077/180/5711167576/1   \n",
       "2  1049591831    波播阿波思密达  http://tp4.sinaimg.cn/1049591831/180/5710224593/0   \n",
       "3  1062050703     霞儿0109  http://tp4.sinaimg.cn/1062050703/180/1277084329/0   \n",
       "4  1071429143  紫荆花_18423  http://tp4.sinaimg.cn/1071429143/180/400610658...   \n",
       "\n",
       "   gender  class                                            message  post_num  \\\n",
       "0    male      5        Lv.5     浙江宁波   简介：诚信为本，站的高才能看的远。快乐开心每一天。        1557   \n",
       "1    male     10   北京东城区   简介：且把悲歌欢唱   个性域名： zhengjun    博客地址： h...      1265   \n",
       "2  female      5          Lv.5     吉林松原   1972年12月3日   简介：自由人，快乐族         503   \n",
       "3  female      9     Lv.9     福建厦门    毕业于  厦门大学     公司  ChinaZ站长...       281   \n",
       "4  female      5     Lv.5     广东湛江    毕业于  辽宁师范大学     公司  大学教师  ...       135   \n",
       "\n",
       "   follower_num  followee_num  is_spammer  \n",
       "0          1421          2000          -1  \n",
       "1       1280571           130          -1  \n",
       "2           302           968          -1  \n",
       "3           148           354          -1  \n",
       "4          1975          2000          -1  "
      ]
     },
     "execution_count": 73,
     "metadata": {},
     "output_type": "execute_result"
    }
   ],
   "source": [
    "df4_new=pd.read_excel(\"weibo_userwithlabel.xlsx\")\n",
    "df4_new.head()"
   ]
  },
  {
   "cell_type": "code",
   "execution_count": 75,
   "metadata": {
    "scrolled": true
   },
   "outputs": [
    {
     "data": {
      "text/plain": [
       "user_id         0\n",
       "user_name       0\n",
       "user_image      0\n",
       "gender          0\n",
       "class           0\n",
       "message         0\n",
       "post_num        0\n",
       "follower_num    0\n",
       "followee_num    0\n",
       "is_spammer      0\n",
       "dtype: int64"
      ]
     },
     "execution_count": 75,
     "metadata": {},
     "output_type": "execute_result"
    }
   ],
   "source": [
    "df4_new.isnull().sum()"
   ]
  },
  {
   "cell_type": "markdown",
   "metadata": {},
   "source": [
    "#### Check the dimension of df4_new."
   ]
  },
  {
   "cell_type": "code",
   "execution_count": 76,
   "metadata": {},
   "outputs": [
    {
     "data": {
      "text/plain": [
       "(781, 10)"
      ]
     },
     "execution_count": 76,
     "metadata": {},
     "output_type": "execute_result"
    }
   ],
   "source": [
    "df4_new.shape"
   ]
  },
  {
   "cell_type": "markdown",
   "metadata": {},
   "source": [
    "#### Check the numbers of spammers and non-spammers."
   ]
  },
  {
   "cell_type": "code",
   "execution_count": 77,
   "metadata": {},
   "outputs": [
    {
     "data": {
      "text/plain": [
       "-1    623\n",
       " 1    158\n",
       "Name: is_spammer, dtype: int64"
      ]
     },
     "execution_count": 77,
     "metadata": {},
     "output_type": "execute_result"
    }
   ],
   "source": [
    "df4_new['is_spammer'].value_counts()"
   ]
  },
  {
   "cell_type": "markdown",
   "metadata": {},
   "source": [
    "#### Around 20% are spammers."
   ]
  },
  {
   "cell_type": "code",
   "execution_count": 78,
   "metadata": {},
   "outputs": [
    {
     "data": {
      "text/plain": [
       "0.2023047375160051"
      ]
     },
     "execution_count": 78,
     "metadata": {},
     "output_type": "execute_result"
    }
   ],
   "source": [
    "158/781"
   ]
  },
  {
   "cell_type": "markdown",
   "metadata": {},
   "source": [
    "#### Define a function to convert the message sentences to tokens."
   ]
  },
  {
   "cell_type": "code",
   "execution_count": 79,
   "metadata": {},
   "outputs": [],
   "source": [
    "def to_token(s):\n",
    "    token_s='  '.join(jieba.cut(s,cut_all = False))\n",
    "    return token_s"
   ]
  },
  {
   "cell_type": "markdown",
   "metadata": {},
   "source": [
    "#### Test the correctness of the function."
   ]
  },
  {
   "cell_type": "code",
   "execution_count": 80,
   "metadata": {},
   "outputs": [
    {
     "data": {
      "text/plain": [
       "'   Lv.3     香港其他   简介：在当前现实的狭隘基础上，有高尚理想，全面的计划；在一步一步行动上，想到远大前途，脚踏实地地稳步前进，才能有所成就  '"
      ]
     },
     "execution_count": 80,
     "metadata": {},
     "output_type": "execute_result"
    }
   ],
   "source": [
    "df4_new.iloc[500]['message']"
   ]
  },
  {
   "cell_type": "code",
   "execution_count": 81,
   "metadata": {},
   "outputs": [],
   "source": [
    "a=df4_new.iloc[500]['message']"
   ]
  },
  {
   "cell_type": "code",
   "execution_count": 82,
   "metadata": {},
   "outputs": [
    {
     "name": "stderr",
     "output_type": "stream",
     "text": [
      "Building prefix dict from the default dictionary ...\n",
      "Dumping model to file cache /var/folders/9q/q7_71c2561vfbg9lrq7m0_n80000gn/T/jieba.cache\n",
      "Loading model cost 1.319 seconds.\n",
      "Prefix dict has been built succesfully.\n"
     ]
    },
    {
     "data": {
      "text/plain": [
       "'         Lv.3                 香港  其他           简介  ：  在  当前  现实  的  狭隘  基础  上  ，  有  高尚  理想  ，  全面  的  计划  ；  在  一步  一步  行动  上  ，  想到  远大  前途  ，  脚踏实地  地  稳步前进  ，  才能  有所  成就      '"
      ]
     },
     "execution_count": 82,
     "metadata": {},
     "output_type": "execute_result"
    }
   ],
   "source": [
    "to_token(a)"
   ]
  },
  {
   "cell_type": "markdown",
   "metadata": {},
   "source": [
    "#### Create a new column in df4_new to store the tokened messages."
   ]
  },
  {
   "cell_type": "code",
   "execution_count": 83,
   "metadata": {},
   "outputs": [],
   "source": [
    "df4_new['token_message']=df4_new['message'].apply(to_token)  "
   ]
  },
  {
   "cell_type": "code",
   "execution_count": 84,
   "metadata": {},
   "outputs": [
    {
     "data": {
      "text/html": [
       "<div>\n",
       "<style scoped>\n",
       "    .dataframe tbody tr th:only-of-type {\n",
       "        vertical-align: middle;\n",
       "    }\n",
       "\n",
       "    .dataframe tbody tr th {\n",
       "        vertical-align: top;\n",
       "    }\n",
       "\n",
       "    .dataframe thead th {\n",
       "        text-align: right;\n",
       "    }\n",
       "</style>\n",
       "<table border=\"1\" class=\"dataframe\">\n",
       "  <thead>\n",
       "    <tr style=\"text-align: right;\">\n",
       "      <th></th>\n",
       "      <th>user_id</th>\n",
       "      <th>user_name</th>\n",
       "      <th>user_image</th>\n",
       "      <th>gender</th>\n",
       "      <th>class</th>\n",
       "      <th>message</th>\n",
       "      <th>post_num</th>\n",
       "      <th>follower_num</th>\n",
       "      <th>followee_num</th>\n",
       "      <th>is_spammer</th>\n",
       "      <th>token_message</th>\n",
       "    </tr>\n",
       "  </thead>\n",
       "  <tbody>\n",
       "    <tr>\n",
       "      <th>776</th>\n",
       "      <td>5364782215</td>\n",
       "      <td>股股生平123</td>\n",
       "      <td>http://tp4.sinaimg.cn/5364782215/180/228907024...</td>\n",
       "      <td>female</td>\n",
       "      <td>0</td>\n",
       "      <td>Lv.0     北京东城区   1982年3月16日   简介：我的微博每日开盘前半...</td>\n",
       "      <td>11</td>\n",
       "      <td>18</td>\n",
       "      <td>162</td>\n",
       "      <td>1</td>\n",
       "      <td>Lv.0                 北京  东城区         ...</td>\n",
       "    </tr>\n",
       "    <tr>\n",
       "      <th>777</th>\n",
       "      <td>5365323976</td>\n",
       "      <td>德鑫--荷香</td>\n",
       "      <td>http://tp1.sinaimg.cn/5365323976/180/400711900...</td>\n",
       "      <td>female</td>\n",
       "      <td>2</td>\n",
       "      <td>广东深圳    毕业于  武汉科技大学     公司  深圳市德鑫资产管理有限公司    ...</td>\n",
       "      <td>16</td>\n",
       "      <td>176</td>\n",
       "      <td>1075</td>\n",
       "      <td>1</td>\n",
       "      <td>广东  深圳              毕业  于        武汉  科技  大学...</td>\n",
       "    </tr>\n",
       "    <tr>\n",
       "      <th>778</th>\n",
       "      <td>5365515981</td>\n",
       "      <td>爱白马湖朱立荣</td>\n",
       "      <td>http://tp2.sinaimg.cn/5365515981/180/228904753...</td>\n",
       "      <td>female</td>\n",
       "      <td>0</td>\n",
       "      <td>Lv.0     广西来宾   1993年1月29日</td>\n",
       "      <td>15</td>\n",
       "      <td>8</td>\n",
       "      <td>285</td>\n",
       "      <td>1</td>\n",
       "      <td>Lv.0                 广西  来宾          ...</td>\n",
       "    </tr>\n",
       "    <tr>\n",
       "      <th>779</th>\n",
       "      <td>5365519449</td>\n",
       "      <td>雷神暴走JK</td>\n",
       "      <td>http://tp2.sinaimg.cn/5365519449/180/228904754...</td>\n",
       "      <td>female</td>\n",
       "      <td>0</td>\n",
       "      <td>Lv.0     福建   1991年9月28日</td>\n",
       "      <td>15</td>\n",
       "      <td>11</td>\n",
       "      <td>271</td>\n",
       "      <td>-1</td>\n",
       "      <td>Lv.0                 福建           199...</td>\n",
       "    </tr>\n",
       "    <tr>\n",
       "      <th>780</th>\n",
       "      <td>5372497984</td>\n",
       "      <td>淑女superman</td>\n",
       "      <td>http://tp1.sinaimg.cn/5372497984/180/5711090912/0</td>\n",
       "      <td>female</td>\n",
       "      <td>0</td>\n",
       "      <td>Lv.0     山东潍坊   2000年12月3日    标签  新闻趣事  名人明...</td>\n",
       "      <td>1</td>\n",
       "      <td>4</td>\n",
       "      <td>67</td>\n",
       "      <td>-1</td>\n",
       "      <td>Lv.0                 山东  潍坊          ...</td>\n",
       "    </tr>\n",
       "  </tbody>\n",
       "</table>\n",
       "</div>"
      ],
      "text/plain": [
       "        user_id   user_name  \\\n",
       "776  5364782215     股股生平123   \n",
       "777  5365323976      德鑫--荷香   \n",
       "778  5365515981     爱白马湖朱立荣   \n",
       "779  5365519449      雷神暴走JK   \n",
       "780  5372497984  淑女superman   \n",
       "\n",
       "                                            user_image  gender  class  \\\n",
       "776  http://tp4.sinaimg.cn/5364782215/180/228907024...  female      0   \n",
       "777  http://tp1.sinaimg.cn/5365323976/180/400711900...  female      2   \n",
       "778  http://tp2.sinaimg.cn/5365515981/180/228904753...  female      0   \n",
       "779  http://tp2.sinaimg.cn/5365519449/180/228904754...  female      0   \n",
       "780  http://tp1.sinaimg.cn/5372497984/180/5711090912/0  female      0   \n",
       "\n",
       "                                               message  post_num  \\\n",
       "776     Lv.0     北京东城区   1982年3月16日   简介：我的微博每日开盘前半...        11   \n",
       "777   广东深圳    毕业于  武汉科技大学     公司  深圳市德鑫资产管理有限公司    ...        16   \n",
       "778                       Lv.0     广西来宾   1993年1月29日          15   \n",
       "779                         Lv.0     福建   1991年9月28日          15   \n",
       "780     Lv.0     山东潍坊   2000年12月3日    标签  新闻趣事  名人明...         1   \n",
       "\n",
       "     follower_num  followee_num  is_spammer  \\\n",
       "776            18           162           1   \n",
       "777           176          1075           1   \n",
       "778             8           285           1   \n",
       "779            11           271          -1   \n",
       "780             4            67          -1   \n",
       "\n",
       "                                         token_message  \n",
       "776           Lv.0                 北京  东城区         ...  \n",
       "777     广东  深圳              毕业  于        武汉  科技  大学...  \n",
       "778           Lv.0                 广西  来宾          ...  \n",
       "779           Lv.0                 福建           199...  \n",
       "780           Lv.0                 山东  潍坊          ...  "
      ]
     },
     "execution_count": 84,
     "metadata": {},
     "output_type": "execute_result"
    }
   ],
   "source": [
    "df4_new.tail()"
   ]
  },
  {
   "cell_type": "code",
   "execution_count": 85,
   "metadata": {},
   "outputs": [
    {
     "data": {
      "text/plain": [
       "'         Lv.1                 上海浦东新区              毕业  于        上海交通大学              双性恋           简介  ：  我  一定  会  找到  他  ，  那片  传说  已久  的  幸福  森林  ~  ~           个性  域名  ：     xpyl8         '"
      ]
     },
     "execution_count": 85,
     "metadata": {},
     "output_type": "execute_result"
    }
   ],
   "source": [
    "df4_new.iloc[-49]['token_message']"
   ]
  },
  {
   "cell_type": "markdown",
   "metadata": {},
   "source": [
    "### Text as a set of features\n",
    "Transform from text to numeric data. Start by separating out our X and Y data."
   ]
  },
  {
   "cell_type": "code",
   "execution_count": 86,
   "metadata": {},
   "outputs": [],
   "source": [
    "X_text = df4_new['token_message']\n",
    "Y = df4_new['is_spammer']"
   ]
  },
  {
   "cell_type": "markdown",
   "metadata": {},
   "source": [
    "Turn X_text into X -- a numeric representation."
   ]
  },
  {
   "cell_type": "code",
   "execution_count": 87,
   "metadata": {},
   "outputs": [],
   "source": [
    "# Create a vectorizer that will track text as binary features\n",
    "binary_vectorizer = CountVectorizer(binary=True)\n",
    "\n",
    "# Let the vectorizer learn what tokens exist in the text data\n",
    "binary_vectorizer.fit(X_text)\n",
    "\n",
    "# Turn these tokens into a numeric matrix\n",
    "X = binary_vectorizer.transform(X_text)"
   ]
  },
  {
   "cell_type": "markdown",
   "metadata": {},
   "source": [
    "### Modeling\n",
    "We have a ton of features, let's use them in some different models."
   ]
  },
  {
   "cell_type": "code",
   "execution_count": 88,
   "metadata": {},
   "outputs": [
    {
     "name": "stdout",
     "output_type": "stream",
     "text": [
      "Area under the ROC curve for our classifier is 0.702\n"
     ]
    }
   ],
   "source": [
    "# Create a model\n",
    "svm = SVC(kernel='rbf', gamma='scale') \n",
    "\n",
    "# Use this model and our data to get 5-fold cross validation AUCs\n",
    "aucs = cross_val_score(svm, X, Y, scoring=\"roc_auc\", cv=5)\n",
    "\n",
    "# Print out the average AUC rounded to three decimal points\n",
    "print(\"Area under the ROC curve for our classifier is \" + str(round(np.mean(aucs), 3)))"
   ]
  },
  {
   "cell_type": "code",
   "execution_count": 89,
   "metadata": {},
   "outputs": [
    {
     "name": "stdout",
     "output_type": "stream",
     "text": [
      "Area under the ROC curve for our classifier is 0.702\n"
     ]
    }
   ],
   "source": [
    "# Create a model\n",
    "svm = SVC(kernel='linear', gamma='scale') \n",
    "\n",
    "# Use this model and our data to get 5-fold cross validation AUCs\n",
    "aucs = cross_val_score(svm, X, Y, scoring=\"roc_auc\", cv=5)\n",
    "\n",
    "# Print out the average AUC rounded to three decimal points\n",
    "print(\"Area under the ROC curve for our classifier is \" + str(round(np.mean(aucs), 3)))"
   ]
  },
  {
   "cell_type": "code",
   "execution_count": 90,
   "metadata": {},
   "outputs": [
    {
     "name": "stdout",
     "output_type": "stream",
     "text": [
      "Area under the ROC curve for our classifier is 0.68\n"
     ]
    }
   ],
   "source": [
    "# Create a model\n",
    "svm = SVC(kernel='poly', gamma='scale') \n",
    "\n",
    "# Use this model and our data to get 5-fold cross validation AUCs\n",
    "aucs = cross_val_score(svm, X, Y, scoring=\"roc_auc\", cv=5)\n",
    "\n",
    "# Print out the average AUC rounded to three decimal points\n",
    "print(\"Area under the ROC curve for our classifier is \" + str(round(np.mean(aucs), 3)))"
   ]
  },
  {
   "cell_type": "code",
   "execution_count": 91,
   "metadata": {},
   "outputs": [
    {
     "name": "stdout",
     "output_type": "stream",
     "text": [
      "Area under the ROC curve for our classifier is 0.708\n"
     ]
    }
   ],
   "source": [
    "# Create a model\n",
    "svm = SVC(kernel='sigmoid', gamma='scale') \n",
    "\n",
    "# Use this model and our data to get 5-fold cross validation AUCs\n",
    "aucs = cross_val_score(svm, X, Y, scoring=\"roc_auc\", cv=5)\n",
    "\n",
    "# Print out the average AUC rounded to three decimal points\n",
    "print(\"Area under the ROC curve for our classifier is \" + str(round(np.mean(aucs), 3)))"
   ]
  },
  {
   "cell_type": "markdown",
   "metadata": {},
   "source": [
    "#### Let's try using TF-IDF."
   ]
  },
  {
   "cell_type": "code",
   "execution_count": 93,
   "metadata": {},
   "outputs": [],
   "source": [
    "# Create a vectorizer that will track text as binary features\n",
    "tfidf_vectorizer = TfidfVectorizer()\n",
    "\n",
    "# Let the vectorizer learn what tokens exist in the text data\n",
    "tfidf_vectorizer.fit(X_text)\n",
    "\n",
    "# Turn these tokens into a numeric matrix\n",
    "X = tfidf_vectorizer.transform(X_text)"
   ]
  },
  {
   "cell_type": "code",
   "execution_count": 94,
   "metadata": {},
   "outputs": [
    {
     "name": "stdout",
     "output_type": "stream",
     "text": [
      "Area under the ROC curve for our classifier is 0.691\n"
     ]
    }
   ],
   "source": [
    "# Create a model\n",
    "svm = SVC(kernel='rbf', gamma='scale')\n",
    "\n",
    "# Use this model and our data to get 5-fold cross validation AUCs\n",
    "aucs = cross_val_score(svm, X, Y, scoring=\"roc_auc\", cv=5)\n",
    "\n",
    "# Print out the average AUC rounded to three decimal points\n",
    "print(\"Area under the ROC curve for our classifier is \" + str(round(np.mean(aucs), 3)))"
   ]
  },
  {
   "cell_type": "code",
   "execution_count": 95,
   "metadata": {},
   "outputs": [
    {
     "name": "stdout",
     "output_type": "stream",
     "text": [
      "Area under the ROC curve for our classifier is 0.704\n"
     ]
    }
   ],
   "source": [
    "# Create a model\n",
    "svm = SVC(kernel='linear', gamma='scale')\n",
    "\n",
    "# Use this model and our data to get 5-fold cross validation AUCs\n",
    "aucs = cross_val_score(svm, X, Y, scoring=\"roc_auc\", cv=5)\n",
    "\n",
    "# Print out the average AUC rounded to three decimal points\n",
    "print(\"Area under the ROC curve for our classifier is \" + str(round(np.mean(aucs), 3)))"
   ]
  },
  {
   "cell_type": "code",
   "execution_count": 96,
   "metadata": {},
   "outputs": [
    {
     "name": "stdout",
     "output_type": "stream",
     "text": [
      "Area under the ROC curve for our classifier is 0.691\n"
     ]
    }
   ],
   "source": [
    "# Create a model\n",
    "svm = SVC(kernel='sigmoid', gamma='scale')\n",
    "\n",
    "# Use this model and our data to get 5-fold cross validation AUCs\n",
    "aucs = cross_val_score(svm, X, Y, scoring=\"roc_auc\", cv=5)\n",
    "\n",
    "# Print out the average AUC rounded to three decimal points\n",
    "print(\"Area under the ROC curve for our classifier is \" + str(round(np.mean(aucs), 3)))"
   ]
  },
  {
   "cell_type": "code",
   "execution_count": 97,
   "metadata": {},
   "outputs": [
    {
     "name": "stdout",
     "output_type": "stream",
     "text": [
      "Area under the ROC curve for our classifier is 0.564\n"
     ]
    }
   ],
   "source": [
    "# Create a model\n",
    "svm = SVC(kernel='poly', gamma='scale')\n",
    "\n",
    "# Use this model and our data to get 5-fold cross validation AUCs\n",
    "aucs = cross_val_score(svm, X, Y, scoring=\"roc_auc\", cv=5)\n",
    "\n",
    "# Print out the average AUC rounded to three decimal points\n",
    "print(\"Area under the ROC curve for our classifier is \" + str(round(np.mean(aucs), 3)))"
   ]
  },
  {
   "cell_type": "markdown",
   "metadata": {},
   "source": [
    "### Random forest\n",
    "#### CountVectorizer"
   ]
  },
  {
   "cell_type": "code",
   "execution_count": 99,
   "metadata": {},
   "outputs": [
    {
     "name": "stdout",
     "output_type": "stream",
     "text": [
      "Area under the ROC curve for our classifier is 0.757\n"
     ]
    }
   ],
   "source": [
    "# Create a vectorizer that will track text as binary features\n",
    "count_vectorizer = CountVectorizer(binary=True)\n",
    "\n",
    "# Let the vectorizer learn what tokens exist in the text data\n",
    "count_vectorizer.fit(X_text)\n",
    "\n",
    "# Turn these tokens into a numeric matrix\n",
    "X = count_vectorizer.transform(X_text)\n",
    "\n",
    "# Create a model\n",
    "\n",
    "rdf=RandomForestClassifier(n_estimators=100)\n",
    "\n",
    "# Use this model and our data to get 5-fold cross validation AUCs\n",
    "aucs = cross_val_score(rdf, X, Y, scoring=\"roc_auc\", cv=5)\n",
    "\n",
    "# Print out the average AUC rounded to three decimal points\n",
    "print(\"Area under the ROC curve for our classifier is \" + str(round(np.mean(aucs), 3)))"
   ]
  },
  {
   "cell_type": "code",
   "execution_count": 98,
   "metadata": {},
   "outputs": [
    {
     "name": "stdout",
     "output_type": "stream",
     "text": [
      "Area under the ROC curve for our classifier is 0.765\n"
     ]
    }
   ],
   "source": [
    "# Create a vectorizer that will track text as binary features\n",
    "count_vectorizer = CountVectorizer(binary=True)\n",
    "\n",
    "# Let the vectorizer learn what tokens exist in the text data\n",
    "count_vectorizer.fit(X_text)\n",
    "\n",
    "# Turn these tokens into a numeric matrix\n",
    "X = count_vectorizer.transform(X_text)\n",
    "\n",
    "# Create a model\n",
    "\n",
    "rdf=RandomForestClassifier(n_estimators=200)\n",
    "\n",
    "# Use this model and our data to get 5-fold cross validation AUCs\n",
    "aucs = cross_val_score(rdf, X, Y, scoring=\"roc_auc\", cv=5)\n",
    "\n",
    "# Print out the average AUC rounded to three decimal points\n",
    "print(\"Area under the ROC curve for our classifier is \" + str(round(np.mean(aucs), 3)))"
   ]
  },
  {
   "cell_type": "code",
   "execution_count": 100,
   "metadata": {},
   "outputs": [
    {
     "name": "stdout",
     "output_type": "stream",
     "text": [
      "Area under the ROC curve for our classifier is 0.76\n"
     ]
    }
   ],
   "source": [
    "# Create a vectorizer that will track text as binary features\n",
    "count_vectorizer = CountVectorizer(binary=True)\n",
    "\n",
    "# Let the vectorizer learn what tokens exist in the text data\n",
    "count_vectorizer.fit(X_text)\n",
    "\n",
    "# Turn these tokens into a numeric matrix\n",
    "X = count_vectorizer.transform(X_text)\n",
    "\n",
    "# Create a model\n",
    "\n",
    "rdf=RandomForestClassifier(n_estimators=500)\n",
    "\n",
    "# Use this model and our data to get 5-fold cross validation AUCs\n",
    "aucs = cross_val_score(rdf, X, Y, scoring=\"roc_auc\", cv=5)\n",
    "\n",
    "# Print out the average AUC rounded to three decimal points\n",
    "print(\"Area under the ROC curve for our classifier is \" + str(round(np.mean(aucs), 3)))"
   ]
  },
  {
   "cell_type": "code",
   "execution_count": 101,
   "metadata": {},
   "outputs": [
    {
     "name": "stdout",
     "output_type": "stream",
     "text": [
      "Area under the ROC curve for our classifier is 0.785\n"
     ]
    }
   ],
   "source": [
    "# Create a vectorizer that will track text as binary features\n",
    "count_vectorizer = CountVectorizer(binary=True)\n",
    "\n",
    "# Let the vectorizer learn what tokens exist in the text data\n",
    "count_vectorizer.fit(X_text)\n",
    "\n",
    "# Turn these tokens into a numeric matrix\n",
    "X = count_vectorizer.transform(X_text)\n",
    "\n",
    "# Create a model\n",
    "\n",
    "rdf=RandomForestClassifier(n_estimators=200, max_depth=40)\n",
    "\n",
    "# Use this model and our data to get 5-fold cross validation AUCs\n",
    "aucs = cross_val_score(rdf, X, Y, scoring=\"roc_auc\", cv=5)\n",
    "\n",
    "# Print out the average AUC rounded to three decimal points\n",
    "print(\"Area under the ROC curve for our classifier is \" + str(round(np.mean(aucs), 3)))"
   ]
  },
  {
   "cell_type": "code",
   "execution_count": 103,
   "metadata": {},
   "outputs": [
    {
     "name": "stdout",
     "output_type": "stream",
     "text": [
      "Area under the ROC curve for our classifier is 0.773\n"
     ]
    }
   ],
   "source": [
    "# Create a vectorizer that will track text as binary features\n",
    "count_vectorizer = CountVectorizer(binary=True)\n",
    "\n",
    "# Let the vectorizer learn what tokens exist in the text data\n",
    "count_vectorizer.fit(X_text)\n",
    "\n",
    "# Turn these tokens into a numeric matrix\n",
    "X = count_vectorizer.transform(X_text)\n",
    "\n",
    "# Create a model\n",
    "\n",
    "rdf=RandomForestClassifier(n_estimators=200, max_depth=60)\n",
    "\n",
    "# Use this model and our data to get 5-fold cross validation AUCs\n",
    "aucs = cross_val_score(rdf, X, Y, scoring=\"roc_auc\", cv=5)\n",
    "\n",
    "# Print out the average AUC rounded to three decimal points\n",
    "print(\"Area under the ROC curve for our classifier is \" + str(round(np.mean(aucs), 3)))"
   ]
  },
  {
   "cell_type": "code",
   "execution_count": 104,
   "metadata": {},
   "outputs": [
    {
     "name": "stdout",
     "output_type": "stream",
     "text": [
      "Area under the ROC curve for our classifier is 0.78\n"
     ]
    }
   ],
   "source": [
    "# Create a vectorizer that will track text as binary features\n",
    "count_vectorizer = CountVectorizer(binary=True)\n",
    "\n",
    "# Let the vectorizer learn what tokens exist in the text data\n",
    "count_vectorizer.fit(X_text)\n",
    "\n",
    "# Turn these tokens into a numeric matrix\n",
    "X = count_vectorizer.transform(X_text)\n",
    "\n",
    "# Create a model\n",
    "\n",
    "rdf=RandomForestClassifier(n_estimators=200, max_depth=20)\n",
    "\n",
    "# Use this model and our data to get 5-fold cross validation AUCs\n",
    "aucs = cross_val_score(rdf, X, Y, scoring=\"roc_auc\", cv=5)\n",
    "\n",
    "# Print out the average AUC rounded to three decimal points\n",
    "print(\"Area under the ROC curve for our classifier is \" + str(round(np.mean(aucs), 3)))"
   ]
  },
  {
   "cell_type": "code",
   "execution_count": 102,
   "metadata": {},
   "outputs": [
    {
     "name": "stdout",
     "output_type": "stream",
     "text": [
      "Area under the ROC curve for our classifier is 0.774\n"
     ]
    }
   ],
   "source": [
    "# Create a vectorizer that will track text as binary features\n",
    "count_vectorizer = CountVectorizer(binary=True)\n",
    "\n",
    "# Let the vectorizer learn what tokens exist in the text data\n",
    "count_vectorizer.fit(X_text)\n",
    "\n",
    "# Turn these tokens into a numeric matrix\n",
    "X = count_vectorizer.transform(X_text)\n",
    "\n",
    "# Create a model\n",
    "\n",
    "rdf=RandomForestClassifier(n_estimators=200, max_depth=80)\n",
    "\n",
    "# Use this model and our data to get 5-fold cross validation AUCs\n",
    "aucs = cross_val_score(rdf, X, Y, scoring=\"roc_auc\", cv=5)\n",
    "\n",
    "# Print out the average AUC rounded to three decimal points\n",
    "print(\"Area under the ROC curve for our classifier is \" + str(round(np.mean(aucs), 3)))"
   ]
  },
  {
   "cell_type": "markdown",
   "metadata": {},
   "source": [
    "#### Using random forest and CountVectorizer, the best one is when n_estimators=200 and max_depth=40"
   ]
  },
  {
   "cell_type": "code",
   "execution_count": 105,
   "metadata": {},
   "outputs": [],
   "source": [
    "# Create a vectorizer that will track text as binary features\n",
    "tfidf_vectorizer = TfidfVectorizer()\n",
    "\n",
    "# Let the vectorizer learn what tokens exist in the text data\n",
    "tfidf_vectorizer.fit(X_text)\n",
    "\n",
    "# Turn these tokens into a numeric matrix\n",
    "X = tfidf_vectorizer.transform(X_text)"
   ]
  },
  {
   "cell_type": "code",
   "execution_count": 108,
   "metadata": {},
   "outputs": [
    {
     "name": "stdout",
     "output_type": "stream",
     "text": [
      "Area under the ROC curve for our classifier is 0.707\n"
     ]
    }
   ],
   "source": [
    "# Create a model\n",
    "\n",
    "rdf=RandomForestClassifier(n_estimators=100)\n",
    "\n",
    "# Use this model and our data to get 5-fold cross validation AUCs\n",
    "aucs = cross_val_score(rdf, X, Y, scoring=\"roc_auc\", cv=5)\n",
    "\n",
    "# Print out the average AUC rounded to three decimal points\n",
    "print(\"Area under the ROC curve for our classifier is \" + str(round(np.mean(aucs), 3)))"
   ]
  },
  {
   "cell_type": "code",
   "execution_count": 109,
   "metadata": {},
   "outputs": [
    {
     "name": "stdout",
     "output_type": "stream",
     "text": [
      "Area under the ROC curve for our classifier is 0.712\n"
     ]
    }
   ],
   "source": [
    "# Create a model\n",
    "\n",
    "rdf=RandomForestClassifier(n_estimators=200)\n",
    "\n",
    "# Use this model and our data to get 5-fold cross validation AUCs\n",
    "aucs = cross_val_score(rdf, X, Y, scoring=\"roc_auc\", cv=5)\n",
    "\n",
    "# Print out the average AUC rounded to three decimal points\n",
    "print(\"Area under the ROC curve for our classifier is \" + str(round(np.mean(aucs), 3)))"
   ]
  },
  {
   "cell_type": "code",
   "execution_count": 106,
   "metadata": {},
   "outputs": [
    {
     "name": "stdout",
     "output_type": "stream",
     "text": [
      "Area under the ROC curve for our classifier is 0.745\n"
     ]
    }
   ],
   "source": [
    "# Create a model\n",
    "\n",
    "rdf=RandomForestClassifier(n_estimators=200, max_depth=20)\n",
    "\n",
    "# Use this model and our data to get 5-fold cross validation AUCs\n",
    "aucs = cross_val_score(rdf, X, Y, scoring=\"roc_auc\", cv=5)\n",
    "\n",
    "# Print out the average AUC rounded to three decimal points\n",
    "print(\"Area under the ROC curve for our classifier is \" + str(round(np.mean(aucs), 3)))"
   ]
  },
  {
   "cell_type": "code",
   "execution_count": 107,
   "metadata": {},
   "outputs": [
    {
     "name": "stdout",
     "output_type": "stream",
     "text": [
      "Area under the ROC curve for our classifier is 0.728\n"
     ]
    }
   ],
   "source": [
    "rdf=RandomForestClassifier(n_estimators=200, max_depth=40)\n",
    "\n",
    "# Use this model and our data to get 5-fold cross validation AUCs\n",
    "aucs = cross_val_score(rdf, X, Y, scoring=\"roc_auc\", cv=5)\n",
    "\n",
    "# Print out the average AUC rounded to three decimal points\n",
    "print(\"Area under the ROC curve for our classifier is \" + str(round(np.mean(aucs), 3)))"
   ]
  },
  {
   "cell_type": "code",
   "execution_count": 110,
   "metadata": {},
   "outputs": [
    {
     "name": "stdout",
     "output_type": "stream",
     "text": [
      "Area under the ROC curve for our classifier is 0.723\n"
     ]
    }
   ],
   "source": [
    "rdf=RandomForestClassifier(n_estimators=200, max_depth=80)\n",
    "\n",
    "# Use this model and our data to get 5-fold cross validation AUCs\n",
    "aucs = cross_val_score(rdf, X, Y, scoring=\"roc_auc\", cv=5)\n",
    "\n",
    "# Print out the average AUC rounded to three decimal points\n",
    "print(\"Area under the ROC curve for our classifier is \" + str(round(np.mean(aucs), 3)))"
   ]
  },
  {
   "cell_type": "code",
   "execution_count": 112,
   "metadata": {},
   "outputs": [
    {
     "name": "stdout",
     "output_type": "stream",
     "text": [
      "Area under the ROC curve for our classifier is 0.752\n"
     ]
    }
   ],
   "source": [
    "rdf=RandomForestClassifier(n_estimators=500, max_depth=20)\n",
    "\n",
    "# Use this model and our data to get 5-fold cross validation AUCs\n",
    "aucs = cross_val_score(rdf, X, Y, scoring=\"roc_auc\", cv=5)\n",
    "\n",
    "# Print out the average AUC rounded to three decimal points\n",
    "print(\"Area under the ROC curve for our classifier is \" + str(round(np.mean(aucs), 3)))"
   ]
  },
  {
   "cell_type": "markdown",
   "metadata": {},
   "source": [
    "### Now we try to improve the text mining classification results by considering the spammers contents in dataframe df3."
   ]
  },
  {
   "cell_type": "code",
   "execution_count": 113,
   "metadata": {},
   "outputs": [
    {
     "data": {
      "text/plain": [
       "3517"
      ]
     },
     "execution_count": 113,
     "metadata": {},
     "output_type": "execute_result"
    }
   ],
   "source": [
    "len(tfidf_vectorizer.fit(X_text).vocabulary_.keys())"
   ]
  },
  {
   "cell_type": "markdown",
   "metadata": {},
   "source": [
    "#### Create new spammer dataframe."
   ]
  },
  {
   "cell_type": "code",
   "execution_count": 114,
   "metadata": {},
   "outputs": [
    {
     "data": {
      "text/plain": [
       "(158, 11)"
      ]
     },
     "execution_count": 114,
     "metadata": {},
     "output_type": "execute_result"
    }
   ],
   "source": [
    "IS_spammer=df4_new.loc[df4_new['is_spammer'] == 1.0]\n",
    "IS_spammer.shape"
   ]
  },
  {
   "cell_type": "code",
   "execution_count": 115,
   "metadata": {},
   "outputs": [
    {
     "data": {
      "text/plain": [
       "female    112\n",
       "male       46\n",
       "Name: gender, dtype: int64"
      ]
     },
     "execution_count": 115,
     "metadata": {},
     "output_type": "execute_result"
    }
   ],
   "source": [
    "IS_spammer[\"gender\"].value_counts()"
   ]
  },
  {
   "cell_type": "code",
   "execution_count": 116,
   "metadata": {},
   "outputs": [
    {
     "data": {
      "text/plain": [
       "2     27\n",
       "7     26\n",
       "3     26\n",
       "0     21\n",
       "1     19\n",
       "4     14\n",
       "5     10\n",
       "6      8\n",
       "9      4\n",
       "11     2\n",
       "8      1\n",
       "Name: class, dtype: int64"
      ]
     },
     "execution_count": 116,
     "metadata": {},
     "output_type": "execute_result"
    }
   ],
   "source": [
    "IS_spammer['class'].value_counts()"
   ]
  },
  {
   "cell_type": "markdown",
   "metadata": {},
   "source": [
    "#### A list of the new spammers."
   ]
  },
  {
   "cell_type": "code",
   "execution_count": 117,
   "metadata": {},
   "outputs": [
    {
     "data": {
      "text/plain": [
       "158"
      ]
     },
     "execution_count": 117,
     "metadata": {},
     "output_type": "execute_result"
    }
   ],
   "source": [
    "SPAMMERlist=list(IS_spammer['user_id'].unique())\n",
    "len(SPAMMERlist) #158"
   ]
  },
  {
   "cell_type": "markdown",
   "metadata": {},
   "source": [
    "### See the messages of the spammers in df3_new1"
   ]
  },
  {
   "cell_type": "code",
   "execution_count": 118,
   "metadata": {},
   "outputs": [
    {
     "data": {
      "text/plain": [
       "(6604, 8)"
      ]
     },
     "execution_count": 118,
     "metadata": {},
     "output_type": "execute_result"
    }
   ],
   "source": [
    "content_SPAMMER=[]\n",
    "\n",
    "for i in range(len(SPAMMERlist)):\n",
    "    if  str(SPAMMERlist[i]) in df3_new1['User_ID'].unique():\n",
    "        temp= df3_new1.loc[df3_new1['User_ID'] == str(SPAMMERlist[i]) ]\n",
    "        content_SPAMMER.append(temp)\n",
    "    \n",
    "content_SPAMMER_df=pd.concat(content_SPAMMER)\n",
    "content_SPAMMER_df.shape  #(6604, 8)"
   ]
  },
  {
   "cell_type": "code",
   "execution_count": 119,
   "metadata": {
    "scrolled": true
   },
   "outputs": [
    {
     "data": {
      "text/html": [
       "<div>\n",
       "<style scoped>\n",
       "    .dataframe tbody tr th:only-of-type {\n",
       "        vertical-align: middle;\n",
       "    }\n",
       "\n",
       "    .dataframe tbody tr th {\n",
       "        vertical-align: top;\n",
       "    }\n",
       "\n",
       "    .dataframe thead th {\n",
       "        text-align: right;\n",
       "    }\n",
       "</style>\n",
       "<table border=\"1\" class=\"dataframe\">\n",
       "  <thead>\n",
       "    <tr style=\"text-align: right;\">\n",
       "      <th></th>\n",
       "      <th>post_id</th>\n",
       "      <th>post_time</th>\n",
       "      <th>content</th>\n",
       "      <th>poster_id</th>\n",
       "      <th>poster_url</th>\n",
       "      <th>repost_num</th>\n",
       "      <th>comment_num</th>\n",
       "      <th>User_ID</th>\n",
       "    </tr>\n",
       "  </thead>\n",
       "  <tbody>\n",
       "    <tr>\n",
       "      <th>30697</th>\n",
       "      <td>3.776980e+15</td>\n",
       "      <td>2014-11-15 01:28:00</td>\n",
       "      <td>全国神经病等级测试题！还敢说自己不是“深井冰”？</td>\n",
       "      <td>5.365516e+09</td>\n",
       "      <td>http://weibo.com/5365515981</td>\n",
       "      <td>0.0</td>\n",
       "      <td>0.0</td>\n",
       "      <td>5365515981</td>\n",
       "    </tr>\n",
       "    <tr>\n",
       "      <th>30698</th>\n",
       "      <td>3.776810e+15</td>\n",
       "      <td>2014-11-14 14:21:00</td>\n",
       "      <td>全国神经病等级测试题！还敢说自己不是“深井冰”？</td>\n",
       "      <td>5.365516e+09</td>\n",
       "      <td>http://weibo.com/5365515981</td>\n",
       "      <td>0.0</td>\n",
       "      <td>0.0</td>\n",
       "      <td>5365515981</td>\n",
       "    </tr>\n",
       "    <tr>\n",
       "      <th>30699</th>\n",
       "      <td>3.776640e+15</td>\n",
       "      <td>2014-11-14 02:54:00</td>\n",
       "      <td>【你适合跟谁在一起】据说经过这个测试的情侣不会分手；你和她将是最完美的酸碱中和，永远在一起。...</td>\n",
       "      <td>5.365516e+09</td>\n",
       "      <td>http://weibo.com/5365515981</td>\n",
       "      <td>0.0</td>\n",
       "      <td>0.0</td>\n",
       "      <td>5365515981</td>\n",
       "    </tr>\n",
       "    <tr>\n",
       "      <th>30700</th>\n",
       "      <td>3.776510e+15</td>\n",
       "      <td>2014-11-13 18:32:00</td>\n",
       "      <td>在这个基情四射，蕾丝满天的时代里，你还能100%确认你的性向么？做个测试看看再拍拖吧，以免害...</td>\n",
       "      <td>5.365516e+09</td>\n",
       "      <td>http://weibo.com/5365515981</td>\n",
       "      <td>0.0</td>\n",
       "      <td>0.0</td>\n",
       "      <td>5365515981</td>\n",
       "    </tr>\n",
       "    <tr>\n",
       "      <th>30701</th>\n",
       "      <td>3.776410e+15</td>\n",
       "      <td>2014-11-13 11:19:00</td>\n",
       "      <td>在这个基情四射，蕾丝满天的时代里，你还能100%确认你的性向么？做个测试看看再拍拖吧，以免害...</td>\n",
       "      <td>5.365516e+09</td>\n",
       "      <td>http://weibo.com/5365515981</td>\n",
       "      <td>0.0</td>\n",
       "      <td>0.0</td>\n",
       "      <td>5365515981</td>\n",
       "    </tr>\n",
       "  </tbody>\n",
       "</table>\n",
       "</div>"
      ],
      "text/plain": [
       "            post_id           post_time  \\\n",
       "30697  3.776980e+15 2014-11-15 01:28:00   \n",
       "30698  3.776810e+15 2014-11-14 14:21:00   \n",
       "30699  3.776640e+15 2014-11-14 02:54:00   \n",
       "30700  3.776510e+15 2014-11-13 18:32:00   \n",
       "30701  3.776410e+15 2014-11-13 11:19:00   \n",
       "\n",
       "                                                 content     poster_id  \\\n",
       "30697                           全国神经病等级测试题！还敢说自己不是“深井冰”？  5.365516e+09   \n",
       "30698                           全国神经病等级测试题！还敢说自己不是“深井冰”？  5.365516e+09   \n",
       "30699  【你适合跟谁在一起】据说经过这个测试的情侣不会分手；你和她将是最完美的酸碱中和，永远在一起。...  5.365516e+09   \n",
       "30700  在这个基情四射，蕾丝满天的时代里，你还能100%确认你的性向么？做个测试看看再拍拖吧，以免害...  5.365516e+09   \n",
       "30701  在这个基情四射，蕾丝满天的时代里，你还能100%确认你的性向么？做个测试看看再拍拖吧，以免害...  5.365516e+09   \n",
       "\n",
       "                        poster_url  repost_num  comment_num     User_ID  \n",
       "30697  http://weibo.com/5365515981         0.0          0.0  5365515981  \n",
       "30698  http://weibo.com/5365515981         0.0          0.0  5365515981  \n",
       "30699  http://weibo.com/5365515981         0.0          0.0  5365515981  \n",
       "30700  http://weibo.com/5365515981         0.0          0.0  5365515981  \n",
       "30701  http://weibo.com/5365515981         0.0          0.0  5365515981  "
      ]
     },
     "execution_count": 119,
     "metadata": {},
     "output_type": "execute_result"
    }
   ],
   "source": [
    "content_SPAMMER_df[-5:]"
   ]
  },
  {
   "cell_type": "markdown",
   "metadata": {},
   "source": [
    "#### 83 spammers exist in df3"
   ]
  },
  {
   "cell_type": "code",
   "execution_count": 120,
   "metadata": {},
   "outputs": [
    {
     "data": {
      "text/plain": [
       "83"
      ]
     },
     "execution_count": 120,
     "metadata": {},
     "output_type": "execute_result"
    }
   ],
   "source": [
    "len(content_SPAMMER_df[\"User_ID\"].unique()) #83"
   ]
  },
  {
   "cell_type": "markdown",
   "metadata": {},
   "source": [
    "#### Spammer list in df3."
   ]
  },
  {
   "cell_type": "code",
   "execution_count": 121,
   "metadata": {},
   "outputs": [],
   "source": [
    "spammer_list_df3=content_SPAMMER_df[\"User_ID\"].unique()"
   ]
  },
  {
   "cell_type": "markdown",
   "metadata": {},
   "source": [
    "#### Make a dictionary such that the keys are the spammers' User_ID, and the values are the aggregated contents of the spammers."
   ]
  },
  {
   "cell_type": "code",
   "execution_count": 122,
   "metadata": {},
   "outputs": [],
   "source": [
    "spamcontent_dict=dict()\n",
    "for i in range(len(spammer_list_df3)):\n",
    "    spamcontent_dict[spammer_list_df3[i]]=str(content_SPAMMER_df.loc[content_SPAMMER_df['User_ID'] == spammer_list_df3[i]]['content'])"
   ]
  },
  {
   "cell_type": "code",
   "execution_count": 124,
   "metadata": {
    "scrolled": true
   },
   "outputs": [
    {
     "data": {
      "text/plain": [
       "'30687    热门【读心术】一个据说能看穿你的人性和欲望的心理测试！这个测验测过无数人，都很准。我把这个图...\\n30688                  【读心术】超级精准的读心测试，一分钟读出你最假的一面，你有勇气试试吗？\\n30689                           【读心术】神奇的素描图像测试你的内心世界，准的可怕！\\n30690                                  【读心小测试】你的外表和内心哪个更美?\\n30691                             全国神经病等级测试题！还敢说自己不是“深井冰”？\\n30692    在这个基情四射，蕾丝满天的时代里，你还能100%确认你的性向么？做个测试看看再拍拖吧，以免害...\\n30693                                          【你会和谁结婚】很准哦\\n30694                           【读心术】神奇的素描图像测试你的内心世界，准的可怕！\\n30695           右手食指指纹决定了你的爱情！吖，你还别不信，看过的木有人说不准滴。不信，你试试！！！\\n30696    【读心术】一个据说能看穿你的人性和欲望的心理测试！这个测验测过无数人，都很准。我把这个图画下...\\n30697                             全国神经病等级测试题！还敢说自己不是“深井冰”？\\n30698                             全国神经病等级测试题！还敢说自己不是“深井冰”？\\n30699    【你适合跟谁在一起】据说经过这个测试的情侣不会分手；你和她将是最完美的酸碱中和，永远在一起。...\\n30700    在这个基情四射，蕾丝满天的时代里，你还能100%确认你的性向么？做个测试看看再拍拖吧，以免害...\\n30701    在这个基情四射，蕾丝满天的时代里，你还能100%确认你的性向么？做个测试看看再拍拖吧，以免害...\\nName: content, dtype: object'"
      ]
     },
     "execution_count": 124,
     "metadata": {},
     "output_type": "execute_result"
    }
   ],
   "source": [
    "spamcontent_dict['5365515981']"
   ]
  },
  {
   "cell_type": "markdown",
   "metadata": {},
   "source": [
    "#### Add the spammers' messages in the spamcontent_dict to the dataframe in df4_new."
   ]
  },
  {
   "cell_type": "code",
   "execution_count": 125,
   "metadata": {},
   "outputs": [
    {
     "data": {
      "text/plain": [
       "'5365515981'"
      ]
     },
     "execution_count": 125,
     "metadata": {},
     "output_type": "execute_result"
    }
   ],
   "source": [
    "list(spamcontent_dict.keys())[-1]"
   ]
  },
  {
   "cell_type": "code",
   "execution_count": 126,
   "metadata": {},
   "outputs": [
    {
     "data": {
      "text/plain": [
       "'5365515981'"
      ]
     },
     "execution_count": 126,
     "metadata": {},
     "output_type": "execute_result"
    }
   ],
   "source": [
    "spammer_list_df3[-1]"
   ]
  },
  {
   "cell_type": "code",
   "execution_count": 178,
   "metadata": {},
   "outputs": [
    {
     "data": {
      "text/plain": [
       "'30687    热门【读心术】一个据说能看穿你的人性和欲望的心理测试！这个测验测过无数人，都很准。我把这个图...\\n30688                  【读心术】超级精准的读心测试，一分钟读出你最假的一面，你有勇气试试吗？\\n30689                           【读心术】神奇的素描图像测试你的内心世界，准的可怕！\\n30690                                  【读心小测试】你的外表和内心哪个更美?\\n30691                             全国神经病等级测试题！还敢说自己不是“深井冰”？\\n30692    在这个基情四射，蕾丝满天的时代里，你还能100%确认你的性向么？做个测试看看再拍拖吧，以免害...\\n30693                                          【你会和谁结婚】很准哦\\n30694                           【读心术】神奇的素描图像测试你的内心世界，准的可怕！\\n30695           右手食指指纹决定了你的爱情！吖，你还别不信，看过的木有人说不准滴。不信，你试试！！！\\n30696    【读心术】一个据说能看穿你的人性和欲望的心理测试！这个测验测过无数人，都很准。我把这个图画下...\\n30697                             全国神经病等级测试题！还敢说自己不是“深井冰”？\\n30698                             全国神经病等级测试题！还敢说自己不是“深井冰”？\\n30699    【你适合跟谁在一起】据说经过这个测试的情侣不会分手；你和她将是最完美的酸碱中和，永远在一起。...\\n30700    在这个基情四射，蕾丝满天的时代里，你还能100%确认你的性向么？做个测试看看再拍拖吧，以免害...\\n30701    在这个基情四射，蕾丝满天的时代里，你还能100%确认你的性向么？做个测试看看再拍拖吧，以免害...\\nName: content, dtype: object'"
      ]
     },
     "execution_count": 178,
     "metadata": {},
     "output_type": "execute_result"
    }
   ],
   "source": [
    "spamcontent_dict[spammer_list_df3[-1]]"
   ]
  },
  {
   "cell_type": "code",
   "execution_count": 127,
   "metadata": {
    "scrolled": true
   },
   "outputs": [
    {
     "data": {
      "text/html": [
       "<div>\n",
       "<style scoped>\n",
       "    .dataframe tbody tr th:only-of-type {\n",
       "        vertical-align: middle;\n",
       "    }\n",
       "\n",
       "    .dataframe tbody tr th {\n",
       "        vertical-align: top;\n",
       "    }\n",
       "\n",
       "    .dataframe thead th {\n",
       "        text-align: right;\n",
       "    }\n",
       "</style>\n",
       "<table border=\"1\" class=\"dataframe\">\n",
       "  <thead>\n",
       "    <tr style=\"text-align: right;\">\n",
       "      <th></th>\n",
       "      <th>user_id</th>\n",
       "      <th>user_name</th>\n",
       "      <th>user_image</th>\n",
       "      <th>gender</th>\n",
       "      <th>class</th>\n",
       "      <th>message</th>\n",
       "      <th>post_num</th>\n",
       "      <th>follower_num</th>\n",
       "      <th>followee_num</th>\n",
       "      <th>is_spammer</th>\n",
       "      <th>token_message</th>\n",
       "    </tr>\n",
       "  </thead>\n",
       "  <tbody>\n",
       "    <tr>\n",
       "      <th>776</th>\n",
       "      <td>5364782215</td>\n",
       "      <td>股股生平123</td>\n",
       "      <td>http://tp4.sinaimg.cn/5364782215/180/228907024...</td>\n",
       "      <td>female</td>\n",
       "      <td>0</td>\n",
       "      <td>Lv.0     北京东城区   1982年3月16日   简介：我的微博每日开盘前半...</td>\n",
       "      <td>11</td>\n",
       "      <td>18</td>\n",
       "      <td>162</td>\n",
       "      <td>1</td>\n",
       "      <td>Lv.0                 北京  东城区         ...</td>\n",
       "    </tr>\n",
       "    <tr>\n",
       "      <th>777</th>\n",
       "      <td>5365323976</td>\n",
       "      <td>德鑫--荷香</td>\n",
       "      <td>http://tp1.sinaimg.cn/5365323976/180/400711900...</td>\n",
       "      <td>female</td>\n",
       "      <td>2</td>\n",
       "      <td>广东深圳    毕业于  武汉科技大学     公司  深圳市德鑫资产管理有限公司    ...</td>\n",
       "      <td>16</td>\n",
       "      <td>176</td>\n",
       "      <td>1075</td>\n",
       "      <td>1</td>\n",
       "      <td>广东  深圳              毕业  于        武汉  科技  大学...</td>\n",
       "    </tr>\n",
       "    <tr>\n",
       "      <th>778</th>\n",
       "      <td>5365515981</td>\n",
       "      <td>爱白马湖朱立荣</td>\n",
       "      <td>http://tp2.sinaimg.cn/5365515981/180/228904753...</td>\n",
       "      <td>female</td>\n",
       "      <td>0</td>\n",
       "      <td>Lv.0     广西来宾   1993年1月29日</td>\n",
       "      <td>15</td>\n",
       "      <td>8</td>\n",
       "      <td>285</td>\n",
       "      <td>1</td>\n",
       "      <td>Lv.0                 广西  来宾          ...</td>\n",
       "    </tr>\n",
       "    <tr>\n",
       "      <th>779</th>\n",
       "      <td>5365519449</td>\n",
       "      <td>雷神暴走JK</td>\n",
       "      <td>http://tp2.sinaimg.cn/5365519449/180/228904754...</td>\n",
       "      <td>female</td>\n",
       "      <td>0</td>\n",
       "      <td>Lv.0     福建   1991年9月28日</td>\n",
       "      <td>15</td>\n",
       "      <td>11</td>\n",
       "      <td>271</td>\n",
       "      <td>-1</td>\n",
       "      <td>Lv.0                 福建           199...</td>\n",
       "    </tr>\n",
       "    <tr>\n",
       "      <th>780</th>\n",
       "      <td>5372497984</td>\n",
       "      <td>淑女superman</td>\n",
       "      <td>http://tp1.sinaimg.cn/5372497984/180/5711090912/0</td>\n",
       "      <td>female</td>\n",
       "      <td>0</td>\n",
       "      <td>Lv.0     山东潍坊   2000年12月3日    标签  新闻趣事  名人明...</td>\n",
       "      <td>1</td>\n",
       "      <td>4</td>\n",
       "      <td>67</td>\n",
       "      <td>-1</td>\n",
       "      <td>Lv.0                 山东  潍坊          ...</td>\n",
       "    </tr>\n",
       "  </tbody>\n",
       "</table>\n",
       "</div>"
      ],
      "text/plain": [
       "        user_id   user_name  \\\n",
       "776  5364782215     股股生平123   \n",
       "777  5365323976      德鑫--荷香   \n",
       "778  5365515981     爱白马湖朱立荣   \n",
       "779  5365519449      雷神暴走JK   \n",
       "780  5372497984  淑女superman   \n",
       "\n",
       "                                            user_image  gender  class  \\\n",
       "776  http://tp4.sinaimg.cn/5364782215/180/228907024...  female      0   \n",
       "777  http://tp1.sinaimg.cn/5365323976/180/400711900...  female      2   \n",
       "778  http://tp2.sinaimg.cn/5365515981/180/228904753...  female      0   \n",
       "779  http://tp2.sinaimg.cn/5365519449/180/228904754...  female      0   \n",
       "780  http://tp1.sinaimg.cn/5372497984/180/5711090912/0  female      0   \n",
       "\n",
       "                                               message  post_num  \\\n",
       "776     Lv.0     北京东城区   1982年3月16日   简介：我的微博每日开盘前半...        11   \n",
       "777   广东深圳    毕业于  武汉科技大学     公司  深圳市德鑫资产管理有限公司    ...        16   \n",
       "778                       Lv.0     广西来宾   1993年1月29日          15   \n",
       "779                         Lv.0     福建   1991年9月28日          15   \n",
       "780     Lv.0     山东潍坊   2000年12月3日    标签  新闻趣事  名人明...         1   \n",
       "\n",
       "     follower_num  followee_num  is_spammer  \\\n",
       "776            18           162           1   \n",
       "777           176          1075           1   \n",
       "778             8           285           1   \n",
       "779            11           271          -1   \n",
       "780             4            67          -1   \n",
       "\n",
       "                                         token_message  \n",
       "776           Lv.0                 北京  东城区         ...  \n",
       "777     广东  深圳              毕业  于        武汉  科技  大学...  \n",
       "778           Lv.0                 广西  来宾          ...  \n",
       "779           Lv.0                 福建           199...  \n",
       "780           Lv.0                 山东  潍坊          ...  "
      ]
     },
     "execution_count": 127,
     "metadata": {},
     "output_type": "execute_result"
    }
   ],
   "source": [
    "df4_new.tail()"
   ]
  },
  {
   "cell_type": "markdown",
   "metadata": {},
   "source": [
    "#### We have realized that when using loc on the dataframe to get the message of a user, many messages are missing and replaced by \"...\""
   ]
  },
  {
   "cell_type": "code",
   "execution_count": 128,
   "metadata": {},
   "outputs": [
    {
     "name": "stdout",
     "output_type": "stream",
     "text": [
      "780       Lv.0     山东潍坊   2000年12月3日    标签  新闻趣事  名人明...\n",
      "Name: message, dtype: object\n"
     ]
    }
   ],
   "source": [
    "print(df4_new.loc[df4_new['user_id'] == 5372497984]['message'])"
   ]
  },
  {
   "cell_type": "markdown",
   "metadata": {},
   "source": [
    "#### While using iloc on the dataframe will return the full message."
   ]
  },
  {
   "cell_type": "code",
   "execution_count": 129,
   "metadata": {},
   "outputs": [
    {
     "name": "stdout",
     "output_type": "stream",
     "text": [
      "   Lv.0     山东潍坊   2000年12月3日    标签  新闻趣事  名人明星  美食  校园生活  潍坊生活   \n"
     ]
    }
   ],
   "source": [
    "print(df4_new.iloc[-1]['message'])"
   ]
  },
  {
   "cell_type": "markdown",
   "metadata": {},
   "source": [
    "#### Even if we use the index function will still return us the incomplete message."
   ]
  },
  {
   "cell_type": "code",
   "execution_count": 130,
   "metadata": {},
   "outputs": [],
   "source": [
    "ind=df4_new.index[df4_new[\"user_id\"]== 5372497984]"
   ]
  },
  {
   "cell_type": "code",
   "execution_count": 131,
   "metadata": {},
   "outputs": [
    {
     "data": {
      "text/plain": [
       "780       Lv.0     山东潍坊   2000年12月3日    标签  新闻趣事  名人明...\n",
       "Name: message, dtype: object"
      ]
     },
     "execution_count": 131,
     "metadata": {},
     "output_type": "execute_result"
    }
   ],
   "source": [
    "df4_new.iloc[ind]['message']"
   ]
  },
  {
   "cell_type": "markdown",
   "metadata": {},
   "source": [
    "#### We thus define a function to get the index integer corresponding to the user_id."
   ]
  },
  {
   "cell_type": "code",
   "execution_count": 132,
   "metadata": {},
   "outputs": [
    {
     "data": {
      "text/plain": [
       "'780'"
      ]
     },
     "execution_count": 132,
     "metadata": {},
     "output_type": "execute_result"
    }
   ],
   "source": [
    "b=\"Int64Index([\"\n",
    "c=\"], dtype='int64')\"\n",
    "d=str(df4_new.index[df4_new[\"user_id\"]== 5372497984]).replace(b, \"\").replace(c, \"\")\n",
    "d"
   ]
  },
  {
   "cell_type": "code",
   "execution_count": 133,
   "metadata": {},
   "outputs": [],
   "source": [
    "def get_index(n):\n",
    "    b=\"Int64Index([\"\n",
    "    c=\"], dtype='int64')\"\n",
    "    d=str(df4_new.index[df4_new[\"user_id\"]== n]).replace(b, \"\").replace(c, \"\")\n",
    "    return int(d)"
   ]
  },
  {
   "cell_type": "markdown",
   "metadata": {},
   "source": [
    "#### Test the correctness of our function. It shows the complete message."
   ]
  },
  {
   "cell_type": "code",
   "execution_count": 134,
   "metadata": {},
   "outputs": [
    {
     "data": {
      "text/plain": [
       "'   Lv.0     山东潍坊   2000年12月3日    标签  新闻趣事  名人明星  美食  校园生活  潍坊生活   '"
      ]
     },
     "execution_count": 134,
     "metadata": {},
     "output_type": "execute_result"
    }
   ],
   "source": [
    "df4_new.iloc[get_index(5372497984)]['message']"
   ]
  },
  {
   "cell_type": "markdown",
   "metadata": {},
   "source": [
    "#### Define a function that adds the spammers' new messages from df3 to df4_new if the spammers exist in df3. For other users, the message remain unchanged."
   ]
  },
  {
   "cell_type": "code",
   "execution_count": 135,
   "metadata": {},
   "outputs": [],
   "source": [
    "def newspam_message(n):\n",
    "    #a = '\\nName: message, dtype: object'\n",
    "\n",
    "    if str(n) in list(spamcontent_dict.keys()):\n",
    "        #new=spamcontent_dict[str(n)]+str(df4_new.loc[df4_new['user_id'] == n]['message']).replace(a, '')\n",
    "        new=spamcontent_dict[str(n)]+df4_new.iloc[get_index(n)]['message']\n",
    "    else:\n",
    "        #new=str(df4_new.loc[df4_new['user_id'] == n]['message']).replace(a, '')\n",
    "        new=df4_new.iloc[get_index(n)]['message']\n",
    "    return new"
   ]
  },
  {
   "cell_type": "markdown",
   "metadata": {},
   "source": [
    "#### Test the correctness of our function."
   ]
  },
  {
   "cell_type": "code",
   "execution_count": 136,
   "metadata": {},
   "outputs": [
    {
     "data": {
      "text/plain": [
       "True"
      ]
     },
     "execution_count": 136,
     "metadata": {},
     "output_type": "execute_result"
    }
   ],
   "source": [
    "\"5365515981\" in list(spamcontent_dict.keys())"
   ]
  },
  {
   "cell_type": "code",
   "execution_count": 137,
   "metadata": {},
   "outputs": [
    {
     "data": {
      "text/plain": [
       "'30687    热门【读心术】一个据说能看穿你的人性和欲望的心理测试！这个测验测过无数人，都很准。我把这个图...\\n30688                  【读心术】超级精准的读心测试，一分钟读出你最假的一面，你有勇气试试吗？\\n30689                           【读心术】神奇的素描图像测试你的内心世界，准的可怕！\\n30690                                  【读心小测试】你的外表和内心哪个更美?\\n30691                             全国神经病等级测试题！还敢说自己不是“深井冰”？\\n30692    在这个基情四射，蕾丝满天的时代里，你还能100%确认你的性向么？做个测试看看再拍拖吧，以免害...\\n30693                                          【你会和谁结婚】很准哦\\n30694                           【读心术】神奇的素描图像测试你的内心世界，准的可怕！\\n30695           右手食指指纹决定了你的爱情！吖，你还别不信，看过的木有人说不准滴。不信，你试试！！！\\n30696    【读心术】一个据说能看穿你的人性和欲望的心理测试！这个测验测过无数人，都很准。我把这个图画下...\\n30697                             全国神经病等级测试题！还敢说自己不是“深井冰”？\\n30698                             全国神经病等级测试题！还敢说自己不是“深井冰”？\\n30699    【你适合跟谁在一起】据说经过这个测试的情侣不会分手；你和她将是最完美的酸碱中和，永远在一起。...\\n30700    在这个基情四射，蕾丝满天的时代里，你还能100%确认你的性向么？做个测试看看再拍拖吧，以免害...\\n30701    在这个基情四射，蕾丝满天的时代里，你还能100%确认你的性向么？做个测试看看再拍拖吧，以免害...\\nName: content, dtype: object   Lv.0     广西来宾   1993年1月29日  '"
      ]
     },
     "execution_count": 137,
     "metadata": {},
     "output_type": "execute_result"
    }
   ],
   "source": [
    "newspam_message(5365515981)"
   ]
  },
  {
   "cell_type": "code",
   "execution_count": 138,
   "metadata": {},
   "outputs": [
    {
     "data": {
      "text/plain": [
       "False"
      ]
     },
     "execution_count": 138,
     "metadata": {},
     "output_type": "execute_result"
    }
   ],
   "source": [
    "\"5372497984\" in list(spamcontent_dict.keys())"
   ]
  },
  {
   "cell_type": "code",
   "execution_count": 139,
   "metadata": {
    "scrolled": true
   },
   "outputs": [
    {
     "name": "stdout",
     "output_type": "stream",
     "text": [
      "   Lv.0     山东潍坊   2000年12月3日    标签  新闻趣事  名人明星  美食  校园生活  潍坊生活   \n"
     ]
    }
   ],
   "source": [
    "print(newspam_message(5372497984))"
   ]
  },
  {
   "cell_type": "markdown",
   "metadata": {},
   "source": [
    "### Add a new column to df4_new that contains all the updated new messages of the spammers. "
   ]
  },
  {
   "cell_type": "code",
   "execution_count": 140,
   "metadata": {
    "scrolled": true
   },
   "outputs": [
    {
     "data": {
      "text/html": [
       "<div>\n",
       "<style scoped>\n",
       "    .dataframe tbody tr th:only-of-type {\n",
       "        vertical-align: middle;\n",
       "    }\n",
       "\n",
       "    .dataframe tbody tr th {\n",
       "        vertical-align: top;\n",
       "    }\n",
       "\n",
       "    .dataframe thead th {\n",
       "        text-align: right;\n",
       "    }\n",
       "</style>\n",
       "<table border=\"1\" class=\"dataframe\">\n",
       "  <thead>\n",
       "    <tr style=\"text-align: right;\">\n",
       "      <th></th>\n",
       "      <th>user_id</th>\n",
       "      <th>user_name</th>\n",
       "      <th>user_image</th>\n",
       "      <th>gender</th>\n",
       "      <th>class</th>\n",
       "      <th>message</th>\n",
       "      <th>post_num</th>\n",
       "      <th>follower_num</th>\n",
       "      <th>followee_num</th>\n",
       "      <th>is_spammer</th>\n",
       "      <th>token_message</th>\n",
       "      <th>updated_message</th>\n",
       "    </tr>\n",
       "  </thead>\n",
       "  <tbody>\n",
       "    <tr>\n",
       "      <th>776</th>\n",
       "      <td>5364782215</td>\n",
       "      <td>股股生平123</td>\n",
       "      <td>http://tp4.sinaimg.cn/5364782215/180/228907024...</td>\n",
       "      <td>female</td>\n",
       "      <td>0</td>\n",
       "      <td>Lv.0     北京东城区   1982年3月16日   简介：我的微博每日开盘前半...</td>\n",
       "      <td>11</td>\n",
       "      <td>18</td>\n",
       "      <td>162</td>\n",
       "      <td>1</td>\n",
       "      <td>Lv.0                 北京  东城区         ...</td>\n",
       "      <td>48642                                    热门201...</td>\n",
       "    </tr>\n",
       "    <tr>\n",
       "      <th>777</th>\n",
       "      <td>5365323976</td>\n",
       "      <td>德鑫--荷香</td>\n",
       "      <td>http://tp1.sinaimg.cn/5365323976/180/400711900...</td>\n",
       "      <td>female</td>\n",
       "      <td>2</td>\n",
       "      <td>广东深圳    毕业于  武汉科技大学     公司  深圳市德鑫资产管理有限公司    ...</td>\n",
       "      <td>16</td>\n",
       "      <td>176</td>\n",
       "      <td>1075</td>\n",
       "      <td>1</td>\n",
       "      <td>广东  深圳              毕业  于        武汉  科技  大学...</td>\n",
       "      <td>广东深圳    毕业于  武汉科技大学     公司  深圳市德鑫资产管理有限公司    ...</td>\n",
       "    </tr>\n",
       "    <tr>\n",
       "      <th>778</th>\n",
       "      <td>5365515981</td>\n",
       "      <td>爱白马湖朱立荣</td>\n",
       "      <td>http://tp2.sinaimg.cn/5365515981/180/228904753...</td>\n",
       "      <td>female</td>\n",
       "      <td>0</td>\n",
       "      <td>Lv.0     广西来宾   1993年1月29日</td>\n",
       "      <td>15</td>\n",
       "      <td>8</td>\n",
       "      <td>285</td>\n",
       "      <td>1</td>\n",
       "      <td>Lv.0                 广西  来宾          ...</td>\n",
       "      <td>30687    热门【读心术】一个据说能看穿你的人性和欲望的心理测试！这个测验测过无数人，...</td>\n",
       "    </tr>\n",
       "    <tr>\n",
       "      <th>779</th>\n",
       "      <td>5365519449</td>\n",
       "      <td>雷神暴走JK</td>\n",
       "      <td>http://tp2.sinaimg.cn/5365519449/180/228904754...</td>\n",
       "      <td>female</td>\n",
       "      <td>0</td>\n",
       "      <td>Lv.0     福建   1991年9月28日</td>\n",
       "      <td>15</td>\n",
       "      <td>11</td>\n",
       "      <td>271</td>\n",
       "      <td>-1</td>\n",
       "      <td>Lv.0                 福建           199...</td>\n",
       "      <td>Lv.0     福建   1991年9月28日</td>\n",
       "    </tr>\n",
       "    <tr>\n",
       "      <th>780</th>\n",
       "      <td>5372497984</td>\n",
       "      <td>淑女superman</td>\n",
       "      <td>http://tp1.sinaimg.cn/5372497984/180/5711090912/0</td>\n",
       "      <td>female</td>\n",
       "      <td>0</td>\n",
       "      <td>Lv.0     山东潍坊   2000年12月3日    标签  新闻趣事  名人明...</td>\n",
       "      <td>1</td>\n",
       "      <td>4</td>\n",
       "      <td>67</td>\n",
       "      <td>-1</td>\n",
       "      <td>Lv.0                 山东  潍坊          ...</td>\n",
       "      <td>Lv.0     山东潍坊   2000年12月3日    标签  新闻趣事  名人明...</td>\n",
       "    </tr>\n",
       "  </tbody>\n",
       "</table>\n",
       "</div>"
      ],
      "text/plain": [
       "        user_id   user_name  \\\n",
       "776  5364782215     股股生平123   \n",
       "777  5365323976      德鑫--荷香   \n",
       "778  5365515981     爱白马湖朱立荣   \n",
       "779  5365519449      雷神暴走JK   \n",
       "780  5372497984  淑女superman   \n",
       "\n",
       "                                            user_image  gender  class  \\\n",
       "776  http://tp4.sinaimg.cn/5364782215/180/228907024...  female      0   \n",
       "777  http://tp1.sinaimg.cn/5365323976/180/400711900...  female      2   \n",
       "778  http://tp2.sinaimg.cn/5365515981/180/228904753...  female      0   \n",
       "779  http://tp2.sinaimg.cn/5365519449/180/228904754...  female      0   \n",
       "780  http://tp1.sinaimg.cn/5372497984/180/5711090912/0  female      0   \n",
       "\n",
       "                                               message  post_num  \\\n",
       "776     Lv.0     北京东城区   1982年3月16日   简介：我的微博每日开盘前半...        11   \n",
       "777   广东深圳    毕业于  武汉科技大学     公司  深圳市德鑫资产管理有限公司    ...        16   \n",
       "778                       Lv.0     广西来宾   1993年1月29日          15   \n",
       "779                         Lv.0     福建   1991年9月28日          15   \n",
       "780     Lv.0     山东潍坊   2000年12月3日    标签  新闻趣事  名人明...         1   \n",
       "\n",
       "     follower_num  followee_num  is_spammer  \\\n",
       "776            18           162           1   \n",
       "777           176          1075           1   \n",
       "778             8           285           1   \n",
       "779            11           271          -1   \n",
       "780             4            67          -1   \n",
       "\n",
       "                                         token_message  \\\n",
       "776           Lv.0                 北京  东城区         ...   \n",
       "777     广东  深圳              毕业  于        武汉  科技  大学...   \n",
       "778           Lv.0                 广西  来宾          ...   \n",
       "779           Lv.0                 福建           199...   \n",
       "780           Lv.0                 山东  潍坊          ...   \n",
       "\n",
       "                                       updated_message  \n",
       "776  48642                                    热门201...  \n",
       "777   广东深圳    毕业于  武汉科技大学     公司  深圳市德鑫资产管理有限公司    ...  \n",
       "778  30687    热门【读心术】一个据说能看穿你的人性和欲望的心理测试！这个测验测过无数人，...  \n",
       "779                         Lv.0     福建   1991年9月28日    \n",
       "780     Lv.0     山东潍坊   2000年12月3日    标签  新闻趣事  名人明...  "
      ]
     },
     "execution_count": 140,
     "metadata": {},
     "output_type": "execute_result"
    }
   ],
   "source": [
    "df4_new['updated_message']=df4_new['user_id'].apply(newspam_message)  \n",
    "df4_new.tail()"
   ]
  },
  {
   "cell_type": "markdown",
   "metadata": {},
   "source": [
    "#### Now we create a new column to store the tokened updated_message in our datafram."
   ]
  },
  {
   "cell_type": "code",
   "execution_count": 141,
   "metadata": {},
   "outputs": [],
   "source": [
    "df4_new['token_updatedmessage']=df4_new['updated_message'].apply(to_token)  "
   ]
  },
  {
   "cell_type": "code",
   "execution_count": 143,
   "metadata": {},
   "outputs": [
    {
     "data": {
      "text/html": [
       "<div>\n",
       "<style scoped>\n",
       "    .dataframe tbody tr th:only-of-type {\n",
       "        vertical-align: middle;\n",
       "    }\n",
       "\n",
       "    .dataframe tbody tr th {\n",
       "        vertical-align: top;\n",
       "    }\n",
       "\n",
       "    .dataframe thead th {\n",
       "        text-align: right;\n",
       "    }\n",
       "</style>\n",
       "<table border=\"1\" class=\"dataframe\">\n",
       "  <thead>\n",
       "    <tr style=\"text-align: right;\">\n",
       "      <th></th>\n",
       "      <th>user_id</th>\n",
       "      <th>user_name</th>\n",
       "      <th>user_image</th>\n",
       "      <th>gender</th>\n",
       "      <th>class</th>\n",
       "      <th>message</th>\n",
       "      <th>post_num</th>\n",
       "      <th>follower_num</th>\n",
       "      <th>followee_num</th>\n",
       "      <th>is_spammer</th>\n",
       "      <th>token_message</th>\n",
       "      <th>updated_message</th>\n",
       "      <th>token_updatedmessage</th>\n",
       "    </tr>\n",
       "  </thead>\n",
       "  <tbody>\n",
       "    <tr>\n",
       "      <th>779</th>\n",
       "      <td>5365519449</td>\n",
       "      <td>雷神暴走JK</td>\n",
       "      <td>http://tp2.sinaimg.cn/5365519449/180/228904754...</td>\n",
       "      <td>female</td>\n",
       "      <td>0</td>\n",
       "      <td>Lv.0     福建   1991年9月28日</td>\n",
       "      <td>15</td>\n",
       "      <td>11</td>\n",
       "      <td>271</td>\n",
       "      <td>-1</td>\n",
       "      <td>Lv.0                 福建           199...</td>\n",
       "      <td>Lv.0     福建   1991年9月28日</td>\n",
       "      <td>Lv.0                 福建           199...</td>\n",
       "    </tr>\n",
       "    <tr>\n",
       "      <th>780</th>\n",
       "      <td>5372497984</td>\n",
       "      <td>淑女superman</td>\n",
       "      <td>http://tp1.sinaimg.cn/5372497984/180/5711090912/0</td>\n",
       "      <td>female</td>\n",
       "      <td>0</td>\n",
       "      <td>Lv.0     山东潍坊   2000年12月3日    标签  新闻趣事  名人明...</td>\n",
       "      <td>1</td>\n",
       "      <td>4</td>\n",
       "      <td>67</td>\n",
       "      <td>-1</td>\n",
       "      <td>Lv.0                 山东  潍坊          ...</td>\n",
       "      <td>Lv.0     山东潍坊   2000年12月3日    标签  新闻趣事  名人明...</td>\n",
       "      <td>Lv.0                 山东  潍坊          ...</td>\n",
       "    </tr>\n",
       "  </tbody>\n",
       "</table>\n",
       "</div>"
      ],
      "text/plain": [
       "        user_id   user_name  \\\n",
       "779  5365519449      雷神暴走JK   \n",
       "780  5372497984  淑女superman   \n",
       "\n",
       "                                            user_image  gender  class  \\\n",
       "779  http://tp2.sinaimg.cn/5365519449/180/228904754...  female      0   \n",
       "780  http://tp1.sinaimg.cn/5372497984/180/5711090912/0  female      0   \n",
       "\n",
       "                                               message  post_num  \\\n",
       "779                         Lv.0     福建   1991年9月28日          15   \n",
       "780     Lv.0     山东潍坊   2000年12月3日    标签  新闻趣事  名人明...         1   \n",
       "\n",
       "     follower_num  followee_num  is_spammer  \\\n",
       "779            11           271          -1   \n",
       "780             4            67          -1   \n",
       "\n",
       "                                         token_message  \\\n",
       "779           Lv.0                 福建           199...   \n",
       "780           Lv.0                 山东  潍坊          ...   \n",
       "\n",
       "                                       updated_message  \\\n",
       "779                         Lv.0     福建   1991年9月28日     \n",
       "780     Lv.0     山东潍坊   2000年12月3日    标签  新闻趣事  名人明...   \n",
       "\n",
       "                                  token_updatedmessage  \n",
       "779           Lv.0                 福建           199...  \n",
       "780           Lv.0                 山东  潍坊          ...  "
      ]
     },
     "execution_count": 143,
     "metadata": {},
     "output_type": "execute_result"
    }
   ],
   "source": [
    "df4_new[-2:]"
   ]
  },
  {
   "cell_type": "markdown",
   "metadata": {},
   "source": [
    "#### The updated_messages indeed incoporated new spam messages and tokened."
   ]
  },
  {
   "cell_type": "code",
   "execution_count": 144,
   "metadata": {},
   "outputs": [
    {
     "data": {
      "text/plain": [
       "'30687              热门  【  读心术  】  一个  据说  能  看穿  你  的  人性  和  欲望  的  心理  测试  ！  这个  测验  测过  无数  人  ，  都  很准  。  我  把  这个  图  ...  \\n  30688                                                        【  读心术  】  超级  精准  的  读心  测试  ，  一分钟  读出  你  最假  的  一面  ，  你  有  勇气  试试  吗  ？  \\n  30689                                                                                   【  读心术  】  神奇  的  素描  图像  测试  你  的  内心世界  ，  准  的  可怕  ！  \\n  30690                                                                                                        【  读心  小  测试  】  你  的  外表  和  内心  哪个  更美  ?  \\n  30691                                                                                         全国  神经病  等级  测试题  ！  还敢  说  自己  不是  “  深井  冰  ”  ？  \\n  30692              在  这个  基情  四射  ，  蕾丝  满天  的  时代  里  ，  你  还  能  100%  确认  你  的  性  向  么  ？  做个  测试  看看  再  拍拖  吧  ，  以免  害  ...  \\n  30693                                                                                                                                【  你  会  和  谁  结婚  】  很准  哦  \\n  30694                                                                                   【  读心术  】  神奇  的  素描  图像  测试  你  的  内心世界  ，  准  的  可怕  ！  \\n  30695                                   右手  食指  指纹  决定  了  你  的  爱情  ！  吖  ，  你  还  别不信  ，  看过  的  木  有人  说  不准  滴  。  不  信  ，  你  试试  ！  ！  ！  \\n  30696              【  读心术  】  一个  据说  能  看穿  你  的  人性  和  欲望  的  心理  测试  ！  这个  测验  测过  无数  人  ，  都  很准  。  我  把  这个  图画  下  ...  \\n  30697                                                                                         全国  神经病  等级  测试题  ！  还敢  说  自己  不是  “  深井  冰  ”  ？  \\n  30698                                                                                         全国  神经病  等级  测试题  ！  还敢  说  自己  不是  “  深井  冰  ”  ？  \\n  30699              【  你  适合  跟  谁  在  一起  】  据说  经过  这个  测试  的  情侣  不会  分手  ；  你  和  她  将  是  最  完美  的  酸碱  中  和  ，  永远  在  一起  。  ...  \\n  30700              在  这个  基情  四射  ，  蕾丝  满天  的  时代  里  ，  你  还  能  100%  确认  你  的  性  向  么  ？  做个  测试  看看  再  拍拖  吧  ，  以免  害  ...  \\n  30701              在  这个  基情  四射  ，  蕾丝  满天  的  时代  里  ，  你  还  能  100%  确认  你  的  性  向  么  ？  做个  测试  看看  再  拍拖  吧  ，  以免  害  ...  \\n  Name  :     content  ,     dtype  :     object           Lv.0                 广西  来宾           1993  年  1  月  29  日      '"
      ]
     },
     "execution_count": 144,
     "metadata": {},
     "output_type": "execute_result"
    }
   ],
   "source": [
    "df4_new.iloc[get_index(5365515981)]['token_updatedmessage']"
   ]
  },
  {
   "cell_type": "code",
   "execution_count": 145,
   "metadata": {},
   "outputs": [
    {
     "data": {
      "text/plain": [
       "'         Lv.0                 福建           1991  年  9  月  28  日      '"
      ]
     },
     "execution_count": 145,
     "metadata": {},
     "output_type": "execute_result"
    }
   ],
   "source": [
    "df4_new.iloc[get_index(5365519449)]['token_updatedmessage']"
   ]
  },
  {
   "cell_type": "markdown",
   "metadata": {},
   "source": [
    "### Now we are ready to run the machine learning algorithm on the updated messages and the target."
   ]
  },
  {
   "cell_type": "markdown",
   "metadata": {},
   "source": [
    "#### Text as a set of features"
   ]
  },
  {
   "cell_type": "code",
   "execution_count": 146,
   "metadata": {},
   "outputs": [],
   "source": [
    "X_text = df4_new['token_updatedmessage']\n",
    "Y = df4_new['is_spammer']"
   ]
  },
  {
   "cell_type": "code",
   "execution_count": 147,
   "metadata": {},
   "outputs": [],
   "source": [
    "# Create a vectorizer that will track text as binary features\n",
    "binary_vectorizer = CountVectorizer(binary=True)\n",
    "\n",
    "# Let the vectorizer learn what tokens exist in the text data\n",
    "binary_vectorizer.fit(X_text)\n",
    "\n",
    "# Turn these tokens into a numeric matrix\n",
    "X = binary_vectorizer.transform(X_text)"
   ]
  },
  {
   "cell_type": "markdown",
   "metadata": {},
   "source": [
    "### Modeling"
   ]
  },
  {
   "cell_type": "code",
   "execution_count": 148,
   "metadata": {},
   "outputs": [
    {
     "name": "stdout",
     "output_type": "stream",
     "text": [
      "Area under the ROC curve for our classifier is 0.857\n"
     ]
    }
   ],
   "source": [
    "# Create a model\n",
    "svm = SVC(kernel='rbf', gamma='scale') \n",
    "\n",
    "# Use this model and our data to get 5-fold cross validation AUCs\n",
    "aucs = cross_val_score(svm, X, Y, scoring=\"roc_auc\", cv=5)\n",
    "\n",
    "# Print out the average AUC rounded to three decimal points\n",
    "print(\"Area under the ROC curve for our classifier is \" + str(round(np.mean(aucs), 3)))"
   ]
  },
  {
   "cell_type": "code",
   "execution_count": 150,
   "metadata": {},
   "outputs": [
    {
     "name": "stdout",
     "output_type": "stream",
     "text": [
      "Area under the ROC curve for our classifier is 0.809\n"
     ]
    }
   ],
   "source": [
    "# Create a model\n",
    "svm = SVC(kernel='linear', gamma='scale') \n",
    "\n",
    "# Use this model and our data to get 5-fold cross validation AUCs\n",
    "aucs = cross_val_score(svm, X, Y, scoring=\"roc_auc\", cv=5)\n",
    "\n",
    "# Print out the average AUC rounded to three decimal points\n",
    "print(\"Area under the ROC curve for our classifier is \" + str(round(np.mean(aucs), 3)))"
   ]
  },
  {
   "cell_type": "code",
   "execution_count": 151,
   "metadata": {},
   "outputs": [
    {
     "name": "stdout",
     "output_type": "stream",
     "text": [
      "Area under the ROC curve for our classifier is 0.866\n"
     ]
    }
   ],
   "source": [
    "# Create a model\n",
    "svm = SVC(kernel='sigmoid', gamma='scale') \n",
    "\n",
    "# Use this model and our data to get 5-fold cross validation AUCs\n",
    "aucs = cross_val_score(svm, X, Y, scoring=\"roc_auc\", cv=5)\n",
    "\n",
    "# Print out the average AUC rounded to three decimal points\n",
    "print(\"Area under the ROC curve for our classifier is \" + str(round(np.mean(aucs), 3)))"
   ]
  },
  {
   "cell_type": "code",
   "execution_count": 152,
   "metadata": {},
   "outputs": [
    {
     "name": "stdout",
     "output_type": "stream",
     "text": [
      "Area under the ROC curve for our classifier is 0.771\n"
     ]
    }
   ],
   "source": [
    "# Create a model\n",
    "svm = SVC(kernel='poly', gamma='scale') \n",
    "\n",
    "# Use this model and our data to get 5-fold cross validation AUCs\n",
    "aucs = cross_val_score(svm, X, Y, scoring=\"roc_auc\", cv=5)\n",
    "\n",
    "# Print out the average AUC rounded to three decimal points\n",
    "print(\"Area under the ROC curve for our classifier is \" + str(round(np.mean(aucs), 3)))"
   ]
  },
  {
   "cell_type": "markdown",
   "metadata": {},
   "source": [
    "#### Let's try using TF-IDF."
   ]
  },
  {
   "cell_type": "code",
   "execution_count": 154,
   "metadata": {},
   "outputs": [
    {
     "name": "stdout",
     "output_type": "stream",
     "text": [
      "Area under the ROC curve for our classifier is 0.788\n"
     ]
    }
   ],
   "source": [
    "# Create a vectorizer that will track text as binary features\n",
    "tfidf_vectorizer = TfidfVectorizer()\n",
    "\n",
    "# Let the vectorizer learn what tokens exist in the text data\n",
    "tfidf_vectorizer.fit(X_text)\n",
    "\n",
    "# Turn these tokens into a numeric matrix\n",
    "X = tfidf_vectorizer.transform(X_text)\n",
    "\n",
    "# Create a model\n",
    "svm = SVC(kernel='rbf', gamma='scale')\n",
    "\n",
    "# Use this model and our data to get 5-fold cross validation AUCs\n",
    "aucs = cross_val_score(svm, X, Y, scoring=\"roc_auc\", cv=5)\n",
    "\n",
    "# Print out the average AUC rounded to three decimal points\n",
    "print(\"Area under the ROC curve for our classifier is \" + str(round(np.mean(aucs), 3)))"
   ]
  },
  {
   "cell_type": "code",
   "execution_count": 155,
   "metadata": {},
   "outputs": [
    {
     "name": "stdout",
     "output_type": "stream",
     "text": [
      "Area under the ROC curve for our classifier is 0.802\n"
     ]
    }
   ],
   "source": [
    "# Create a model\n",
    "svm = SVC(kernel='linear', gamma='scale')\n",
    "\n",
    "# Use this model and our data to get 5-fold cross validation AUCs\n",
    "aucs = cross_val_score(svm, X, Y, scoring=\"roc_auc\", cv=5)\n",
    "\n",
    "# Print out the average AUC rounded to three decimal points\n",
    "print(\"Area under the ROC curve for our classifier is \" + str(round(np.mean(aucs), 3)))"
   ]
  },
  {
   "cell_type": "code",
   "execution_count": 157,
   "metadata": {},
   "outputs": [
    {
     "name": "stdout",
     "output_type": "stream",
     "text": [
      "Area under the ROC curve for our classifier is 0.788\n"
     ]
    }
   ],
   "source": [
    "# Create a model\n",
    "svm = SVC(kernel='sigmoid', gamma='scale')\n",
    "\n",
    "# Use this model and our data to get 5-fold cross validation AUCs\n",
    "aucs = cross_val_score(svm, X, Y, scoring=\"roc_auc\", cv=5)\n",
    "\n",
    "# Print out the average AUC rounded to three decimal points\n",
    "print(\"Area under the ROC curve for our classifier is \" + str(round(np.mean(aucs), 3)))"
   ]
  },
  {
   "cell_type": "markdown",
   "metadata": {},
   "source": [
    "### GaussianNB"
   ]
  },
  {
   "cell_type": "code",
   "execution_count": 158,
   "metadata": {},
   "outputs": [],
   "source": [
    "from sklearn.naive_bayes import GaussianNB"
   ]
  },
  {
   "cell_type": "code",
   "execution_count": 159,
   "metadata": {},
   "outputs": [
    {
     "name": "stdout",
     "output_type": "stream",
     "text": [
      "Area under the ROC curve for our classifier is 0.721\n"
     ]
    }
   ],
   "source": [
    "# Create a vectorizer that will track text as binary features\n",
    "count_vectorizer = CountVectorizer(binary=True)\n",
    "\n",
    "# Let the vectorizer learn what tokens exist in the text data\n",
    "count_vectorizer.fit(X_text)\n",
    "\n",
    "# Turn these tokens into a numeric matrix\n",
    "X = count_vectorizer.transform(X_text)\n",
    "\n",
    "# Create a model\n",
    "nbc = GaussianNB()\n",
    "\n",
    "# Use this model and our data to get 5-fold cross validation AUCs\n",
    "aucs = cross_val_score(nbc, X.toarray(), Y, scoring=\"roc_auc\", cv=5)\n",
    "\n",
    "# Print out the average AUC rounded to three decimal points\n",
    "print(\"Area under the ROC curve for our classifier is \" + str(round(np.mean(aucs), 3)))"
   ]
  },
  {
   "cell_type": "markdown",
   "metadata": {},
   "source": [
    "#### Try using TF-IDF."
   ]
  },
  {
   "cell_type": "code",
   "execution_count": 160,
   "metadata": {},
   "outputs": [
    {
     "name": "stdout",
     "output_type": "stream",
     "text": [
      "Area under the ROC curve for our classifier is 0.691\n"
     ]
    }
   ],
   "source": [
    "# Create a vectorizer that will track text as binary features\n",
    "tfidf_vectorizer = TfidfVectorizer()\n",
    "\n",
    "# Let the vectorizer learn what tokens exist in the text data\n",
    "tfidf_vectorizer.fit(X_text)\n",
    "\n",
    "# Turn these tokens into a numeric matrix\n",
    "X = tfidf_vectorizer.transform(X_text)\n",
    "\n",
    "# Create a model\n",
    "nbc = GaussianNB()\n",
    "\n",
    "# Use this model and our data to get 5-fold cross validation AUCs\n",
    "aucs = cross_val_score(nbc, X.toarray(), Y, scoring=\"roc_auc\", cv=5)\n",
    "\n",
    "# Print out the average AUC rounded to three decimal points\n",
    "print(\"Area under the ROC curve for our classifier is \" + str(round(np.mean(aucs), 3)))"
   ]
  },
  {
   "cell_type": "markdown",
   "metadata": {},
   "source": [
    "### Random forest"
   ]
  },
  {
   "cell_type": "code",
   "execution_count": 161,
   "metadata": {},
   "outputs": [
    {
     "name": "stdout",
     "output_type": "stream",
     "text": [
      "Area under the ROC curve for our classifier is 0.867\n"
     ]
    }
   ],
   "source": [
    "# Create a vectorizer that will track text as binary features\n",
    "count_vectorizer = CountVectorizer(binary=True)\n",
    "\n",
    "# Let the vectorizer learn what tokens exist in the text data\n",
    "count_vectorizer.fit(X_text)\n",
    "\n",
    "# Turn these tokens into a numeric matrix\n",
    "X = count_vectorizer.transform(X_text)\n",
    "\n",
    "# Create a model\n",
    "\n",
    "rdf=RandomForestClassifier(n_estimators=200)\n",
    "#nbc = GaussianNB()\n",
    "\n",
    "# Use this model and our data to get 5-fold cross validation AUCs\n",
    "aucs = cross_val_score(rdf, X, Y, scoring=\"roc_auc\", cv=5)\n",
    "\n",
    "# Print out the average AUC rounded to three decimal points\n",
    "print(\"Area under the ROC curve for our classifier is \" + str(round(np.mean(aucs), 3)))"
   ]
  },
  {
   "cell_type": "code",
   "execution_count": 162,
   "metadata": {},
   "outputs": [
    {
     "name": "stdout",
     "output_type": "stream",
     "text": [
      "Area under the ROC curve for our classifier is 0.877\n"
     ]
    }
   ],
   "source": [
    "rdf=RandomForestClassifier(n_estimators=200, max_depth=40)\n",
    "#nbc = GaussianNB()\n",
    "\n",
    "# Use this model and our data to get 5-fold cross validation AUCs\n",
    "aucs = cross_val_score(rdf, X, Y, scoring=\"roc_auc\", cv=5)\n",
    "\n",
    "# Print out the average AUC rounded to three decimal points\n",
    "print(\"Area under the ROC curve for our classifier is \" + str(round(np.mean(aucs), 3)))"
   ]
  },
  {
   "cell_type": "code",
   "execution_count": 167,
   "metadata": {},
   "outputs": [
    {
     "name": "stdout",
     "output_type": "stream",
     "text": [
      "Area under the ROC curve for our classifier is 0.875\n"
     ]
    }
   ],
   "source": [
    "rdf=RandomForestClassifier(n_estimators=200, max_depth=60, random_state=0)\n",
    "#nbc = GaussianNB()\n",
    "\n",
    "# Use this model and our data to get 5-fold cross validation AUCs\n",
    "aucs = cross_val_score(rdf, X, Y, scoring=\"roc_auc\", cv=5)\n",
    "\n",
    "# Print out the average AUC rounded to three decimal points\n",
    "print(\"Area under the ROC curve for our classifier is \" + str(round(np.mean(aucs), 3)))"
   ]
  },
  {
   "cell_type": "code",
   "execution_count": 168,
   "metadata": {},
   "outputs": [
    {
     "name": "stdout",
     "output_type": "stream",
     "text": [
      "Area under the ROC curve for our classifier is 0.882\n"
     ]
    }
   ],
   "source": [
    "rdf=RandomForestClassifier(n_estimators=200, max_depth=80, random_state=0)\n",
    "\n",
    "# Use this model and our data to get 5-fold cross validation AUCs\n",
    "aucs = cross_val_score(rdf, X, Y, scoring=\"roc_auc\", cv=5)\n",
    "\n",
    "# Print out the average AUC rounded to three decimal points\n",
    "print(\"Area under the ROC curve for our classifier is \" + str(round(np.mean(aucs), 3)))"
   ]
  },
  {
   "cell_type": "code",
   "execution_count": 169,
   "metadata": {},
   "outputs": [
    {
     "name": "stdout",
     "output_type": "stream",
     "text": [
      "Area under the ROC curve for our classifier is 0.855\n"
     ]
    }
   ],
   "source": [
    "rdf=RandomForestClassifier(n_estimators=200, max_depth=10, random_state=0)\n",
    "\n",
    "# Use this model and our data to get 5-fold cross validation AUCs\n",
    "aucs = cross_val_score(rdf, X, Y, scoring=\"roc_auc\", cv=5)\n",
    "\n",
    "# Print out the average AUC rounded to three decimal points\n",
    "print(\"Area under the ROC curve for our classifier is \" + str(round(np.mean(aucs), 3)))"
   ]
  },
  {
   "cell_type": "code",
   "execution_count": 166,
   "metadata": {},
   "outputs": [
    {
     "name": "stdout",
     "output_type": "stream",
     "text": [
      "Area under the ROC curve for our classifier is 0.881\n"
     ]
    }
   ],
   "source": [
    "rdf=RandomForestClassifier(n_estimators=500, max_depth=40, random_state=0)\n",
    "\n",
    "# Use this model and our data to get 5-fold cross validation AUCs\n",
    "aucs = cross_val_score(rdf, X, Y, scoring=\"roc_auc\", cv=5)\n",
    "\n",
    "# Print out the average AUC rounded to three decimal points\n",
    "print(\"Area under the ROC curve for our classifier is \" + str(round(np.mean(aucs), 3)))"
   ]
  },
  {
   "cell_type": "markdown",
   "metadata": {},
   "source": [
    "#### Try using TF-IDF."
   ]
  },
  {
   "cell_type": "code",
   "execution_count": 170,
   "metadata": {},
   "outputs": [
    {
     "name": "stdout",
     "output_type": "stream",
     "text": [
      "Area under the ROC curve for our classifier is 0.855\n"
     ]
    }
   ],
   "source": [
    "# Create a vectorizer that will track text as binary features\n",
    "tfidf_vectorizer = TfidfVectorizer()\n",
    "\n",
    "# Let the vectorizer learn what tokens exist in the text data\n",
    "tfidf_vectorizer.fit(X_text)\n",
    "\n",
    "# Turn these tokens into a numeric matrix\n",
    "X = tfidf_vectorizer.transform(X_text)\n",
    "\n",
    "# Create a model\n",
    "rdf=RandomForestClassifier(n_estimators=100)\n",
    "\n",
    "# Use this model and our data to get 5-fold cross validation AUCs\n",
    "aucs = cross_val_score(rdf, X, Y, scoring=\"roc_auc\", cv=5)\n",
    "\n",
    "# Print out the average AUC rounded to three decimal points\n",
    "print(\"Area under the ROC curve for our classifier is \" + str(round(np.mean(aucs), 3)))"
   ]
  },
  {
   "cell_type": "code",
   "execution_count": 171,
   "metadata": {},
   "outputs": [
    {
     "name": "stdout",
     "output_type": "stream",
     "text": [
      "Area under the ROC curve for our classifier is 0.861\n"
     ]
    }
   ],
   "source": [
    "# Create a model\n",
    "rdf=RandomForestClassifier(n_estimators=200)\n",
    "\n",
    "# Use this model and our data to get 5-fold cross validation AUCs\n",
    "aucs = cross_val_score(rdf, X, Y, scoring=\"roc_auc\", cv=5)\n",
    "\n",
    "# Print out the average AUC rounded to three decimal points\n",
    "print(\"Area under the ROC curve for our classifier is \" + str(round(np.mean(aucs), 3)))"
   ]
  },
  {
   "cell_type": "code",
   "execution_count": 172,
   "metadata": {},
   "outputs": [
    {
     "name": "stdout",
     "output_type": "stream",
     "text": [
      "Area under the ROC curve for our classifier is 0.868\n"
     ]
    }
   ],
   "source": [
    "# Create a model\n",
    "rdf=RandomForestClassifier(n_estimators=200, max_depth=80, random_state=0)\n",
    "\n",
    "# Use this model and our data to get 5-fold cross validation AUCs\n",
    "aucs = cross_val_score(rdf, X, Y, scoring=\"roc_auc\", cv=5)\n",
    "\n",
    "# Print out the average AUC rounded to three decimal points\n",
    "print(\"Area under the ROC curve for our classifier is \" + str(round(np.mean(aucs), 3)))"
   ]
  },
  {
   "cell_type": "code",
   "execution_count": 173,
   "metadata": {},
   "outputs": [
    {
     "name": "stdout",
     "output_type": "stream",
     "text": [
      "Area under the ROC curve for our classifier is 0.878\n"
     ]
    }
   ],
   "source": [
    "# Create a model\n",
    "rdf=RandomForestClassifier(n_estimators=200, max_depth=40, random_state=0)\n",
    "\n",
    "# Use this model and our data to get 5-fold cross validation AUCs\n",
    "aucs = cross_val_score(rdf, X, Y, scoring=\"roc_auc\", cv=5)\n",
    "\n",
    "# Print out the average AUC rounded to three decimal points\n",
    "print(\"Area under the ROC curve for our classifier is \" + str(round(np.mean(aucs), 3)))"
   ]
  },
  {
   "cell_type": "code",
   "execution_count": 174,
   "metadata": {},
   "outputs": [
    {
     "name": "stdout",
     "output_type": "stream",
     "text": [
      "Area under the ROC curve for our classifier is 0.863\n"
     ]
    }
   ],
   "source": [
    "# Create a model\n",
    "rdf=RandomForestClassifier(n_estimators=200, max_depth=120, random_state=0)\n",
    "\n",
    "# Use this model and our data to get 5-fold cross validation AUCs\n",
    "aucs = cross_val_score(rdf, X, Y, scoring=\"roc_auc\", cv=5)\n",
    "\n",
    "# Print out the average AUC rounded to three decimal points\n",
    "print(\"Area under the ROC curve for our classifier is \" + str(round(np.mean(aucs), 3)))"
   ]
  },
  {
   "cell_type": "code",
   "execution_count": 175,
   "metadata": {},
   "outputs": [
    {
     "name": "stdout",
     "output_type": "stream",
     "text": [
      "Area under the ROC curve for our classifier is 0.88\n"
     ]
    }
   ],
   "source": [
    "# Create a model\n",
    "rdf=RandomForestClassifier(n_estimators=500, max_depth=20, random_state=0)\n",
    "\n",
    "# Use this model and our data to get 5-fold cross validation AUCs\n",
    "aucs = cross_val_score(rdf, X, Y, scoring=\"roc_auc\", cv=5)\n",
    "\n",
    "# Print out the average AUC rounded to three decimal points\n",
    "print(\"Area under the ROC curve for our classifier is \" + str(round(np.mean(aucs), 3)))"
   ]
  },
  {
   "cell_type": "code",
   "execution_count": 176,
   "metadata": {},
   "outputs": [
    {
     "name": "stdout",
     "output_type": "stream",
     "text": [
      "Area under the ROC curve for our classifier is 0.87\n"
     ]
    }
   ],
   "source": [
    "# Create a model\n",
    "rdf=RandomForestClassifier(n_estimators=500, max_depth=80, random_state=0)\n",
    "\n",
    "# Use this model and our data to get 5-fold cross validation AUCs\n",
    "aucs = cross_val_score(rdf, X, Y, scoring=\"roc_auc\", cv=5)\n",
    "\n",
    "# Print out the average AUC rounded to three decimal points\n",
    "print(\"Area under the ROC curve for our classifier is \" + str(round(np.mean(aucs), 3)))"
   ]
  },
  {
   "cell_type": "markdown",
   "metadata": {},
   "source": [
    "### Build machine learning classifiers using other features."
   ]
  },
  {
   "cell_type": "code",
   "execution_count": 177,
   "metadata": {},
   "outputs": [],
   "source": [
    "df4sub_new=df4_new[['gender', 'class', 'post_num', 'follower_num', 'followee_num', 'is_spammer']]\n",
    "label_encoder = LabelEncoder()\n",
    "\n",
    "mf = label_encoder.fit_transform(df4sub_new['gender'])  #1:male 0:female"
   ]
  },
  {
   "cell_type": "code",
   "execution_count": 178,
   "metadata": {},
   "outputs": [
    {
     "name": "stderr",
     "output_type": "stream",
     "text": [
      "/Users/cuihao/anaconda3/lib/python3.6/site-packages/ipykernel_launcher.py:1: SettingWithCopyWarning: \n",
      "A value is trying to be set on a copy of a slice from a DataFrame.\n",
      "Try using .loc[row_indexer,col_indexer] = value instead\n",
      "\n",
      "See the caveats in the documentation: http://pandas.pydata.org/pandas-docs/stable/indexing.html#indexing-view-versus-copy\n",
      "  \"\"\"Entry point for launching an IPython kernel.\n"
     ]
    }
   ],
   "source": [
    "df4sub_new['gender']=mf"
   ]
  },
  {
   "cell_type": "code",
   "execution_count": 179,
   "metadata": {},
   "outputs": [
    {
     "data": {
      "text/html": [
       "<div>\n",
       "<style scoped>\n",
       "    .dataframe tbody tr th:only-of-type {\n",
       "        vertical-align: middle;\n",
       "    }\n",
       "\n",
       "    .dataframe tbody tr th {\n",
       "        vertical-align: top;\n",
       "    }\n",
       "\n",
       "    .dataframe thead th {\n",
       "        text-align: right;\n",
       "    }\n",
       "</style>\n",
       "<table border=\"1\" class=\"dataframe\">\n",
       "  <thead>\n",
       "    <tr style=\"text-align: right;\">\n",
       "      <th></th>\n",
       "      <th>gender</th>\n",
       "      <th>class</th>\n",
       "      <th>post_num</th>\n",
       "      <th>follower_num</th>\n",
       "      <th>followee_num</th>\n",
       "      <th>is_spammer</th>\n",
       "    </tr>\n",
       "  </thead>\n",
       "  <tbody>\n",
       "    <tr>\n",
       "      <th>0</th>\n",
       "      <td>1</td>\n",
       "      <td>5</td>\n",
       "      <td>1557</td>\n",
       "      <td>1421</td>\n",
       "      <td>2000</td>\n",
       "      <td>-1</td>\n",
       "    </tr>\n",
       "    <tr>\n",
       "      <th>1</th>\n",
       "      <td>1</td>\n",
       "      <td>10</td>\n",
       "      <td>1265</td>\n",
       "      <td>1280571</td>\n",
       "      <td>130</td>\n",
       "      <td>-1</td>\n",
       "    </tr>\n",
       "    <tr>\n",
       "      <th>2</th>\n",
       "      <td>0</td>\n",
       "      <td>5</td>\n",
       "      <td>503</td>\n",
       "      <td>302</td>\n",
       "      <td>968</td>\n",
       "      <td>-1</td>\n",
       "    </tr>\n",
       "    <tr>\n",
       "      <th>3</th>\n",
       "      <td>0</td>\n",
       "      <td>9</td>\n",
       "      <td>281</td>\n",
       "      <td>148</td>\n",
       "      <td>354</td>\n",
       "      <td>-1</td>\n",
       "    </tr>\n",
       "    <tr>\n",
       "      <th>4</th>\n",
       "      <td>0</td>\n",
       "      <td>5</td>\n",
       "      <td>135</td>\n",
       "      <td>1975</td>\n",
       "      <td>2000</td>\n",
       "      <td>-1</td>\n",
       "    </tr>\n",
       "  </tbody>\n",
       "</table>\n",
       "</div>"
      ],
      "text/plain": [
       "   gender  class  post_num  follower_num  followee_num  is_spammer\n",
       "0       1      5      1557          1421          2000          -1\n",
       "1       1     10      1265       1280571           130          -1\n",
       "2       0      5       503           302           968          -1\n",
       "3       0      9       281           148           354          -1\n",
       "4       0      5       135          1975          2000          -1"
      ]
     },
     "execution_count": 179,
     "metadata": {},
     "output_type": "execute_result"
    }
   ],
   "source": [
    "df4sub_new.head()"
   ]
  },
  {
   "cell_type": "code",
   "execution_count": 180,
   "metadata": {},
   "outputs": [],
   "source": [
    "y = df4sub_new['is_spammer'].values        \n",
    "X = df4sub_new.drop(['is_spammer'], axis=1)"
   ]
  },
  {
   "cell_type": "markdown",
   "metadata": {},
   "source": [
    "#### Plot the scatter plots between all features."
   ]
  },
  {
   "cell_type": "code",
   "execution_count": 181,
   "metadata": {},
   "outputs": [
    {
     "data": {
      "image/png": "[encoded data removed]",
      "text/plain": [
       "<Figure size 576x576 with 25 Axes>"
      ]
     },
     "metadata": {},
     "output_type": "display_data"
    }
   ],
   "source": [
    "sm=pd.plotting.scatter_matrix(X, c=y, figsize=(8, 8));\n",
    "#Change label rotation\n",
    "[s.xaxis.label.set_rotation(45) for s in sm.reshape(-1)]\n",
    "[s.yaxis.label.set_rotation(0) for s in sm.reshape(-1)]\n",
    "\n",
    "#May need to offset label when rotating to prevent overlap of figure\n",
    "[s.get_yaxis().set_label_coords(-0.5,0.5) for s in sm.reshape(-1)]\n",
    "\n",
    "#Hide all ticks\n",
    "[s.set_xticks(()) for s in sm.reshape(-1)]\n",
    "[s.set_yticks(()) for s in sm.reshape(-1)]\n",
    "\n",
    "[plt.setp(item.yaxis.get_label(), 'size', 12) for item in sm.ravel()]\n",
    "#x labels\n",
    "[plt.setp(item.xaxis.get_label(), 'size', 12) for item in sm.ravel()]\n",
    "\n",
    "plt.suptitle(\"Scatter plots between all features\", fontsize=18)\n",
    "plt.show()"
   ]
  },
  {
   "cell_type": "markdown",
   "metadata": {},
   "source": [
    "#### Plot boxplots of unscaled and scaled data."
   ]
  },
  {
   "cell_type": "code",
   "execution_count": 182,
   "metadata": {},
   "outputs": [],
   "source": [
    "def plot_coxbox(X, columns_names, title=None):\n",
    "    n_columns = len(columns_names)\n",
    "    fig = plt.figure(figsize=(max(6, n_columns/3),max(6,n_columns/3)))\n",
    "    ax = fig.add_subplot(111)\n",
    "    ax.boxplot(X)\n",
    "    plt.xticks(np.arange(1, n_columns + 1), columns_names, rotation=30, ha=\"right\")\n",
    "    if title:\n",
    "        plt.title(title)"
   ]
  },
  {
   "cell_type": "code",
   "execution_count": 183,
   "metadata": {},
   "outputs": [
    {
     "data": {
      "text/plain": [
       "Text(0.5,1,'Unscaled data')"
      ]
     },
     "execution_count": 183,
     "metadata": {},
     "output_type": "execute_result"
    },
    {
     "data": {
      "image/png": "[encoded data removed]",
      "text/plain": [
       "<Figure size 432x432 with 1 Axes>"
      ]
     },
     "metadata": {},
     "output_type": "display_data"
    }
   ],
   "source": [
    "plot_coxbox(X.values, X.columns)\n",
    "plt.title(\"Unscaled data\")"
   ]
  },
  {
   "cell_type": "markdown",
   "metadata": {},
   "source": [
    "#### Since many celebrities with huge number of followers exist, we should scale our dataset."
   ]
  },
  {
   "cell_type": "code",
   "execution_count": 184,
   "metadata": {},
   "outputs": [
    {
     "name": "stderr",
     "output_type": "stream",
     "text": [
      "/Users/cuihao/anaconda3/lib/python3.6/site-packages/sklearn/utils/validation.py:595: DataConversionWarning: Data with input dtype int64 was converted to float64 by MinMaxScaler.\n",
      "  warnings.warn(msg, DataConversionWarning)\n"
     ]
    },
    {
     "data": {
      "text/plain": [
       "Text(0.5,1,'Scaled data by MinMaxScaler')"
      ]
     },
     "execution_count": 184,
     "metadata": {},
     "output_type": "execute_result"
    },
    {
     "data": {
      "image/png": "[encoded data removed]",
      "text/plain": [
       "<Figure size 432x432 with 1 Axes>"
      ]
     },
     "metadata": {},
     "output_type": "display_data"
    }
   ],
   "source": [
    "scaler = MinMaxScaler().fit(X.values)\n",
    "X_scaled = scaler.transform(X.values)\n",
    "plot_coxbox(X_scaled, X.columns)\n",
    "plt.title(\"Scaled data by MinMaxScaler\")"
   ]
  },
  {
   "cell_type": "markdown",
   "metadata": {},
   "source": [
    "#### Scalers and different classifiers."
   ]
  },
  {
   "cell_type": "code",
   "execution_count": 185,
   "metadata": {},
   "outputs": [
    {
     "name": "stdout",
     "output_type": "stream",
     "text": [
      "DecisionTreeClassifier\n",
      "StandardScaler=> 0.793589 (0.802638)\n",
      "RobustScaler=> 0.803912 (0.802638)\n",
      "MinMaxScaler=> 0.793655 (0.802638)\n",
      "\n",
      "KNeighborsClassifier\n",
      "StandardScaler=> 0.824409 (0.843534)\n",
      "RobustScaler=> 0.846197 (0.843534)\n",
      "MinMaxScaler=> 0.825716 (0.843534)\n",
      "\n"
     ]
    },
    {
     "name": "stderr",
     "output_type": "stream",
     "text": [
      "/Users/cuihao/anaconda3/lib/python3.6/site-packages/sklearn/preprocessing/data.py:625: DataConversionWarning: Data with input dtype int64 were all converted to float64 by StandardScaler.\n",
      "  return self.partial_fit(X, y)\n",
      "/Users/cuihao/anaconda3/lib/python3.6/site-packages/sklearn/base.py:462: DataConversionWarning: Data with input dtype int64 were all converted to float64 by StandardScaler.\n",
      "  return self.fit(X, **fit_params).transform(X)\n",
      "/Users/cuihao/anaconda3/lib/python3.6/site-packages/sklearn/preprocessing/data.py:323: DataConversionWarning: Data with input dtype int64 were all converted to float64 by MinMaxScaler.\n",
      "  return self.partial_fit(X, y)\n",
      "/Users/cuihao/anaconda3/lib/python3.6/site-packages/sklearn/preprocessing/data.py:625: DataConversionWarning: Data with input dtype int64 were all converted to float64 by StandardScaler.\n",
      "  return self.partial_fit(X, y)\n",
      "/Users/cuihao/anaconda3/lib/python3.6/site-packages/sklearn/base.py:462: DataConversionWarning: Data with input dtype int64 were all converted to float64 by StandardScaler.\n",
      "  return self.fit(X, **fit_params).transform(X)\n",
      "/Users/cuihao/anaconda3/lib/python3.6/site-packages/sklearn/preprocessing/data.py:323: DataConversionWarning: Data with input dtype int64 were all converted to float64 by MinMaxScaler.\n",
      "  return self.partial_fit(X, y)\n"
     ]
    }
   ],
   "source": [
    "scale_methods = [StandardScaler(), RobustScaler(), MinMaxScaler()]\n",
    "\n",
    "models = [DecisionTreeClassifier(random_state=43), \n",
    "          KNeighborsClassifier()] #, RandomForestClassifier()\n",
    "\n",
    "for model in models:\n",
    "    print(type(model).__name__)\n",
    "    reference_score = np.average(cross_val_score(model, X, y, cv=5))\n",
    "    \n",
    "    for scaler in scale_methods:\n",
    "        X_scaled = scaler.fit_transform(X)\n",
    "        print('%s=> %f (%f)' %(type(scaler).__name__, \n",
    "                               np.average(cross_val_score(model, X_scaled, y, cv=5)), \n",
    "                               reference_score))\n",
    "    print()"
   ]
  },
  {
   "cell_type": "markdown",
   "metadata": {},
   "source": [
    "### Logistic Regression"
   ]
  },
  {
   "cell_type": "code",
   "execution_count": 186,
   "metadata": {},
   "outputs": [
    {
     "name": "stdout",
     "output_type": "stream",
     "text": [
      "Test score: 0.821\n"
     ]
    },
    {
     "name": "stderr",
     "output_type": "stream",
     "text": [
      "/Users/cuihao/anaconda3/lib/python3.6/site-packages/sklearn/preprocessing/data.py:323: DataConversionWarning: Data with input dtype int64 were all converted to float64 by MinMaxScaler.\n",
      "  return self.partial_fit(X, y)\n",
      "/Users/cuihao/anaconda3/lib/python3.6/site-packages/sklearn/linear_model/logistic.py:433: FutureWarning: Default solver will be changed to 'lbfgs' in 0.22. Specify a solver to silence this warning.\n",
      "  FutureWarning)\n"
     ]
    }
   ],
   "source": [
    "from sklearn.linear_model import LogisticRegression \n",
    "\n",
    "X_train, X_test, y_train, y_test = train_test_split(X, y, random_state=0, stratify=y)\n",
    "\n",
    "# compute minimum and maximum on the training data\n",
    "scaler = MinMaxScaler().fit(X_train)\n",
    "\n",
    "# rescale the training data\n",
    "X_train_scaled = scaler.transform(X_train)\n",
    "\n",
    "X_test_scaled = scaler.transform(X_test)\n",
    "\n",
    "logisticRegr = LogisticRegression()\n",
    "\n",
    "logisticRegr.fit(X_train_scaled, y_train)\n",
    "score=logisticRegr.score(X_test_scaled, y_test)\n",
    "\n",
    "print(\"Test score: {:.3f}\".format(score))"
   ]
  },
  {
   "cell_type": "markdown",
   "metadata": {},
   "source": [
    "### Measuring Model Performance"
   ]
  },
  {
   "cell_type": "code",
   "execution_count": 187,
   "metadata": {},
   "outputs": [],
   "source": [
    "from sklearn import metrics\n",
    "\n",
    "# Make predictions on test data\n",
    "predictions = logisticRegr.predict(X_test_scaled)\n",
    "\n",
    "cm = metrics.confusion_matrix(y_test, predictions)"
   ]
  },
  {
   "cell_type": "markdown",
   "metadata": {},
   "source": [
    "### Confusion Matrix"
   ]
  },
  {
   "cell_type": "code",
   "execution_count": 188,
   "metadata": {},
   "outputs": [
    {
     "data": {
      "image/png": "[encoded data removed]",
      "text/plain": [
       "<Figure size 432x432 with 2 Axes>"
      ]
     },
     "metadata": {},
     "output_type": "display_data"
    }
   ],
   "source": [
    "import seaborn as sns\n",
    "\n",
    "plt.figure(figsize=(6,6))\n",
    "sns.heatmap(cm, annot=True, fmt=\".0f\", linewidths=.5, square = True, cmap = 'Blues_r');\n",
    "plt.ylabel('Actual label');\n",
    "plt.xlabel('Predicted label');\n",
    "all_sample_title = 'Accuracy Score: {0}'.format(score)\n",
    "plt.title(all_sample_title, size = 15);"
   ]
  },
  {
   "cell_type": "markdown",
   "metadata": {},
   "source": [
    "### Hyperparameter Optimization"
   ]
  },
  {
   "cell_type": "code",
   "execution_count": 221,
   "metadata": {},
   "outputs": [
    {
     "name": "stdout",
     "output_type": "stream",
     "text": [
      "Fitting 5 folds for each of 7 candidates, totalling 35 fits\n",
      "Test set score: 0.8214\n",
      "Best parameters: {'C': 1000}\n",
      "Best cross-validation score: 0.87\n",
      "Best estimator:\n",
      "LogisticRegression(C=1000, class_weight=None, dual=False, fit_intercept=True,\n",
      "          intercept_scaling=1, max_iter=100, multi_class='warn',\n",
      "          n_jobs=None, penalty='l1', random_state=None, solver='liblinear',\n",
      "          tol=0.0001, verbose=0, warm_start=False)\n",
      "Accuracy on the testing set: 0.8214\n"
     ]
    },
    {
     "name": "stderr",
     "output_type": "stream",
     "text": [
      "/Users/cuihao/anaconda3/lib/python3.6/site-packages/sklearn/preprocessing/data.py:323: DataConversionWarning: Data with input dtype int64 were all converted to float64 by MinMaxScaler.\n",
      "  return self.partial_fit(X, y)\n",
      "[Parallel(n_jobs=1)]: Using backend SequentialBackend with 1 concurrent workers.\n",
      "[Parallel(n_jobs=1)]: Done  35 out of  35 | elapsed:    0.1s finished\n"
     ]
    }
   ],
   "source": [
    "from sklearn.model_selection import GridSearchCV\n",
    "\n",
    "param_grid = {'C': [0.001, 0.01, 0.1, 1, 10, 100, 1000] }\n",
    "\n",
    "\n",
    "grid_search = GridSearchCV(LogisticRegression(penalty='l1', solver=\"liblinear\"), #CV cross validation\n",
    "                           param_grid, \n",
    "                           cv=5, \n",
    "                           verbose=1,\n",
    "                           iid = False,\n",
    "                           return_train_score=True)\n",
    "\n",
    "X_train, X_test, y_train, y_test = train_test_split(\n",
    "    X, y, random_state=0, stratify=y)\n",
    "\n",
    "# compute minimum and maximum on the training data\n",
    "scaler = MinMaxScaler().fit(X_train)\n",
    "\n",
    "# rescale the training data\n",
    "X_train_scaled = scaler.transform(X_train)\n",
    "X_test_scaled = scaler.transform(X_test)\n",
    "\n",
    "\n",
    "grid_search.fit(X_train_scaled, y_train)\n",
    "\n",
    "print(\"Test set score: {:.4f}\".format(grid_search.score(X_test_scaled, y_test)))\n",
    "print(\"Best parameters: {}\".format(grid_search.best_params_))\n",
    "print(\"Best cross-validation score: {:.2f}\".format(grid_search.best_score_))\n",
    "print(\"Best estimator:\\n{}\".format(grid_search.best_estimator_))\n",
    "#real one in testing data\n",
    "print('Accuracy on the testing set: {:.4f}'.format(grid_search.best_estimator_.score(X_test_scaled, y_test)))"
   ]
  },
  {
   "cell_type": "code",
   "execution_count": 191,
   "metadata": {},
   "outputs": [
    {
     "name": "stderr",
     "output_type": "stream",
     "text": [
      "/Users/cuihao/anaconda3/lib/python3.6/site-packages/sklearn/preprocessing/data.py:625: DataConversionWarning: Data with input dtype int64 were all converted to float64 by StandardScaler.\n",
      "  return self.partial_fit(X, y)\n",
      "/Users/cuihao/anaconda3/lib/python3.6/site-packages/ipykernel_launcher.py:5: DataConversionWarning: Data with input dtype int64 were all converted to float64 by StandardScaler.\n",
      "  \"\"\"\n",
      "/Users/cuihao/anaconda3/lib/python3.6/site-packages/ipykernel_launcher.py:6: DataConversionWarning: Data with input dtype int64 were all converted to float64 by StandardScaler.\n",
      "  \n",
      "[Parallel(n_jobs=1)]: Using backend SequentialBackend with 1 concurrent workers.\n",
      "/Users/cuihao/anaconda3/lib/python3.6/site-packages/sklearn/svm/base.py:931: ConvergenceWarning: Liblinear failed to converge, increase the number of iterations.\n",
      "  \"the number of iterations.\", ConvergenceWarning)\n",
      "/Users/cuihao/anaconda3/lib/python3.6/site-packages/sklearn/svm/base.py:931: ConvergenceWarning: Liblinear failed to converge, increase the number of iterations.\n",
      "  \"the number of iterations.\", ConvergenceWarning)\n",
      "/Users/cuihao/anaconda3/lib/python3.6/site-packages/sklearn/svm/base.py:931: ConvergenceWarning: Liblinear failed to converge, increase the number of iterations.\n",
      "  \"the number of iterations.\", ConvergenceWarning)\n",
      "/Users/cuihao/anaconda3/lib/python3.6/site-packages/sklearn/svm/base.py:931: ConvergenceWarning: Liblinear failed to converge, increase the number of iterations.\n",
      "  \"the number of iterations.\", ConvergenceWarning)\n",
      "/Users/cuihao/anaconda3/lib/python3.6/site-packages/sklearn/svm/base.py:931: ConvergenceWarning: Liblinear failed to converge, increase the number of iterations.\n",
      "  \"the number of iterations.\", ConvergenceWarning)\n",
      "/Users/cuihao/anaconda3/lib/python3.6/site-packages/sklearn/svm/base.py:931: ConvergenceWarning: Liblinear failed to converge, increase the number of iterations.\n",
      "  \"the number of iterations.\", ConvergenceWarning)\n",
      "/Users/cuihao/anaconda3/lib/python3.6/site-packages/sklearn/svm/base.py:931: ConvergenceWarning: Liblinear failed to converge, increase the number of iterations.\n",
      "  \"the number of iterations.\", ConvergenceWarning)\n",
      "/Users/cuihao/anaconda3/lib/python3.6/site-packages/sklearn/svm/base.py:931: ConvergenceWarning: Liblinear failed to converge, increase the number of iterations.\n",
      "  \"the number of iterations.\", ConvergenceWarning)\n",
      "/Users/cuihao/anaconda3/lib/python3.6/site-packages/sklearn/svm/base.py:931: ConvergenceWarning: Liblinear failed to converge, increase the number of iterations.\n",
      "  \"the number of iterations.\", ConvergenceWarning)\n"
     ]
    },
    {
     "name": "stdout",
     "output_type": "stream",
     "text": [
      "Fitting 5 folds for each of 7 candidates, totalling 35 fits\n",
      "Test set score: 0.8214\n",
      "Best parameters: {'C': 100}\n",
      "Best cross-validation score: 0.85\n",
      "Best estimator:\n",
      "LogisticRegression(C=100, class_weight=None, dual=False, fit_intercept=True,\n",
      "          intercept_scaling=1, max_iter=100, multi_class='warn',\n",
      "          n_jobs=None, penalty='l1', random_state=None, solver='liblinear',\n",
      "          tol=0.0001, verbose=0, warm_start=False)\n",
      "Accuracy on the testing set: 0.8214\n"
     ]
    },
    {
     "name": "stderr",
     "output_type": "stream",
     "text": [
      "/Users/cuihao/anaconda3/lib/python3.6/site-packages/sklearn/svm/base.py:931: ConvergenceWarning: Liblinear failed to converge, increase the number of iterations.\n",
      "  \"the number of iterations.\", ConvergenceWarning)\n",
      "/Users/cuihao/anaconda3/lib/python3.6/site-packages/sklearn/svm/base.py:931: ConvergenceWarning: Liblinear failed to converge, increase the number of iterations.\n",
      "  \"the number of iterations.\", ConvergenceWarning)\n",
      "/Users/cuihao/anaconda3/lib/python3.6/site-packages/sklearn/svm/base.py:931: ConvergenceWarning: Liblinear failed to converge, increase the number of iterations.\n",
      "  \"the number of iterations.\", ConvergenceWarning)\n",
      "/Users/cuihao/anaconda3/lib/python3.6/site-packages/sklearn/svm/base.py:931: ConvergenceWarning: Liblinear failed to converge, increase the number of iterations.\n",
      "  \"the number of iterations.\", ConvergenceWarning)\n",
      "/Users/cuihao/anaconda3/lib/python3.6/site-packages/sklearn/svm/base.py:931: ConvergenceWarning: Liblinear failed to converge, increase the number of iterations.\n",
      "  \"the number of iterations.\", ConvergenceWarning)\n",
      "/Users/cuihao/anaconda3/lib/python3.6/site-packages/sklearn/svm/base.py:931: ConvergenceWarning: Liblinear failed to converge, increase the number of iterations.\n",
      "  \"the number of iterations.\", ConvergenceWarning)\n",
      "[Parallel(n_jobs=1)]: Done  35 out of  35 | elapsed:    0.3s finished\n",
      "/Users/cuihao/anaconda3/lib/python3.6/site-packages/sklearn/svm/base.py:931: ConvergenceWarning: Liblinear failed to converge, increase the number of iterations.\n",
      "  \"the number of iterations.\", ConvergenceWarning)\n"
     ]
    }
   ],
   "source": [
    "# compute minimum and maximum on the training data\n",
    "scaler = StandardScaler().fit(X_train)\n",
    "\n",
    "# rescale the training data\n",
    "X_train_scaled = scaler.transform(X_train)\n",
    "X_test_scaled = scaler.transform(X_test)\n",
    "\n",
    "\n",
    "grid_search.fit(X_train_scaled, y_train)\n",
    "\n",
    "print(\"Test set score: {:.4f}\".format(grid_search.score(X_test_scaled, y_test)))\n",
    "print(\"Best parameters: {}\".format(grid_search.best_params_))\n",
    "print(\"Best cross-validation score: {:.2f}\".format(grid_search.best_score_))\n",
    "print(\"Best estimator:\\n{}\".format(grid_search.best_estimator_))\n",
    "#real one in testing data\n",
    "print('Accuracy on the testing set: {:.4f}'.format(grid_search.best_estimator_.score(X_test_scaled, y_test)))"
   ]
  },
  {
   "cell_type": "code",
   "execution_count": 190,
   "metadata": {},
   "outputs": [
    {
     "name": "stdout",
     "output_type": "stream",
     "text": [
      "Fitting 5 folds for each of 7 candidates, totalling 35 fits\n",
      "Test set score: 0.8418\n",
      "Best parameters: {'C': 100}\n",
      "Best cross-validation score: 0.88\n",
      "Best estimator:\n",
      "LogisticRegression(C=100, class_weight=None, dual=False, fit_intercept=True,\n",
      "          intercept_scaling=1, max_iter=100, multi_class='warn',\n",
      "          n_jobs=None, penalty='l1', random_state=None, solver='liblinear',\n",
      "          tol=0.0001, verbose=0, warm_start=False)\n",
      "Accuracy on the testing set: 0.8418\n"
     ]
    },
    {
     "name": "stderr",
     "output_type": "stream",
     "text": [
      "[Parallel(n_jobs=1)]: Using backend SequentialBackend with 1 concurrent workers.\n",
      "/Users/cuihao/anaconda3/lib/python3.6/site-packages/sklearn/svm/base.py:931: ConvergenceWarning: Liblinear failed to converge, increase the number of iterations.\n",
      "  \"the number of iterations.\", ConvergenceWarning)\n",
      "/Users/cuihao/anaconda3/lib/python3.6/site-packages/sklearn/svm/base.py:931: ConvergenceWarning: Liblinear failed to converge, increase the number of iterations.\n",
      "  \"the number of iterations.\", ConvergenceWarning)\n",
      "[Parallel(n_jobs=1)]: Done  35 out of  35 | elapsed:    0.2s finished\n"
     ]
    }
   ],
   "source": [
    "# compute minimum and maximum on the training data\n",
    "scaler = RobustScaler().fit(X_train)\n",
    "\n",
    "# rescale the training data\n",
    "X_train_scaled = scaler.transform(X_train)\n",
    "X_test_scaled = scaler.transform(X_test)\n",
    "\n",
    "\n",
    "grid_search.fit(X_train_scaled, y_train)\n",
    "\n",
    "print(\"Test set score: {:.4f}\".format(grid_search.score(X_test_scaled, y_test)))\n",
    "print(\"Best parameters: {}\".format(grid_search.best_params_))\n",
    "print(\"Best cross-validation score: {:.2f}\".format(grid_search.best_score_))\n",
    "print(\"Best estimator:\\n{}\".format(grid_search.best_estimator_))\n",
    "#real one in testing data\n",
    "print('Accuracy on the testing set: {:.4f}'.format(grid_search.best_estimator_.score(X_test_scaled, y_test)))"
   ]
  },
  {
   "cell_type": "markdown",
   "metadata": {},
   "source": [
    "#### Logistic Regression Pipeline-MinMaxScaler"
   ]
  },
  {
   "cell_type": "code",
   "execution_count": 222,
   "metadata": {},
   "outputs": [],
   "source": [
    "from sklearn.pipeline import Pipeline\n",
    "\n",
    "pipe = Pipeline([(\"scaler\", MinMaxScaler()), (\"Logreg\", LogisticRegression(random_state=0, C=1))])"
   ]
  },
  {
   "cell_type": "code",
   "execution_count": 223,
   "metadata": {},
   "outputs": [
    {
     "name": "stderr",
     "output_type": "stream",
     "text": [
      "/Users/cuihao/anaconda3/lib/python3.6/site-packages/sklearn/preprocessing/data.py:323: DataConversionWarning: Data with input dtype int64 were all converted to float64 by MinMaxScaler.\n",
      "  return self.partial_fit(X, y)\n",
      "/Users/cuihao/anaconda3/lib/python3.6/site-packages/sklearn/linear_model/logistic.py:433: FutureWarning: Default solver will be changed to 'lbfgs' in 0.22. Specify a solver to silence this warning.\n",
      "  FutureWarning)\n"
     ]
    },
    {
     "data": {
      "text/plain": [
       "Pipeline(memory=None,\n",
       "     steps=[('scaler', MinMaxScaler(copy=True, feature_range=(0, 1))), ('Logreg', LogisticRegression(C=1, class_weight=None, dual=False, fit_intercept=True,\n",
       "          intercept_scaling=1, max_iter=100, multi_class='warn',\n",
       "          n_jobs=None, penalty='l2', random_state=0, solver='warn',\n",
       "          tol=0.0001, verbose=0, warm_start=False))])"
      ]
     },
     "execution_count": 223,
     "metadata": {},
     "output_type": "execute_result"
    }
   ],
   "source": [
    "pipe.fit(X_train, y_train)"
   ]
  },
  {
   "cell_type": "code",
   "execution_count": 224,
   "metadata": {},
   "outputs": [
    {
     "name": "stdout",
     "output_type": "stream",
     "text": [
      "Test score: 0.821\n"
     ]
    }
   ],
   "source": [
    "print(\"Test score: {:.3f}\".format(pipe.score(X_test, y_test)))"
   ]
  },
  {
   "cell_type": "markdown",
   "metadata": {},
   "source": [
    "#### Logistic Regression Pipeline-StandardScaler"
   ]
  },
  {
   "cell_type": "code",
   "execution_count": 249,
   "metadata": {},
   "outputs": [],
   "source": [
    "pipe = Pipeline([(\"scaler\", StandardScaler()), (\"Logreg\", LogisticRegression(random_state=0, C=1000))])"
   ]
  },
  {
   "cell_type": "code",
   "execution_count": 250,
   "metadata": {},
   "outputs": [
    {
     "name": "stderr",
     "output_type": "stream",
     "text": [
      "/Users/cuihao/anaconda3/lib/python3.6/site-packages/sklearn/preprocessing/data.py:625: DataConversionWarning: Data with input dtype int64 were all converted to float64 by StandardScaler.\n",
      "  return self.partial_fit(X, y)\n",
      "/Users/cuihao/anaconda3/lib/python3.6/site-packages/sklearn/base.py:465: DataConversionWarning: Data with input dtype int64 were all converted to float64 by StandardScaler.\n",
      "  return self.fit(X, y, **fit_params).transform(X)\n",
      "/Users/cuihao/anaconda3/lib/python3.6/site-packages/sklearn/linear_model/logistic.py:433: FutureWarning: Default solver will be changed to 'lbfgs' in 0.22. Specify a solver to silence this warning.\n",
      "  FutureWarning)\n"
     ]
    },
    {
     "data": {
      "text/plain": [
       "Pipeline(memory=None,\n",
       "     steps=[('scaler', StandardScaler(copy=True, with_mean=True, with_std=True)), ('Logreg', LogisticRegression(C=1000, class_weight=None, dual=False, fit_intercept=True,\n",
       "          intercept_scaling=1, max_iter=100, multi_class='warn',\n",
       "          n_jobs=None, penalty='l2', random_state=0, solver='warn',\n",
       "          tol=0.0001, verbose=0, warm_start=False))])"
      ]
     },
     "execution_count": 250,
     "metadata": {},
     "output_type": "execute_result"
    }
   ],
   "source": [
    "pipe.fit(X_train, y_train)"
   ]
  },
  {
   "cell_type": "code",
   "execution_count": 251,
   "metadata": {},
   "outputs": [
    {
     "name": "stdout",
     "output_type": "stream",
     "text": [
      "Test score: 0.821\n"
     ]
    },
    {
     "name": "stderr",
     "output_type": "stream",
     "text": [
      "/Users/cuihao/anaconda3/lib/python3.6/site-packages/sklearn/pipeline.py:511: DataConversionWarning: Data with input dtype int64 were all converted to float64 by StandardScaler.\n",
      "  Xt = transform.transform(Xt)\n"
     ]
    }
   ],
   "source": [
    "print(\"Test score: {:.3f}\".format(pipe.score(X_test, y_test)))"
   ]
  },
  {
   "cell_type": "markdown",
   "metadata": {},
   "source": [
    "#### Logistic Regression Pipeline-RobustScaler"
   ]
  },
  {
   "cell_type": "code",
   "execution_count": 237,
   "metadata": {},
   "outputs": [],
   "source": [
    "pipe = Pipeline([(\"scaler\", RobustScaler()), (\"Logreg\", LogisticRegression(random_state=0, C=100))])"
   ]
  },
  {
   "cell_type": "code",
   "execution_count": 238,
   "metadata": {},
   "outputs": [
    {
     "name": "stderr",
     "output_type": "stream",
     "text": [
      "/Users/cuihao/anaconda3/lib/python3.6/site-packages/sklearn/linear_model/logistic.py:433: FutureWarning: Default solver will be changed to 'lbfgs' in 0.22. Specify a solver to silence this warning.\n",
      "  FutureWarning)\n"
     ]
    },
    {
     "data": {
      "text/plain": [
       "Pipeline(memory=None,\n",
       "     steps=[('scaler', RobustScaler(copy=True, quantile_range=(25.0, 75.0), with_centering=True,\n",
       "       with_scaling=True)), ('Logreg', LogisticRegression(C=100, class_weight=None, dual=False, fit_intercept=True,\n",
       "          intercept_scaling=1, max_iter=100, multi_class='warn',\n",
       "          n_jobs=None, penalty='l2', random_state=0, solver='warn',\n",
       "          tol=0.0001, verbose=0, warm_start=False))])"
      ]
     },
     "execution_count": 238,
     "metadata": {},
     "output_type": "execute_result"
    }
   ],
   "source": [
    "pipe.fit(X_train, y_train)"
   ]
  },
  {
   "cell_type": "code",
   "execution_count": 239,
   "metadata": {},
   "outputs": [
    {
     "name": "stdout",
     "output_type": "stream",
     "text": [
      "Test score: 0.842\n"
     ]
    }
   ],
   "source": [
    "print(\"Test score: {:.3f}\".format(pipe.score(X_test, y_test)))"
   ]
  },
  {
   "cell_type": "markdown",
   "metadata": {},
   "source": [
    "## Decision tree"
   ]
  },
  {
   "cell_type": "markdown",
   "metadata": {},
   "source": [
    "### Validation curve for decision tree."
   ]
  },
  {
   "cell_type": "code",
   "execution_count": 252,
   "metadata": {},
   "outputs": [],
   "source": [
    "from sklearn.model_selection import validation_curve #accuracy and performance\n",
    "\n",
    "param_range = range(1,5,1)\n",
    "\n",
    "train_scores, test_scores = validation_curve(DecisionTreeClassifier(), \n",
    "                                             X, y, \n",
    "                                             \"max_depth\", \n",
    "                                             param_range, \n",
    "                                             cv=5)"
   ]
  },
  {
   "cell_type": "code",
   "execution_count": 253,
   "metadata": {},
   "outputs": [
    {
     "data": {
      "image/png": "[encoded data removed]",
      "text/plain": [
       "<Figure size 432x288 with 1 Axes>"
      ]
     },
     "metadata": {},
     "output_type": "display_data"
    }
   ],
   "source": [
    "train_scores_mean = np.mean(train_scores, axis=1)\n",
    "train_scores_std = np.std(train_scores, axis=1)\n",
    "test_scores_mean = np.mean(test_scores, axis=1)\n",
    "test_scores_std = np.std(test_scores, axis=1)\n",
    "\n",
    "plt.title(\"Validation Curve with DecisionTree\")\n",
    "plt.xlabel(\"max_depth\")\n",
    "plt.ylabel(\"Score\")\n",
    "\n",
    "plt.plot(param_range, train_scores_mean, label=\"Training score\", color=\"darkorange\")\n",
    "plt.plot(param_range, test_scores_mean, label=\"Testing score\", color=\"navy\")\n",
    "\n",
    "plt.fill_between(param_range, \n",
    "                 train_scores_mean - train_scores_std, train_scores_mean + train_scores_std, \n",
    "                 alpha=0.2,\n",
    "                 color=\"darkorange\")\n",
    "\n",
    "plt.fill_between(param_range, \n",
    "                 test_scores_mean - test_scores_std, test_scores_mean + test_scores_std, \n",
    "                 alpha=0.2,\n",
    "                 color=\"navy\")\n",
    "\n",
    "plt.legend()\n",
    "plt.show() "
   ]
  },
  {
   "cell_type": "markdown",
   "metadata": {},
   "source": [
    "### Plot the learning curve. It shows the validation and training score of the estimator for varying numbers of training samples"
   ]
  },
  {
   "cell_type": "code",
   "execution_count": 254,
   "metadata": {},
   "outputs": [
    {
     "data": {
      "image/png": "[encoded data removed]",
      "text/plain": [
       "<Figure size 432x288 with 1 Axes>"
      ]
     },
     "metadata": {},
     "output_type": "display_data"
    }
   ],
   "source": [
    "from sklearn.model_selection import learning_curve\n",
    "\n",
    "plt.figure()\n",
    "plt.title(\"Learning Curve\")\n",
    "plt.xlabel(\"Training examples\")\n",
    "plt.ylabel(\"Score\")\n",
    "train_sizes, train_scores, test_scores = learning_curve(\n",
    "    DecisionTreeClassifier(), X, y, cv=5, train_sizes=np.linspace(.1, 1, 10)) #linear uniform division\n",
    "\n",
    "train_scores_mean = np.mean(train_scores, axis=1)\n",
    "train_scores_std = np.std(train_scores, axis=1)\n",
    "test_scores_mean = np.mean(test_scores, axis=1)\n",
    "test_scores_std = np.std(test_scores, axis=1)\n",
    "plt.grid()\n",
    "\n",
    "plt.fill_between(train_sizes, train_scores_mean - train_scores_std,\n",
    "                 train_scores_mean + train_scores_std, alpha=0.1,\n",
    "                 color=\"r\")\n",
    "plt.fill_between(train_sizes, test_scores_mean - test_scores_std,\n",
    "                 test_scores_mean + test_scores_std, alpha=0.1, color=\"g\")\n",
    "plt.plot(train_sizes, train_scores_mean, 'o-', color=\"r\",\n",
    "         label=\"Training score\")\n",
    "plt.plot(train_sizes, test_scores_mean, 'o-', color=\"g\",\n",
    "         label=\"Cross-validation score\")\n",
    "\n",
    "plt.legend(loc=\"best\")\n",
    "plt.show()"
   ]
  },
  {
   "cell_type": "markdown",
   "metadata": {},
   "source": [
    "### Hyperparameter Optimization"
   ]
  },
  {
   "cell_type": "code",
   "execution_count": 385,
   "metadata": {},
   "outputs": [
    {
     "name": "stderr",
     "output_type": "stream",
     "text": [
      "/Users/cuihao/anaconda3/lib/python3.6/site-packages/sklearn/preprocessing/data.py:323: DataConversionWarning: Data with input dtype int64 were all converted to float64 by MinMaxScaler.\n",
      "  return self.partial_fit(X, y)\n",
      "[Parallel(n_jobs=1)]: Using backend SequentialBackend with 1 concurrent workers.\n"
     ]
    },
    {
     "name": "stdout",
     "output_type": "stream",
     "text": [
      "Fitting 10 folds for each of 400 candidates, totalling 4000 fits\n",
      "Test set score: 0.8520\n",
      "Best parameters: {'max_depth': 2, 'min_impurity_decrease': 0.0}\n",
      "Best cross-validation score: 0.88\n",
      "Best estimator:\n",
      "DecisionTreeClassifier(class_weight=None, criterion='gini', max_depth=2,\n",
      "            max_features=None, max_leaf_nodes=None,\n",
      "            min_impurity_decrease=0.0, min_impurity_split=None,\n",
      "            min_samples_leaf=1, min_samples_split=2,\n",
      "            min_weight_fraction_leaf=0.0, presort=False, random_state=None,\n",
      "            splitter='best')\n",
      "Accuracy on the testing set: 0.8520\n"
     ]
    },
    {
     "name": "stderr",
     "output_type": "stream",
     "text": [
      "[Parallel(n_jobs=1)]: Done 4000 out of 4000 | elapsed:    7.3s finished\n"
     ]
    }
   ],
   "source": [
    "from sklearn.model_selection import GridSearchCV\n",
    "\n",
    "param_grid = {'max_depth': range(1,5,1), 'min_impurity_decrease':np.arange(0,1,0.01)}\n",
    "\n",
    "\n",
    "grid_search = GridSearchCV(DecisionTreeClassifier(), #CV cross validation\n",
    "                           param_grid, \n",
    "                           cv=10, \n",
    "                           verbose=1,\n",
    "                           iid = False,\n",
    "                           return_train_score=True)\n",
    "\n",
    "X_train, X_test, y_train, y_test = train_test_split(\n",
    "    X, y, random_state=0, stratify=y)\n",
    "\n",
    "# compute minimum and maximum on the training data\n",
    "scaler = MinMaxScaler().fit(X_train)\n",
    "\n",
    "# rescale the training data\n",
    "X_train_scaled = scaler.transform(X_train)\n",
    "X_test_scaled = scaler.transform(X_test)\n",
    "\n",
    "\n",
    "grid_search.fit(X_train_scaled, y_train)\n",
    "\n",
    "print(\"Test set score: {:.4f}\".format(grid_search.score(X_test_scaled, y_test)))\n",
    "print(\"Best parameters: {}\".format(grid_search.best_params_))\n",
    "print(\"Best cross-validation score: {:.2f}\".format(grid_search.best_score_))\n",
    "print(\"Best estimator:\\n{}\".format(grid_search.best_estimator_))\n",
    "#real one in testing data\n",
    "print('Accuracy on the testing set: {:.4f}'.format(grid_search.best_estimator_.score(X_test_scaled, y_test)))"
   ]
  },
  {
   "cell_type": "code",
   "execution_count": 386,
   "metadata": {},
   "outputs": [
    {
     "data": {
      "text/plain": [
       "DecisionTreeClassifier(class_weight=None, criterion='gini', max_depth=2,\n",
       "            max_features=None, max_leaf_nodes=None,\n",
       "            min_impurity_decrease=0.0, min_impurity_split=None,\n",
       "            min_samples_leaf=1, min_samples_split=2,\n",
       "            min_weight_fraction_leaf=0.0, presort=False, random_state=None,\n",
       "            splitter='best')"
      ]
     },
     "execution_count": 386,
     "metadata": {},
     "output_type": "execute_result"
    }
   ],
   "source": [
    "final_model = DecisionTreeClassifier(max_depth=grid_search.best_params_['max_depth'], \n",
    "                                     min_impurity_decrease=grid_search.best_params_['min_impurity_decrease'])\n",
    "final_model.fit(X, y)"
   ]
  },
  {
   "cell_type": "markdown",
   "metadata": {},
   "source": [
    "### Decision tree pipeline"
   ]
  },
  {
   "cell_type": "code",
   "execution_count": 387,
   "metadata": {},
   "outputs": [],
   "source": [
    "from sklearn.pipeline import Pipeline\n",
    "\n",
    "pipe = Pipeline([(\"Decision tree\", DecisionTreeClassifier(max_depth=2))])"
   ]
  },
  {
   "cell_type": "code",
   "execution_count": 388,
   "metadata": {},
   "outputs": [
    {
     "data": {
      "text/plain": [
       "Pipeline(memory=None,\n",
       "     steps=[('Decision tree', DecisionTreeClassifier(class_weight=None, criterion='gini', max_depth=2,\n",
       "            max_features=None, max_leaf_nodes=None,\n",
       "            min_impurity_decrease=0.0, min_impurity_split=None,\n",
       "            min_samples_leaf=1, min_samples_split=2,\n",
       "            min_weight_fraction_leaf=0.0, presort=False, random_state=None,\n",
       "            splitter='best'))])"
      ]
     },
     "execution_count": 388,
     "metadata": {},
     "output_type": "execute_result"
    }
   ],
   "source": [
    "X_train, X_test, y_train, y_test = train_test_split(\n",
    "    X, y, random_state=0, stratify=y)\n",
    "\n",
    "pipe.fit(X_train, y_train)"
   ]
  },
  {
   "cell_type": "code",
   "execution_count": 389,
   "metadata": {},
   "outputs": [
    {
     "name": "stdout",
     "output_type": "stream",
     "text": [
      "Decision tree pipeline test score: 0.852\n"
     ]
    }
   ],
   "source": [
    "print(\"Decision tree pipeline test score: {:.3f}\".format(pipe.score(X_test, y_test)))"
   ]
  },
  {
   "cell_type": "markdown",
   "metadata": {},
   "source": [
    "## KNeighborsClassifier"
   ]
  },
  {
   "cell_type": "code",
   "execution_count": 390,
   "metadata": {},
   "outputs": [
    {
     "name": "stderr",
     "output_type": "stream",
     "text": [
      "/Users/cuihao/anaconda3/lib/python3.6/site-packages/sklearn/preprocessing/data.py:323: DataConversionWarning: Data with input dtype int64 were all converted to float64 by MinMaxScaler.\n",
      "  return self.partial_fit(X, y)\n"
     ]
    }
   ],
   "source": [
    "X_train, X_test, y_train, y_test = train_test_split(X, y, random_state=0, stratify=y)\n",
    "\n",
    "# compute minimum and maximum on the training data\n",
    "scaler = MinMaxScaler().fit(X_train)"
   ]
  },
  {
   "cell_type": "code",
   "execution_count": 391,
   "metadata": {},
   "outputs": [
    {
     "name": "stdout",
     "output_type": "stream",
     "text": [
      "Test score: 0.8112\n"
     ]
    }
   ],
   "source": [
    "# rescale the training data\n",
    "X_train_scaled = scaler.transform(X_train)\n",
    "\n",
    "knn = KNeighborsClassifier()\n",
    "# learn an KNeighborsClassifier on the scaled training data\n",
    "knn.fit(X_train_scaled, y_train)\n",
    "# scale the test data and score the scaled data\n",
    "X_test_scaled = scaler.transform(X_test)\n",
    "\n",
    "print(\"Test score: {:.4f}\".format(knn.score(X_test_scaled, y_test)))"
   ]
  },
  {
   "cell_type": "markdown",
   "metadata": {},
   "source": [
    "### Hyperparameter Optimization"
   ]
  },
  {
   "cell_type": "markdown",
   "metadata": {},
   "source": [
    "#### MinMaxScaler"
   ]
  },
  {
   "cell_type": "code",
   "execution_count": 392,
   "metadata": {},
   "outputs": [
    {
     "name": "stderr",
     "output_type": "stream",
     "text": [
      "/Users/cuihao/anaconda3/lib/python3.6/site-packages/sklearn/preprocessing/data.py:323: DataConversionWarning: Data with input dtype int64 were all converted to float64 by MinMaxScaler.\n",
      "  return self.partial_fit(X, y)\n",
      "[Parallel(n_jobs=1)]: Using backend SequentialBackend with 1 concurrent workers.\n"
     ]
    },
    {
     "name": "stdout",
     "output_type": "stream",
     "text": [
      "Fitting 10 folds for each of 29 candidates, totalling 290 fits\n",
      "Test set score: 0.8163\n",
      "Best parameters: {'n_neighbors': 7}\n",
      "Best cross-validation score: 0.87\n",
      "Best estimator:\n",
      "KNeighborsClassifier(algorithm='auto', leaf_size=30, metric='minkowski',\n",
      "           metric_params=None, n_jobs=None, n_neighbors=7, p=2,\n",
      "           weights='uniform')\n",
      "Accuracy on the testing set: 0.8163\n"
     ]
    },
    {
     "name": "stderr",
     "output_type": "stream",
     "text": [
      "[Parallel(n_jobs=1)]: Done 290 out of 290 | elapsed:    1.8s finished\n"
     ]
    }
   ],
   "source": [
    "from sklearn.model_selection import GridSearchCV\n",
    "\n",
    "param_grid = {'n_neighbors': range(1,30,1)}\n",
    "\n",
    "\n",
    "grid_search = GridSearchCV(KNeighborsClassifier(), #CV cross validation\n",
    "                           param_grid, \n",
    "                           cv=10, \n",
    "                           verbose=1,\n",
    "                           iid = False,\n",
    "                           return_train_score=True)\n",
    "\n",
    "X_train, X_test, y_train, y_test = train_test_split(\n",
    "    X, y, random_state=0, stratify=y)\n",
    "\n",
    "# compute minimum and maximum on the training data\n",
    "scaler = MinMaxScaler().fit(X_train)\n",
    "\n",
    "# rescale the training data\n",
    "X_train_scaled = scaler.transform(X_train)\n",
    "X_test_scaled = scaler.transform(X_test)\n",
    "\n",
    "\n",
    "grid_search.fit(X_train_scaled, y_train)\n",
    "\n",
    "print(\"Test set score: {:.4f}\".format(grid_search.score(X_test_scaled, y_test)))\n",
    "print(\"Best parameters: {}\".format(grid_search.best_params_))\n",
    "print(\"Best cross-validation score: {:.2f}\".format(grid_search.best_score_))\n",
    "print(\"Best estimator:\\n{}\".format(grid_search.best_estimator_))\n",
    "#real one in testing data\n",
    "print('Accuracy on the testing set: {:.4f}'.format(grid_search.best_estimator_.score(X_test_scaled, y_test)))"
   ]
  },
  {
   "cell_type": "markdown",
   "metadata": {},
   "source": [
    "#### StandardScaler"
   ]
  },
  {
   "cell_type": "code",
   "execution_count": 393,
   "metadata": {},
   "outputs": [
    {
     "name": "stderr",
     "output_type": "stream",
     "text": [
      "/Users/cuihao/anaconda3/lib/python3.6/site-packages/sklearn/preprocessing/data.py:625: DataConversionWarning: Data with input dtype int64 were all converted to float64 by StandardScaler.\n",
      "  return self.partial_fit(X, y)\n",
      "/Users/cuihao/anaconda3/lib/python3.6/site-packages/ipykernel_launcher.py:20: DataConversionWarning: Data with input dtype int64 were all converted to float64 by StandardScaler.\n",
      "/Users/cuihao/anaconda3/lib/python3.6/site-packages/ipykernel_launcher.py:21: DataConversionWarning: Data with input dtype int64 were all converted to float64 by StandardScaler.\n",
      "[Parallel(n_jobs=1)]: Using backend SequentialBackend with 1 concurrent workers.\n"
     ]
    },
    {
     "name": "stdout",
     "output_type": "stream",
     "text": [
      "Fitting 10 folds for each of 29 candidates, totalling 290 fits\n",
      "Test set score: 0.8061\n",
      "Best parameters: {'n_neighbors': 27}\n",
      "Best cross-validation score: 0.86\n",
      "Best estimator:\n",
      "KNeighborsClassifier(algorithm='auto', leaf_size=30, metric='minkowski',\n",
      "           metric_params=None, n_jobs=None, n_neighbors=27, p=2,\n",
      "           weights='uniform')\n",
      "Accuracy on the testing set: 0.8061\n"
     ]
    },
    {
     "name": "stderr",
     "output_type": "stream",
     "text": [
      "[Parallel(n_jobs=1)]: Done 290 out of 290 | elapsed:    2.2s finished\n"
     ]
    }
   ],
   "source": [
    "from sklearn.model_selection import GridSearchCV\n",
    "\n",
    "param_grid = {'n_neighbors': range(1,30,1)}\n",
    "\n",
    "\n",
    "grid_search = GridSearchCV(KNeighborsClassifier(), #CV cross validation\n",
    "                           param_grid, \n",
    "                           cv=10, \n",
    "                           verbose=1,\n",
    "                           iid = False,\n",
    "                           return_train_score=True)\n",
    "\n",
    "X_train, X_test, y_train, y_test = train_test_split(\n",
    "    X, y, random_state=0, stratify=y)\n",
    "\n",
    "# compute minimum and maximum on the training data\n",
    "scaler = StandardScaler().fit(X_train)\n",
    "\n",
    "# rescale the training data\n",
    "X_train_scaled = scaler.transform(X_train)\n",
    "X_test_scaled = scaler.transform(X_test)\n",
    "\n",
    "\n",
    "grid_search.fit(X_train_scaled, y_train)\n",
    "\n",
    "print(\"Test set score: {:.4f}\".format(grid_search.score(X_test_scaled, y_test)))\n",
    "print(\"Best parameters: {}\".format(grid_search.best_params_))\n",
    "print(\"Best cross-validation score: {:.2f}\".format(grid_search.best_score_))\n",
    "print(\"Best estimator:\\n{}\".format(grid_search.best_estimator_))\n",
    "#real one in testing data\n",
    "print('Accuracy on the testing set: {:.4f}'.format(grid_search.best_estimator_.score(X_test_scaled, y_test)))"
   ]
  },
  {
   "cell_type": "markdown",
   "metadata": {},
   "source": [
    "#### RobustScaler"
   ]
  },
  {
   "cell_type": "code",
   "execution_count": 394,
   "metadata": {},
   "outputs": [
    {
     "name": "stdout",
     "output_type": "stream",
     "text": [
      "Fitting 10 folds for each of 29 candidates, totalling 290 fits\n"
     ]
    },
    {
     "name": "stderr",
     "output_type": "stream",
     "text": [
      "[Parallel(n_jobs=1)]: Using backend SequentialBackend with 1 concurrent workers.\n"
     ]
    },
    {
     "name": "stdout",
     "output_type": "stream",
     "text": [
      "Test set score: 0.8418\n",
      "Best parameters: {'n_neighbors': 10}\n",
      "Best cross-validation score: 0.88\n",
      "Best estimator:\n",
      "KNeighborsClassifier(algorithm='auto', leaf_size=30, metric='minkowski',\n",
      "           metric_params=None, n_jobs=None, n_neighbors=10, p=2,\n",
      "           weights='uniform')\n",
      "Accuracy on the testing set: 0.8418\n"
     ]
    },
    {
     "name": "stderr",
     "output_type": "stream",
     "text": [
      "[Parallel(n_jobs=1)]: Done 290 out of 290 | elapsed:    1.8s finished\n"
     ]
    }
   ],
   "source": [
    "from sklearn.model_selection import GridSearchCV\n",
    "\n",
    "param_grid = {'n_neighbors': range(1,30,1)}\n",
    "\n",
    "\n",
    "grid_search = GridSearchCV(KNeighborsClassifier(), #CV cross validation\n",
    "                           param_grid, \n",
    "                           cv=10, \n",
    "                           verbose=1,\n",
    "                           iid = False,\n",
    "                           return_train_score=True)\n",
    "\n",
    "X_train, X_test, y_train, y_test = train_test_split(\n",
    "    X, y, random_state=0, stratify=y)\n",
    "\n",
    "# compute minimum and maximum on the training data\n",
    "scaler = RobustScaler().fit(X_train)\n",
    "\n",
    "# rescale the training data\n",
    "X_train_scaled = scaler.transform(X_train)\n",
    "X_test_scaled = scaler.transform(X_test)\n",
    "\n",
    "\n",
    "grid_search.fit(X_train_scaled, y_train)\n",
    "\n",
    "print(\"Test set score: {:.4f}\".format(grid_search.score(X_test_scaled, y_test)))\n",
    "print(\"Best parameters: {}\".format(grid_search.best_params_))\n",
    "print(\"Best cross-validation score: {:.2f}\".format(grid_search.best_score_))\n",
    "print(\"Best estimator:\\n{}\".format(grid_search.best_estimator_))\n",
    "#real one in testing data\n",
    "print('Accuracy on the testing set: {:.4f}'.format(grid_search.best_estimator_.score(X_test_scaled, y_test)))"
   ]
  },
  {
   "cell_type": "markdown",
   "metadata": {},
   "source": [
    "#### RobustScaler performs the best among all scalers, with n_neighbors 10 and testing set accuracy 0.8418."
   ]
  },
  {
   "cell_type": "markdown",
   "metadata": {},
   "source": [
    "### KNeighborsClassifier Pipelines\n",
    "#### MinMaxScaler"
   ]
  },
  {
   "cell_type": "code",
   "execution_count": 397,
   "metadata": {},
   "outputs": [
    {
     "name": "stdout",
     "output_type": "stream",
     "text": [
      "Test score: 0.8163\n"
     ]
    },
    {
     "name": "stderr",
     "output_type": "stream",
     "text": [
      "/Users/cuihao/anaconda3/lib/python3.6/site-packages/sklearn/preprocessing/data.py:323: DataConversionWarning: Data with input dtype int64 were all converted to float64 by MinMaxScaler.\n",
      "  return self.partial_fit(X, y)\n"
     ]
    }
   ],
   "source": [
    "pipe = Pipeline([(\"scaler\", MinMaxScaler()), (\"knn\", KNeighborsClassifier(n_neighbors=7))])\n",
    "pipe.fit(X_train, y_train)\n",
    "print(\"Test score: {:.4f}\".format(pipe.score(X_test, y_test)))"
   ]
  },
  {
   "cell_type": "markdown",
   "metadata": {},
   "source": [
    "#### StandardScaler"
   ]
  },
  {
   "cell_type": "code",
   "execution_count": 398,
   "metadata": {},
   "outputs": [
    {
     "name": "stdout",
     "output_type": "stream",
     "text": [
      "Test score: 0.8061\n"
     ]
    },
    {
     "name": "stderr",
     "output_type": "stream",
     "text": [
      "/Users/cuihao/anaconda3/lib/python3.6/site-packages/sklearn/preprocessing/data.py:625: DataConversionWarning: Data with input dtype int64 were all converted to float64 by StandardScaler.\n",
      "  return self.partial_fit(X, y)\n",
      "/Users/cuihao/anaconda3/lib/python3.6/site-packages/sklearn/base.py:465: DataConversionWarning: Data with input dtype int64 were all converted to float64 by StandardScaler.\n",
      "  return self.fit(X, y, **fit_params).transform(X)\n",
      "/Users/cuihao/anaconda3/lib/python3.6/site-packages/sklearn/pipeline.py:511: DataConversionWarning: Data with input dtype int64 were all converted to float64 by StandardScaler.\n",
      "  Xt = transform.transform(Xt)\n"
     ]
    }
   ],
   "source": [
    "pipe = Pipeline([(\"scaler\", StandardScaler()), (\"knn\", KNeighborsClassifier(n_neighbors=27))])\n",
    "pipe.fit(X_train, y_train)\n",
    "print(\"Test score: {:.4f}\".format(pipe.score(X_test, y_test)))"
   ]
  },
  {
   "cell_type": "markdown",
   "metadata": {},
   "source": [
    "#### RobustScaler"
   ]
  },
  {
   "cell_type": "code",
   "execution_count": 404,
   "metadata": {},
   "outputs": [
    {
     "name": "stdout",
     "output_type": "stream",
     "text": [
      "Test score: 0.8418\n"
     ]
    }
   ],
   "source": [
    "pipe = Pipeline([(\"scaler\", RobustScaler()), (\"knn\", KNeighborsClassifier(n_neighbors=10))])\n",
    "pipe.fit(X_train, y_train)\n",
    "print(\"Test score: {:.4f}\".format(pipe.score(X_test, y_test)))"
   ]
  },
  {
   "cell_type": "markdown",
   "metadata": {},
   "source": [
    "#### By using the KNeighborsClassifier pipelines, we got the same as previous results."
   ]
  },
  {
   "cell_type": "markdown",
   "metadata": {},
   "source": [
    "## SVC-linear kernel\n",
    "#### MinMaxScaler"
   ]
  },
  {
   "cell_type": "code",
   "execution_count": 255,
   "metadata": {},
   "outputs": [
    {
     "name": "stdout",
     "output_type": "stream",
     "text": [
      "Accuracy: 0.8214285714285714\n"
     ]
    }
   ],
   "source": [
    "from sklearn.svm import SVC # \"Support vector classifier\"\n",
    "from sklearn.model_selection import train_test_split\n",
    "\n",
    "model = SVC(kernel='linear')\n",
    "\n",
    "X_train, X_test, y_train, y_test = train_test_split(\n",
    "    X, y, random_state=0, stratify=y)\n",
    "\n",
    "# compute minimum and maximum on the training data\n",
    "scaler = MinMaxScaler().fit(X_train.astype(np.float64))           \n",
    "\n",
    "# rescale the training data\n",
    "X_train_scaled = scaler.transform(X_train.astype(np.float64))\n",
    "X_test_scaled = scaler.transform(X_test.astype(np.float64))\n",
    "\n",
    "#Train the model using the training sets\n",
    "model.fit(X_train_scaled.astype(np.float64), y_train)\n",
    "\n",
    "#Predict the response for test dataset\n",
    "y_pred = model.predict(X_test_scaled.astype(np.float64))\n",
    "\n",
    "print(\"Accuracy:\",metrics.accuracy_score(y_test.astype(np.float64), y_pred))"
   ]
  },
  {
   "cell_type": "markdown",
   "metadata": {},
   "source": [
    "#### StandardScaler"
   ]
  },
  {
   "cell_type": "code",
   "execution_count": 256,
   "metadata": {},
   "outputs": [
    {
     "name": "stdout",
     "output_type": "stream",
     "text": [
      "Accuracy: 0.8163265306122449\n"
     ]
    }
   ],
   "source": [
    "model = SVC(kernel='linear')\n",
    "\n",
    "X_train, X_test, y_train, y_test = train_test_split(\n",
    "    X, y, random_state=0, stratify=y)\n",
    "\n",
    "# compute minimum and maximum on the training data\n",
    "scaler = StandardScaler().fit(X_train.astype(np.float64))            \n",
    "\n",
    "# rescale the training data\n",
    "X_train_scaled = scaler.transform(X_train.astype(np.float64))\n",
    "X_test_scaled = scaler.transform(X_test.astype(np.float64))\n",
    "\n",
    "#Train the model using the training sets\n",
    "model.fit(X_train_scaled, y_train)\n",
    "\n",
    "#Predict the response for test dataset\n",
    "y_pred = model.predict(X_test_scaled)\n",
    "\n",
    "print(\"Accuracy:\",metrics.accuracy_score(y_test.astype(np.float64), y_pred))"
   ]
  },
  {
   "cell_type": "markdown",
   "metadata": {},
   "source": [
    "#### RobustScaler"
   ]
  },
  {
   "cell_type": "code",
   "execution_count": 257,
   "metadata": {},
   "outputs": [
    {
     "name": "stdout",
     "output_type": "stream",
     "text": [
      "Accuracy: 0.8418367346938775\n"
     ]
    }
   ],
   "source": [
    "model = SVC(kernel='linear')\n",
    "\n",
    "X_train, X_test, y_train, y_test = train_test_split(\n",
    "    X, y, random_state=0, stratify=y)\n",
    "\n",
    "# compute minimum and maximum on the training data\n",
    "scaler = RobustScaler().fit(X_train)        \n",
    "\n",
    "# rescale the training data\n",
    "X_train_scaled = scaler.transform(X_train)\n",
    "X_test_scaled = scaler.transform(X_test)\n",
    "\n",
    "#Train the model using the training sets\n",
    "model.fit(X_train_scaled, y_train)\n",
    "\n",
    "#Predict the response for test dataset\n",
    "y_pred = model.predict(X_test_scaled)\n",
    "\n",
    "print(\"Accuracy:\",metrics.accuracy_score(y_test, y_pred))"
   ]
  },
  {
   "cell_type": "markdown",
   "metadata": {},
   "source": [
    "### SVC pipelines"
   ]
  },
  {
   "cell_type": "markdown",
   "metadata": {},
   "source": [
    "#### MinMaxScaler"
   ]
  },
  {
   "cell_type": "code",
   "execution_count": 258,
   "metadata": {},
   "outputs": [
    {
     "name": "stdout",
     "output_type": "stream",
     "text": [
      "Test score: 0.8214\n"
     ]
    }
   ],
   "source": [
    "pipe = Pipeline([(\"scaler\", MinMaxScaler()), (\"SVC\", SVC(kernel='linear'))])\n",
    "pipe.fit(X_train.astype(np.float64), y_train)\n",
    "print(\"Test score: {:.4f}\".format(pipe.score(X_test.astype(np.float64), y_test)))"
   ]
  },
  {
   "cell_type": "code",
   "execution_count": 268,
   "metadata": {},
   "outputs": [
    {
     "name": "stdout",
     "output_type": "stream",
     "text": [
      "Test score: 0.8061\n"
     ]
    },
    {
     "name": "stderr",
     "output_type": "stream",
     "text": [
      "/Users/cuihao/anaconda3/lib/python3.6/site-packages/sklearn/svm/base.py:196: FutureWarning: The default value of gamma will change from 'auto' to 'scale' in version 0.22 to account better for unscaled features. Set gamma explicitly to 'auto' or 'scale' to avoid this warning.\n",
      "  \"avoid this warning.\", FutureWarning)\n"
     ]
    }
   ],
   "source": [
    "pipe = Pipeline([(\"scaler\", MinMaxScaler()), (\"SVC\", SVC(kernel='rbf'))])\n",
    "pipe.fit(X_train.astype(np.float64), y_train)\n",
    "print(\"Test score: {:.4f}\".format(pipe.score(X_test.astype(np.float64), y_test)))"
   ]
  },
  {
   "cell_type": "code",
   "execution_count": 269,
   "metadata": {},
   "outputs": [
    {
     "name": "stdout",
     "output_type": "stream",
     "text": [
      "Test score: 0.7959\n"
     ]
    },
    {
     "name": "stderr",
     "output_type": "stream",
     "text": [
      "/Users/cuihao/anaconda3/lib/python3.6/site-packages/sklearn/svm/base.py:196: FutureWarning: The default value of gamma will change from 'auto' to 'scale' in version 0.22 to account better for unscaled features. Set gamma explicitly to 'auto' or 'scale' to avoid this warning.\n",
      "  \"avoid this warning.\", FutureWarning)\n"
     ]
    }
   ],
   "source": [
    "pipe = Pipeline([(\"scaler\", MinMaxScaler()), (\"SVC\", SVC(kernel='sigmoid'))])\n",
    "pipe.fit(X_train.astype(np.float64), y_train)\n",
    "print(\"Test score: {:.4f}\".format(pipe.score(X_test.astype(np.float64), y_test)))"
   ]
  },
  {
   "cell_type": "markdown",
   "metadata": {},
   "source": [
    "#### StandardScaler"
   ]
  },
  {
   "cell_type": "code",
   "execution_count": 259,
   "metadata": {},
   "outputs": [
    {
     "name": "stdout",
     "output_type": "stream",
     "text": [
      "Test score: 0.8163\n"
     ]
    }
   ],
   "source": [
    "pipe = Pipeline([(\"scaler\", StandardScaler()), (\"SVC\", SVC(kernel='linear'))])\n",
    "pipe.fit(X_train.astype(np.float64), y_train)\n",
    "print(\"Test score: {:.4f}\".format(pipe.score(X_test.astype(np.float64), y_test)))"
   ]
  },
  {
   "cell_type": "code",
   "execution_count": 266,
   "metadata": {},
   "outputs": [
    {
     "name": "stdout",
     "output_type": "stream",
     "text": [
      "Test score: 0.7806\n"
     ]
    },
    {
     "name": "stderr",
     "output_type": "stream",
     "text": [
      "/Users/cuihao/anaconda3/lib/python3.6/site-packages/sklearn/preprocessing/data.py:625: DataConversionWarning: Data with input dtype int64 were all converted to float64 by StandardScaler.\n",
      "  return self.partial_fit(X, y)\n",
      "/Users/cuihao/anaconda3/lib/python3.6/site-packages/sklearn/base.py:465: DataConversionWarning: Data with input dtype int64 were all converted to float64 by StandardScaler.\n",
      "  return self.fit(X, y, **fit_params).transform(X)\n",
      "/Users/cuihao/anaconda3/lib/python3.6/site-packages/sklearn/pipeline.py:511: DataConversionWarning: Data with input dtype int64 were all converted to float64 by StandardScaler.\n",
      "  Xt = transform.transform(Xt)\n"
     ]
    }
   ],
   "source": [
    "pipe = Pipeline([(\"scaler\", StandardScaler()), (\"SVC\", SVC(kernel='sigmoid'))])\n",
    "pipe.fit(X_train, y_train)\n",
    "print(\"Test score: {:.4f}\".format(pipe.score(X_test, y_test)))"
   ]
  },
  {
   "cell_type": "code",
   "execution_count": 267,
   "metadata": {},
   "outputs": [
    {
     "name": "stdout",
     "output_type": "stream",
     "text": [
      "Test score: 0.8214\n"
     ]
    },
    {
     "name": "stderr",
     "output_type": "stream",
     "text": [
      "/Users/cuihao/anaconda3/lib/python3.6/site-packages/sklearn/preprocessing/data.py:625: DataConversionWarning: Data with input dtype int64 were all converted to float64 by StandardScaler.\n",
      "  return self.partial_fit(X, y)\n",
      "/Users/cuihao/anaconda3/lib/python3.6/site-packages/sklearn/base.py:465: DataConversionWarning: Data with input dtype int64 were all converted to float64 by StandardScaler.\n",
      "  return self.fit(X, y, **fit_params).transform(X)\n",
      "/Users/cuihao/anaconda3/lib/python3.6/site-packages/sklearn/pipeline.py:511: DataConversionWarning: Data with input dtype int64 were all converted to float64 by StandardScaler.\n",
      "  Xt = transform.transform(Xt)\n"
     ]
    }
   ],
   "source": [
    "pipe = Pipeline([(\"scaler\", StandardScaler()), (\"SVC\", SVC(kernel='rbf'))])\n",
    "pipe.fit(X_train, y_train)\n",
    "print(\"Test score: {:.4f}\".format(pipe.score(X_test, y_test)))"
   ]
  },
  {
   "cell_type": "markdown",
   "metadata": {},
   "source": [
    "#### RobustScaler"
   ]
  },
  {
   "cell_type": "code",
   "execution_count": 260,
   "metadata": {},
   "outputs": [
    {
     "name": "stdout",
     "output_type": "stream",
     "text": [
      "Test score: 0.8418\n"
     ]
    }
   ],
   "source": [
    "pipe = Pipeline([(\"scaler\", RobustScaler()), (\"SVC\", SVC(kernel='linear'))])\n",
    "pipe.fit(X_train, y_train)\n",
    "print(\"Test score: {:.4f}\".format(pipe.score(X_test, y_test)))"
   ]
  },
  {
   "cell_type": "code",
   "execution_count": 262,
   "metadata": {},
   "outputs": [
    {
     "name": "stdout",
     "output_type": "stream",
     "text": [
      "Test score: 0.8367\n"
     ]
    },
    {
     "name": "stderr",
     "output_type": "stream",
     "text": [
      "/Users/cuihao/anaconda3/lib/python3.6/site-packages/sklearn/svm/base.py:196: FutureWarning: The default value of gamma will change from 'auto' to 'scale' in version 0.22 to account better for unscaled features. Set gamma explicitly to 'auto' or 'scale' to avoid this warning.\n",
      "  \"avoid this warning.\", FutureWarning)\n"
     ]
    }
   ],
   "source": [
    "pipe = Pipeline([(\"scaler\", RobustScaler()), (\"SVC\", SVC(kernel='rbf'))])\n",
    "pipe.fit(X_train, y_train)\n",
    "print(\"Test score: {:.4f}\".format(pipe.score(X_test, y_test)))"
   ]
  },
  {
   "cell_type": "code",
   "execution_count": 263,
   "metadata": {},
   "outputs": [
    {
     "name": "stdout",
     "output_type": "stream",
     "text": [
      "Test score: 0.8214\n"
     ]
    },
    {
     "name": "stderr",
     "output_type": "stream",
     "text": [
      "/Users/cuihao/anaconda3/lib/python3.6/site-packages/sklearn/svm/base.py:196: FutureWarning: The default value of gamma will change from 'auto' to 'scale' in version 0.22 to account better for unscaled features. Set gamma explicitly to 'auto' or 'scale' to avoid this warning.\n",
      "  \"avoid this warning.\", FutureWarning)\n"
     ]
    }
   ],
   "source": [
    "pipe = Pipeline([(\"scaler\", RobustScaler()), (\"SVC\", SVC(kernel='sigmoid'))])\n",
    "pipe.fit(X_train, y_train)\n",
    "print(\"Test score: {:.4f}\".format(pipe.score(X_test, y_test)))"
   ]
  },
  {
   "cell_type": "markdown",
   "metadata": {},
   "source": [
    "#### The pipeline results of SVC with linear kernel are almost the same with the previous results. Higher scores are obtained by using RobustScaler."
   ]
  },
  {
   "cell_type": "markdown",
   "metadata": {},
   "source": [
    "## Random Forest"
   ]
  },
  {
   "cell_type": "markdown",
   "metadata": {},
   "source": [
    "Random Forests don't need to scale the data, they are based on tree partitioning algorithms. Basically, any monotonic transformation of the data shouldn't change the forest at all (in the most common implementations)."
   ]
  },
  {
   "cell_type": "code",
   "execution_count": 270,
   "metadata": {},
   "outputs": [
    {
     "name": "stdout",
     "output_type": "stream",
     "text": [
      "Random forest accuracy: 0.8367\n"
     ]
    }
   ],
   "source": [
    "# Split dataset into training set and test set\n",
    "X_train, X_test, y_train, y_test = train_test_split(X, y, random_state=0, stratify=y) # 70% training and 30% test # , test_size=0.3\n",
    "\n",
    "RF = RandomForestClassifier(n_estimators=200, random_state=0)\n",
    "\n",
    "#Train the model using the training sets y_pred=clf.predict(X_test)\n",
    "RF.fit(X_train,y_train)\n",
    "\n",
    "y_pred_RF = RF.predict(X_test)\n",
    "\n",
    "print(\"Random forest accuracy:\",round(metrics.accuracy_score(y_test, y_pred_RF),4))"
   ]
  },
  {
   "cell_type": "markdown",
   "metadata": {},
   "source": [
    "### Hyperparameters optimization"
   ]
  },
  {
   "cell_type": "code",
   "execution_count": 271,
   "metadata": {},
   "outputs": [
    {
     "name": "stdout",
     "output_type": "stream",
     "text": [
      "Fitting 10 folds for each of 96 candidates, totalling 960 fits\n"
     ]
    },
    {
     "name": "stderr",
     "output_type": "stream",
     "text": [
      "[Parallel(n_jobs=1)]: Using backend SequentialBackend with 1 concurrent workers.\n"
     ]
    },
    {
     "name": "stdout",
     "output_type": "stream",
     "text": [
      "Test set score: 0.8571\n",
      "Best parameters: {'criterion': 'entropy', 'max_depth': 4, 'max_features': 'sqrt', 'n_estimators': 100}\n",
      "Best cross-validation score: 0.8905\n",
      "Best estimator:\n",
      "RandomForestClassifier(bootstrap=True, class_weight=None, criterion='entropy',\n",
      "            max_depth=4, max_features='sqrt', max_leaf_nodes=None,\n",
      "            min_impurity_decrease=0.0, min_impurity_split=None,\n",
      "            min_samples_leaf=1, min_samples_split=2,\n",
      "            min_weight_fraction_leaf=0.0, n_estimators=100, n_jobs=None,\n",
      "            oob_score=False, random_state=None, verbose=0,\n",
      "            warm_start=False)\n",
      "Accuracy on the testing set: 0.8571\n"
     ]
    },
    {
     "name": "stderr",
     "output_type": "stream",
     "text": [
      "[Parallel(n_jobs=1)]: Done 960 out of 960 | elapsed:  3.9min finished\n"
     ]
    }
   ],
   "source": [
    "param_grid = { \n",
    "    'n_estimators': [50, 100, 200, 500],\n",
    "    'max_features': ['auto', 'sqrt', 'log2'],\n",
    "    'max_depth' : [1,2,3,4],\n",
    "    'criterion' :['gini', 'entropy']\n",
    "}\n",
    "\n",
    "grid_search = GridSearchCV(RandomForestClassifier(), #CV cross validation\n",
    "                           param_grid, \n",
    "                           cv=10, \n",
    "                           verbose=1,\n",
    "                           iid = False,\n",
    "                           return_train_score=True)\n",
    "\n",
    "X_train, X_test, y_train, y_test = train_test_split(\n",
    "    X, y, random_state=0, stratify=y)\n",
    "\n",
    "# compute minimum and maximum on the training data\n",
    "scaler = MinMaxScaler().fit(X_train.astype(np.float64))\n",
    "\n",
    "# rescale the training data\n",
    "X_train_scaled = scaler.transform(X_train.astype(np.float64))\n",
    "X_test_scaled = scaler.transform(X_test.astype(np.float64))\n",
    "\n",
    "\n",
    "grid_search.fit(X_train_scaled.astype(np.float64), y_train)\n",
    "\n",
    "print(\"Test set score: {:.4f}\".format(grid_search.score(X_test_scaled.astype(np.float64), y_test)))\n",
    "print(\"Best parameters: {}\".format(grid_search.best_params_))\n",
    "print(\"Best cross-validation score: {:.4f}\".format(grid_search.best_score_))\n",
    "print(\"Best estimator:\\n{}\".format(grid_search.best_estimator_))\n",
    "#real one in testing data\n",
    "print('Accuracy on the testing set: {:.4f}'.format(grid_search.best_estimator_.score(X_test_scaled.astype(np.float64), y_test)))"
   ]
  },
  {
   "cell_type": "markdown",
   "metadata": {},
   "source": [
    "### Random forest pipeline"
   ]
  },
  {
   "cell_type": "code",
   "execution_count": 273,
   "metadata": {
    "scrolled": true
   },
   "outputs": [
    {
     "name": "stdout",
     "output_type": "stream",
     "text": [
      "Test score: 0.8571\n"
     ]
    }
   ],
   "source": [
    "pipe = Pipeline([(\"scaler\", MinMaxScaler()), (\"Random forest\", RandomForestClassifier(criterion='entropy', max_depth=4, max_features='sqrt', n_estimators=100))])\n",
    "pipe.fit(X_train.astype(np.float64), y_train)\n",
    "print(\"Test score: {:.4f}\".format(pipe.score(X_test.astype(np.float64), y_test)))"
   ]
  },
  {
   "cell_type": "markdown",
   "metadata": {},
   "source": [
    "#### In summary, when considering the text, the classifiers that produce the highest accuracy is the random forest classifier using CountVectorizer, with n_estimators=200 and max_depth=80, yielding an accuracy of 0.882. \n",
    "\n",
    "#### When considering other features, the best classifier is the random forest with entropy criterion, max_depth=4, max_features='sqrt' and n_estimators=100.\n",
    "\n",
    "#### For both SVC and KNN, the best performance are when using RobustScaler, giving accuracy 0.842."
   ]
  }
 ],
 "metadata": {
  "kernelspec": {
   "display_name": "Python 3",
   "language": "python",
   "name": "python3"
  },
  "language_info": {
   "codemirror_mode": {
    "name": "ipython",
    "version": 3
   },
   "file_extension": ".py",
   "mimetype": "text/x-python",
   "name": "python",
   "nbconvert_exporter": "python",
   "pygments_lexer": "ipython3",
   "version": "3.6.5"
  }
 },
 "nbformat": 4,
 "nbformat_minor": 2
}
